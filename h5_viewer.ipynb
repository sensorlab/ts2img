{
 "metadata": {
  "language_info": {
   "codemirror_mode": {
    "name": "ipython",
    "version": 3
   },
   "file_extension": ".py",
   "mimetype": "text/x-python",
   "name": "python",
   "nbconvert_exporter": "python",
   "pygments_lexer": "ipython3",
   "version": "3.8.3-final"
  },
  "orig_nbformat": 2,
  "kernelspec": {
   "name": "python3",
   "display_name": "Python 3",
   "language": "python"
  }
 },
 "nbformat": 4,
 "nbformat_minor": 2,
 "cells": [
  {
   "cell_type": "code",
   "execution_count": 47,
   "metadata": {},
   "outputs": [
    {
     "output_type": "execute_result",
     "data": {
      "text/plain": [
       "<Figure size 720x2160 with 0 Axes>"
      ]
     },
     "metadata": {},
     "execution_count": 47
    },
    {
     "output_type": "display_data",
     "data": {
      "text/plain": "<Figure size 720x2160 with 0 Axes>"
     },
     "metadata": {}
    }
   ],
   "source": [
    "import h5py\n",
    "import numpy as np\n",
    "\n",
    "import random\n",
    "from matplotlib import rcParams\n",
    "import matplotlib.pyplot as plt\n",
    "import pandas as pd\n",
    "import numpy as np\n",
    "from random import randint\n",
    "plt.style.use('ggplot')\n",
    "rcParams['figure.figsize'] = (12, 10)\n",
    "plt.figure(figsize=(10,30))"
   ]
  },
  {
   "cell_type": "code",
   "execution_count": 3,
   "metadata": {},
   "outputs": [],
   "source": [
    "#if file does not exist create new one (M-n of months A-n of appliances)\n",
    "file_name = \"REDD_13m_100S10X_8A1500N\"\n",
    "# file = h5py.File(\"D:/jjenko/nilm data/GAF_DS/\"f\"{file_name}\"\".hdf5\", \"w\")\n",
    "    \n",
    "def read_many_hdf5(group_name,image_set_name):\n",
    "    \"\"\" \n",
    "    Reads image from HDF5.\n",
    "\n",
    "    \"\"\"\n",
    "    images = []\n",
    "\n",
    "\n",
    "    # Open the HDF5 file\n",
    "    file = h5py.File(\"D:/jjenko/nilm data/GAF_DS/\"f\"{file_name}\"\".hdf5\", \"r+\")\n",
    "\n",
    "    images = np.array(file[f\"{group_name}\"\"/\"f\"{image_set_name}\"])\n",
    "\n",
    "    return images"
   ]
  },
  {
   "cell_type": "code",
   "execution_count": 111,
   "metadata": {},
   "outputs": [
    {
     "output_type": "stream",
     "name": "stdout",
     "text": [
      "['microwave', 'washer dryer', 'dish washer', 'electric stove', 'fridge', 'electric space heater', 'light']\n",
      "(3820,)\n",
      "(3820, 10, 100, 100, 1)\n"
     ]
    }
   ],
   "source": [
    "#reading h5 file example \n",
    "dataset= \"REDD\"\n",
    "path = \"D:/jjenko/nilm data/GAF_DS/\"\n",
    "#read the file\n",
    "file = h5py.File(f\"{path}\"\"/\"f\"{file_name}\"\".hdf5\", \"r+\")\n",
    "#fetch array of appliances\n",
    "enc_appliances = np.array(file[\"classes/appliances\"])\n",
    "manualy_selected_appliances  = [n.decode(\"utf-8\") for n in enc_appliances]\n",
    "\n",
    "\n",
    "print(manualy_selected_appliances)\n",
    "\n",
    "train_data = np.array(read_many_hdf5(\"data\",\"gasf\"))\n",
    "label_data = np.array(read_many_hdf5(\"labels\",\"gaf\"))\n",
    "\n",
    "print(label_data.shape)\n",
    "print(train_data.shape)"
   ]
  },
  {
   "cell_type": "code",
   "execution_count": 116,
   "metadata": {},
   "outputs": [],
   "source": [
    "labels = np.unique(label_data)\n",
    "for label in labels :\n",
    "    indexes_of_label = np.where(label_data == label)\n",
    "    for i in range(10):\n",
    "        # Show retrieved image\n",
    "        fig, ax = plt.subplots()\n",
    "        ax.imshow(train_data[random.choice(indexes_of_label[0]),randint(0,9),...,0], cmap='rainbow',origin='lower')\n",
    "        appl = manualy_selected_appliances[np.where(labels==label)[0][0]]\n",
    "        fig.savefig(\"D:/jjenko/nilm data/GAF_DS/imgs/\"f\"{dataset}\"\"/\"f\"{i}\"\"_\"f\"{appl}\"\".png\")\n",
    "        plt.close()\n"
   ]
  },
  {
   "cell_type": "code",
   "execution_count": 102,
   "metadata": {},
   "outputs": [
    {
     "output_type": "execute_result",
     "data": {
      "text/plain": [
       "'boiler'"
      ]
     },
     "metadata": {},
     "execution_count": 102
    }
   ],
   "source": []
  },
  {
   "cell_type": "code",
   "execution_count": 98,
   "metadata": {},
   "outputs": [
    {
     "output_type": "execute_result",
     "data": {
      "text/plain": [
       "4"
      ]
     },
     "metadata": {},
     "execution_count": 98
    }
   ],
   "source": [
    "np.where(labels==5)[0][0]"
   ]
  },
  {
   "cell_type": "code",
   "execution_count": null,
   "metadata": {},
   "outputs": [],
   "source": []
  }
 ]
}