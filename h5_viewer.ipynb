{
 "cells": [
  {
   "cell_type": "code",
   "execution_count": 2,
   "metadata": {},
   "outputs": [
    {
     "data": {
      "text/plain": [
       "<Figure size 720x2160 with 0 Axes>"
      ]
     },
     "execution_count": 2,
     "metadata": {},
     "output_type": "execute_result"
    },
    {
     "data": {
      "text/plain": [
       "<Figure size 720x2160 with 0 Axes>"
      ]
     },
     "metadata": {},
     "output_type": "display_data"
    }
   ],
   "source": [
    "import h5py\n",
    "import numpy as np\n",
    "\n",
    "import random\n",
    "from matplotlib import rcParams\n",
    "import matplotlib.pyplot as plt\n",
    "import pandas as pd\n",
    "import numpy as np\n",
    "from random import randint\n",
    "plt.style.use('ggplot')\n",
    "rcParams['figure.figsize'] = (12, 10)\n",
    "plt.figure(figsize=(10,30))"
   ]
  },
  {
   "cell_type": "code",
   "execution_count": 3,
   "metadata": {},
   "outputs": [],
   "source": [
    "#if file does not exist create new one (M-n of months A-n of appliances)\n",
    "file_name = \"REDD_GASF_60m_300S0X_8A60N_N-B_N-O\"\n",
    "# file = h5py.File(\"D:/jjenko/nilm data/GAF_DS/\"f\"{file_name}\"\".hdf5\", \"w\")\n",
    "    \n",
    "def read_many_hdf5(group_name,image_set_name):\n",
    "    \"\"\" \n",
    "    Reads image from HDF5.\n",
    "\n",
    "    \"\"\"\n",
    "    images = []\n",
    "\n",
    "\n",
    "    # Open the HDF5 file\n",
    "    file = h5py.File(\"D:/jjenko/nilm data/GAF_DS/\"f\"{file_name}\"\".hdf5\", \"r+\")\n",
    "\n",
    "    images = np.array(file[f\"{group_name}\"\"/\"f\"{image_set_name}\"])\n",
    "\n",
    "    return images"
   ]
  },
  {
   "cell_type": "code",
   "execution_count": 9,
   "metadata": {},
   "outputs": [
    {
     "name": "stdout",
     "output_type": "stream",
     "text": [
      "['microwave', 'dish washer', 'electric stove', 'fridge', 'electric space heater', 'light']\n",
      "labels (60,)\n",
      "building labels (60,)\n",
      "train data shape: (60, 300, 300, 1)\n"
     ]
    }
   ],
   "source": [
    "#reading h5 file example \n",
    "dataset= \"redd\"\n",
    "path = \"D:/jjenko/nilm data/GAF_DS/\"\n",
    "#read the file\n",
    "file = h5py.File(f\"{path}\"\"/\"f\"{file_name}\"\".hdf5\", \"r+\")\n",
    "#fetch array of appliances\n",
    "enc_appliances = np.array(file[\"classes/appliances\"])\n",
    "manualy_selected_appliances  = [n.decode(\"utf-8\") for n in enc_appliances]\n",
    "\n",
    "\n",
    "print(manualy_selected_appliances)\n",
    "\n",
    "train_data = np.array(file[\"data/gasf\"])\n",
    "label_data = np.array(file[\"labels/gaf\"])\n",
    "label_data_buildings = np.array(file[\"labels/building\"])\n",
    "print(\"labels\",label_data.shape)\n",
    "print(\"building labels\",label_data.shape)\n",
    "\n",
    "print(\"train data shape:\",train_data.shape)"
   ]
  },
  {
   "cell_type": "code",
   "execution_count": 10,
   "metadata": {},
   "outputs": [],
   "source": [
    "labels = np.unique(label_data)\n",
    "for label in labels :\n",
    "    indexes_of_label = np.where(label_data == label)\n",
    "    for i in range(10):\n",
    "        # Show retrieved image\n",
    "        fig, ax = plt.subplots()\n",
    "        #for multudim\n",
    "        #ax.imshow(train_data[random.choice(indexes_of_label[0]),randint(0,),...,0], cmap='rainbow',origin='lower')\n",
    "        #for 1D\n",
    "        ax.imshow(train_data[random.choice(indexes_of_label[0]),...,0], cmap='rainbow',origin='lower')\n",
    "        appl = manualy_selected_appliances[np.where(labels==label)[0][0]]\n",
    "        fig.savefig(\"D:/jjenko/nilm data/GAF_DS/imgs/\"f\"{dataset}\"\"/\"f\"{i}\"\"_\"f\"{appl}\"\".png\")\n",
    "        plt.close()\n"
   ]
  },
  {
   "cell_type": "code",
   "execution_count": 11,
   "metadata": {},
   "outputs": [
    {
     "ename": "NameError",
     "evalue": "name 'ret_imgs' is not defined",
     "output_type": "error",
     "traceback": [
      "\u001b[1;31m---------------------------------------------------------------------------\u001b[0m",
      "\u001b[1;31mNameError\u001b[0m                                 Traceback (most recent call last)",
      "\u001b[1;32m<ipython-input-11-ff96cbd2a73f>\u001b[0m in \u001b[0;36m<module>\u001b[1;34m\u001b[0m\n\u001b[0;32m      1\u001b[0m \u001b[0msomeN\u001b[0m \u001b[1;33m=\u001b[0m \u001b[1;36m5\u001b[0m\u001b[1;33m\u001b[0m\u001b[1;33m\u001b[0m\u001b[0m\n\u001b[0;32m      2\u001b[0m \u001b[0mfig\u001b[0m\u001b[1;33m,\u001b[0m \u001b[0max\u001b[0m \u001b[1;33m=\u001b[0m \u001b[0mplt\u001b[0m\u001b[1;33m.\u001b[0m\u001b[0msubplots\u001b[0m\u001b[1;33m(\u001b[0m\u001b[1;33m)\u001b[0m\u001b[1;33m\u001b[0m\u001b[1;33m\u001b[0m\u001b[0m\n\u001b[1;32m----> 3\u001b[1;33m \u001b[0max\u001b[0m\u001b[1;33m.\u001b[0m\u001b[0mimshow\u001b[0m\u001b[1;33m(\u001b[0m\u001b[0mret_imgs\u001b[0m\u001b[1;33m[\u001b[0m\u001b[0msomeN\u001b[0m\u001b[1;33m,\u001b[0m\u001b[1;36m1\u001b[0m\u001b[1;33m,\u001b[0m\u001b[1;33m...\u001b[0m\u001b[1;33m,\u001b[0m\u001b[1;36m0\u001b[0m\u001b[1;33m]\u001b[0m\u001b[1;33m,\u001b[0m \u001b[0mcmap\u001b[0m\u001b[1;33m=\u001b[0m\u001b[1;34m'rainbow'\u001b[0m\u001b[1;33m)\u001b[0m\u001b[1;33m\u001b[0m\u001b[1;33m\u001b[0m\u001b[0m\n\u001b[0m\u001b[0;32m      4\u001b[0m \u001b[0mprint\u001b[0m\u001b[1;33m(\u001b[0m\u001b[0mmanualy_selected_appliances\u001b[0m\u001b[1;33m[\u001b[0m\u001b[0mint\u001b[0m\u001b[1;33m(\u001b[0m\u001b[0mret_labels\u001b[0m\u001b[1;33m[\u001b[0m\u001b[0msomeN\u001b[0m\u001b[1;33m]\u001b[0m\u001b[1;33m)\u001b[0m\u001b[1;33m]\u001b[0m\u001b[1;33m)\u001b[0m\u001b[1;33m\u001b[0m\u001b[1;33m\u001b[0m\u001b[0m\n\u001b[0;32m      5\u001b[0m \u001b[0mprint\u001b[0m\u001b[1;33m(\u001b[0m\u001b[0mint\u001b[0m\u001b[1;33m(\u001b[0m\u001b[0mret_build\u001b[0m\u001b[1;33m[\u001b[0m\u001b[0msomeN\u001b[0m\u001b[1;33m]\u001b[0m\u001b[1;33m)\u001b[0m\u001b[1;33m)\u001b[0m\u001b[1;33m\u001b[0m\u001b[1;33m\u001b[0m\u001b[0m\n",
      "\u001b[1;31mNameError\u001b[0m: name 'ret_imgs' is not defined"
     ]
    },
    {
     "data": {
      "image/png": "[encoded data removed]",
      "text/plain": [
       "<Figure size 864x720 with 1 Axes>"
      ]
     },
     "metadata": {},
     "output_type": "display_data"
    }
   ],
   "source": [
    "someN = 5\n",
    "fig, ax = plt.subplots()\n",
    "ax.imshow(ret_imgs[someN,1,...,0], cmap='rainbow')\n",
    "print(manualy_selected_appliances[int(ret_labels[someN])])\n",
    "print(int(ret_build[someN]))"
   ]
  },
  {
   "cell_type": "code",
   "execution_count": null,
   "metadata": {},
   "outputs": [
    {
     "data": {
      "text/plain": [
       "(array([  0,   1,   2,   3,   4,   5,   6,   7,   8,   9,  10,  11,  12,\n",
       "         13,  14,  15,  16,  17,  18,  19,  20,  21,  22,  23,  24,  25,\n",
       "         26,  27,  28,  29,  30,  31,  32,  33,  34,  35,  36,  37,  38,\n",
       "         39,  40,  41,  42,  43,  44,  45,  46,  47,  48,  49,  50,  51,\n",
       "         52,  53,  54,  55,  56,  57,  58,  59,  60,  61,  62,  63,  64,\n",
       "         65,  66,  67,  68,  69,  70,  71,  72,  73,  74,  75,  76,  77,\n",
       "         78,  79,  80,  81,  82,  83,  84,  85,  86,  87,  88,  89,  90,\n",
       "         91,  92,  93,  94,  95,  96,  97,  98,  99, 100, 101, 102, 103,\n",
       "        104, 105, 106, 107, 108, 109, 110, 111, 112, 113, 114, 115, 116,\n",
       "        117, 118, 119], dtype=int64),)"
      ]
     },
     "execution_count": 33,
     "metadata": {},
     "output_type": "execute_result"
    }
   ],
   "source": [
    "np.where(np.logical_and(label_data==manualy_selected_appliances.index(\"computer monitor\"),label_data_buildings==1))"
   ]
  },
  {
   "cell_type": "code",
   "execution_count": null,
   "metadata": {},
   "outputs": [
    {
     "data": {
      "text/plain": [
       "(array([ 720,  721,  722,  723,  724,  725,  726,  727,  728,  729,  730,\n",
       "         731,  732,  733,  734,  735,  736,  737,  738,  739,  740,  741,\n",
       "         742,  743,  744,  745,  746,  747,  748,  749,  750,  751,  752,\n",
       "         753,  754,  755,  756,  757,  758,  759,  760,  761,  762,  763,\n",
       "         764,  765,  766,  767,  768,  769,  770,  771,  772,  773,  774,\n",
       "         775,  776,  777,  778,  779,  780,  781,  782,  783,  784,  785,\n",
       "         786,  787,  788,  789,  790,  791,  792,  793,  794,  795,  796,\n",
       "         797,  798,  799,  800,  801,  802,  803,  804,  805,  806,  807,\n",
       "         808,  809,  810,  811,  812,  813,  814,  815,  816,  817,  818,\n",
       "         819,  820,  821,  822,  823,  824,  825,  826,  827,  828,  829,\n",
       "         830,  831,  832,  833,  834,  835,  836,  837,  838,  839, 1080,\n",
       "        1081, 1082, 1083, 1084, 1085, 1086, 1087, 1088, 1089, 1090, 1091,\n",
       "        1092, 1093, 1094, 1095, 1096, 1097, 1098, 1099, 1100, 1101, 1102,\n",
       "        1103, 1104, 1105, 1106, 1107, 1108, 1109, 1110, 1111, 1112, 1113,\n",
       "        1114, 1115, 1116, 1117, 1118, 1119, 1120, 1121, 1122, 1123, 1124,\n",
       "        1125, 1126, 1127, 1128, 1129, 1130, 1131, 1132, 1133, 1134, 1135,\n",
       "        1136, 1137, 1138, 1139, 1140, 1141, 1142, 1143, 1144, 1145, 1146,\n",
       "        1147, 1148, 1149, 1150, 1151, 1152, 1153, 1154, 1155, 1156, 1157,\n",
       "        1158, 1159, 1160, 1161, 1162, 1163, 1164, 1165, 1166, 1167, 1168,\n",
       "        1169, 1170, 1171, 1172, 1173, 1174, 1175, 1176, 1177, 1178, 1179,\n",
       "        1180, 1181, 1182, 1183, 1184, 1185, 1186, 1187, 1188, 1189, 1190,\n",
       "        1191, 1192, 1193, 1194, 1195, 1196, 1372, 1373, 1374, 1375, 1376,\n",
       "        1377, 1378, 1379, 1380, 1381, 1382, 1383, 1384, 1385, 1386, 1387,\n",
       "        1388, 1389, 1390, 1391, 1392, 1393, 1394, 1395, 1396, 1397, 1398,\n",
       "        1399, 1400, 1401, 1402, 1403, 1404, 1405, 1406, 1407, 1408, 1409,\n",
       "        1410, 1411, 1412, 1413, 1414, 1415, 1416, 1417, 1418, 1419, 1420,\n",
       "        1421, 1422, 1423, 1424, 1425, 1426, 1427, 1428, 1429, 1430, 1431,\n",
       "        1432, 1433, 1434, 1435, 1436, 1437, 1438, 1439, 1440, 1441, 1442,\n",
       "        1443, 1444, 1445, 1446, 1447, 1448, 1449, 1450, 1451, 1452, 1453,\n",
       "        1454, 1455, 1456, 1457, 1458, 1459, 1460, 1461, 1462, 1463, 1464,\n",
       "        1465, 1466, 1467, 1468, 1469, 1470, 1471, 1472, 1473, 1474, 1475,\n",
       "        1476, 1477, 1478, 1479, 1480, 1481, 1482, 1483, 1484, 1485, 1486,\n",
       "        1487, 1488, 1609, 1610, 1611, 1612, 1613, 1614, 1615, 1616, 1617,\n",
       "        1618, 1619, 1620, 1621, 1622, 1623, 1624, 1625, 1626, 1627, 1628,\n",
       "        1629, 1630, 1631, 1632, 1633, 1634, 1635, 1636, 1637, 1638, 1639,\n",
       "        1640, 1641, 1642, 1643, 1644, 1645, 1646, 1647, 1648, 1649, 1650,\n",
       "        1651, 1652, 1653, 1654, 1655, 1656, 1657, 1658, 1659, 1660, 1661,\n",
       "        1662, 1663, 1664, 1665, 1666, 1667, 1668, 1669, 1670, 1671, 1672,\n",
       "        1673, 1674, 1675, 1676, 1677, 1678, 1679, 1680, 1681, 1682, 1683,\n",
       "        1684, 1685, 1686, 1687, 1688, 1689, 1690, 1691, 1692, 1693, 1694,\n",
       "        1695, 1696, 1697, 1698, 1699, 1700, 1701, 1702, 1703, 1704, 1705,\n",
       "        1706, 1707, 1708, 1709, 1710, 1711, 1712, 1713, 1714, 1715, 1716,\n",
       "        1717, 1718, 1719, 1720, 1721, 1722, 1723, 1724, 1725, 1726, 1727,\n",
       "        1728, 2329, 2330, 2331, 2332, 2333, 2334, 2335, 2336, 2337, 2338,\n",
       "        2339, 2340, 2341, 2342, 2343, 2344, 2345, 2346, 2347, 2348, 2349,\n",
       "        2350, 2351, 2352, 2353, 2354, 2355, 2356, 2357, 2358, 2359, 2360,\n",
       "        2361, 2362, 2363, 2364, 2365, 2366, 2367, 2368, 2369, 2370, 2371,\n",
       "        2372, 2373, 2374, 2375, 2376, 2377, 2378, 2379, 2380, 2381, 2382,\n",
       "        2383, 2384, 2385, 2386, 2387, 2388, 2389, 2390, 2391, 2392, 2393,\n",
       "        2394, 2395, 2396, 2397, 2398, 2399, 2400, 2401, 2402, 2403, 2404,\n",
       "        2405, 2406, 2407, 2408, 2409, 2410, 2411, 2412, 2413, 2414, 2415,\n",
       "        2416, 2417, 2418, 2419, 2420, 2421, 2422, 2423, 2424, 2425, 2426,\n",
       "        2427, 2428, 2429, 2430, 2431, 2432, 2433, 2434, 2435, 2436, 2437,\n",
       "        2438, 2439, 2440, 2441, 2442, 2443, 2444, 2445, 2446, 2447, 2448,\n",
       "        2689, 2690, 2691, 2692, 2693, 2694, 2695, 2696, 2697, 2698, 2699,\n",
       "        2700, 2701, 2702, 2703, 2704, 2705, 2706, 2707, 2708, 2709, 2710,\n",
       "        2711, 2712, 2713, 2714, 2715, 2716, 2717, 2718, 2719, 2720, 2721,\n",
       "        2722, 2723, 2724, 2725, 2726, 2727, 2728, 2729, 2730, 2731, 2732,\n",
       "        2733, 2734, 2735, 2736, 2737, 2738, 2739, 2740, 2741, 2742, 2743,\n",
       "        2744, 2745, 2746, 2747, 2748, 2749, 2750, 2751, 2752, 2753, 2754,\n",
       "        2755, 2756, 2757, 2758, 2759, 2760, 2761, 2762, 2763, 2764, 2765,\n",
       "        2766, 2767, 2768, 2769, 2770, 2771, 2772, 2773, 2774, 2775, 2776,\n",
       "        2777, 2778, 2779, 2780, 2781, 2782, 2783, 2784, 2785, 2786, 2787,\n",
       "        2788, 2789, 2790, 2791, 2792, 2793, 2794, 2795, 2796, 2797, 2798,\n",
       "        2799, 2800, 2801, 2802, 2803, 2804, 2805, 2806, 2807, 2808],\n",
       "       dtype=int64),)"
      ]
     },
     "execution_count": 29,
     "metadata": {},
     "output_type": "execute_result"
    }
   ],
   "source": [
    "np.where(label_data_buildings==4)"
   ]
  },
  {
   "cell_type": "code",
   "execution_count": null,
   "metadata": {},
   "outputs": [
    {
     "data": {
      "text/plain": [
       "0"
      ]
     },
     "execution_count": 18,
     "metadata": {},
     "output_type": "execute_result"
    }
   ],
   "source": [
    "manualy_selected_appliances.index(\"computer monitor\")"
   ]
  }
 ],
 "metadata": {
  "kernelspec": {
   "display_name": "Python 3",
   "language": "python",
   "name": "python3"
  },
  "language_info": {
   "name": "python",
   "version": ""
  },
  "orig_nbformat": 2
 },
 "nbformat": 4,
 "nbformat_minor": 2
}