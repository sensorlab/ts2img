{
  "nbformat": 4,
  "nbformat_minor": 0,
  "metadata": {
    "language_info": {
      "codemirror_mode": {
        "name": "ipython",
        "version": 3
      },
      "file_extension": ".py",
      "mimetype": "text/x-python",
      "name": "python",
      "nbconvert_exporter": "python",
      "pygments_lexer": "ipython3",
      "version": "3.8.3-final"
    },
    "orig_nbformat": 2,
    "kernelspec": {
      "name": "python3",
      "display_name": "Python 3",
      "language": "python"
    },
    "colab": {
      "name": "gaf-cnn-colab.ipynb",
      "provenance": [],
      "collapsed_sections": [],
      "include_colab_link": true
    },
    "accelerator": "GPU"
  },
  "cells": [
    {
      "cell_type": "code",
      "metadata": {
        "id": "YdIfOeCYFZrz"
      },
      "source": [
        "import numpy as np\n",
        "import h5py\n",
        "from sklearn.model_selection import train_test_split\n",
        "from sklearn.utils import class_weight\n",
        "from sklearn.metrics import classification_report, confusion_matrix \n",
        "\n",
        "import tensorflow as tf\n",
        "from tensorflow import keras\n",
        "from tensorflow.keras import layers, optimizers\n",
        "from tensorflow.keras.layers import Conv2D, Dense, Flatten, Activation, MaxPooling2D, Input, Conv1D, GlobalAveragePooling1D"
      ],
      "execution_count": 1,
      "outputs": []
    },
    {
      "cell_type": "code",
      "metadata": {
        "id": "3o1b96nZHJI-",
        "colab": {
          "base_uri": "https://localhost:8080/"
        },
        "outputId": "e4ce42f3-6a34-4f9a-ab93-8f10f4216a59"
      },
      "source": [
        "from google.colab import drive\n",
        "drive.mount('/content/drive')"
      ],
      "execution_count": 3,
      "outputs": [
        {
          "output_type": "error",
          "ename": "ModuleNotFoundError",
          "evalue": "No module named 'google.colab'",
          "traceback": [
            "\u001b[1;31m---------------------------------------------------------------------------\u001b[0m",
            "\u001b[1;31mModuleNotFoundError\u001b[0m                       Traceback (most recent call last)",
            "\u001b[1;32m<ipython-input-3-d5df0069828e>\u001b[0m in \u001b[0;36m<module>\u001b[1;34m\u001b[0m\n\u001b[1;32m----> 1\u001b[1;33m \u001b[1;32mfrom\u001b[0m \u001b[0mgoogle\u001b[0m\u001b[1;33m.\u001b[0m\u001b[0mcolab\u001b[0m \u001b[1;32mimport\u001b[0m \u001b[0mdrive\u001b[0m\u001b[1;33m\u001b[0m\u001b[1;33m\u001b[0m\u001b[0m\n\u001b[0m\u001b[0;32m      2\u001b[0m \u001b[0mdrive\u001b[0m\u001b[1;33m.\u001b[0m\u001b[0mmount\u001b[0m\u001b[1;33m(\u001b[0m\u001b[1;34m'/content/drive'\u001b[0m\u001b[1;33m)\u001b[0m\u001b[1;33m\u001b[0m\u001b[1;33m\u001b[0m\u001b[0m\n",
            "\u001b[1;31mModuleNotFoundError\u001b[0m: No module named 'google.colab'"
          ]
        }
      ]
    },
    {
      "cell_type": "code",
      "metadata": {
        "id": "3CqC33FIHW41",
        "colab": {
          "base_uri": "https://localhost:8080/"
        },
        "outputId": "f76c8ea2-6a0e-4dcb-dbd4-b3ad825cb8a5"
      },
      "source": [
        "ls"
      ],
      "execution_count": 2,
      "outputs": [
        {
          "output_type": "stream",
          "name": "stdout",
          "text": [
            " Volume in drive D is Data\n",
            " Volume Serial Number is 3607-76B7\n",
            "\n",
            " Directory of D:\\jjenko\n",
            "\n",
            "22.03.2021  23:38    <DIR>          .\n",
            "22.03.2021  23:38    <DIR>          ..\n",
            "22.03.2021  23:38    <DIR>          .ipynb_checkpoints\n",
            "08.03.2021  16:04    <DIR>          learning\n",
            "08.03.2021  16:28    <DIR>          nilm data\n",
            "28.02.2021  22:11    <DIR>          OPVTK\n",
            "17.02.2021  17:03             1.675 pctomac\n",
            "17.02.2021  17:03               403 pctomac.pub\n",
            "16.02.2021  11:28    <DIR>          WINDOWS\n",
            "               2 File(s)          2.078 bytes\n",
            "               7 Dir(s)  2.719.726.612.480 bytes free\n"
          ]
        }
      ]
    },
    {
      "cell_type": "code",
      "metadata": {
        "id": "3rJTTA4HFZr5"
      },
      "source": [
        "#file_name = \"UKDALE_GAF_1h\"\n",
        "#file_name =\"UKDALE_GAF_1h_18M9A1000N\"\n",
        "#file_name= \"UKDALE_GAF_1h_12M10A300N\"\n",
        "file_name = \"UKDALE_GAF_1h_12M10A500N\"\n",
        "\n",
        "#path = \"/content/drive/MyDrive/Colab Notebooks/NILM/GAF_DS\"\n",
        "path = \"D:/jjenko/nilm data/GAF_DS\"\n",
        "\n",
        "try:\n",
        "    h5py.File(f\"{path}\"\"/\"f\"{file_name}\"\".hdf5\",\"r\")\n",
        "    print(\"file exists, reading it...\")\n",
        "except:\n",
        "    print(\"does not exist, creating it...\")\n",
        "    file = h5py.File(f\"{path}\"\"/\"f\"{file_name}\"\".hdf5\", \"w\")\n",
        "\n",
        "def read_many_hdf5(group_name,image_set_name):\n",
        "    \"\"\" \n",
        "    Reads image from HDF5.\n",
        "    \"\"\"\n",
        "    images = []\n",
        "\n",
        "    # Open the HDF5 file\n",
        "    file = h5py.File(f\"{path}\"\"/\"f\"{file_name}\"\".hdf5\", \"r+\")\n",
        "\n",
        "    images = np.array(file[f\"{group_name}\"\"/\"f\"{image_set_name}\"])\n",
        "\n",
        "    return images"
      ],
      "execution_count": 3,
      "outputs": [
        {
          "output_type": "stream",
          "name": "stdout",
          "text": [
            "file exists, reading it...\n"
          ]
        }
      ]
    },
    {
      "cell_type": "code",
      "metadata": {
        "id": "xsqw6Z6RFZr8"
      },
      "source": [
        "def basic_cnn_functional(X_train, num_classes, lr = 0.0001):\n",
        "    \n",
        "    input1 = Input(shape = X_train.shape[1: ])\n",
        "    cnn = Conv2D(filters = 32, kernel_size = (7,7), strides = (2,2), activation='relu', padding = 'same')(input1)\n",
        "    cnn1 = Conv2D(filters = 16, kernel_size =  (7,7), strides = (2,2), activation='relu', padding = 'same')(cnn)\n",
        "    cnn2 = Conv2D(filters = 16, kernel_size =  (7,7), strides = (1,1), activation='relu', padding = 'same')(cnn1)\n",
        "    cnn3 = Conv2D(filters = 8, kernel_size =  (7,7), strides = (1,1), activation='relu', padding = 'same')(cnn2)\n",
        "    cnn4 = Conv2D(filters = 4, kernel_size =  (7,7), strides = (1,1), padding = 'same')(cnn3)\n",
        "    act = Activation('relu')(cnn3)\n",
        "    maxP = MaxPooling2D(pool_size = (2,2))(act)\n",
        "\n",
        "    # prior layer should be flattend to be connected to dense layers\n",
        "    Flatt = Flatten()(maxP)\n",
        "    # dense layer with 50 neurons\n",
        "    dense = Dense(32, activation = 'relu')(Flatt)\n",
        "    # final layer with 10 neurons to classify the instances\n",
        "    output = Dense(num_classes, activation = 'softmax')(dense)\n",
        "    \n",
        "    adam = optimizers.Adam(lr = lr)#lahko SGD uporabs tud\n",
        "    model = keras.models.Model(inputs=input1, outputs=output)\n",
        "    model.compile(loss = 'categorical_crossentropy', optimizer = adam, metrics = ['accuracy'])\n",
        "\n",
        "    return model    \n"
      ],
      "execution_count": 4,
      "outputs": []
    },
    {
      "cell_type": "code",
      "metadata": {
        "id": "abf3UR7BWmw9"
      },
      "source": [
        "def transfer_learning(X_train, num_classes, lr):\n",
        "    base_model = keras.applications.ResNet50V2(\n",
        "        weights=None,#'imagenet',  # Load weights pre-trained on ImageNet.\n",
        "        input_shape=(300, 300, 1),\n",
        "        include_top=False)  # Do not include the ImageNet classifier at the top.\n",
        "\n",
        "    base_model.trainable = True\n",
        "\n",
        "    inputs = keras.Input(shape = X_train.shape[1: ])\n",
        "    # We make sure that the base_model is running in inference mode here,\n",
        "    # by passing `training=False`. This is important for fine-tuning, as you will\n",
        "    # learn in a few paragraphs.\n",
        "\n",
        "    x = base_model(inputs, training=True)\n",
        "    x = keras.layers.Flatten()(x)\n",
        "    outputs = keras.layers.Dense(num_classes, activation='softmax')(x)\n",
        "    model = keras.Model(inputs, outputs)\n",
        "\n",
        "    model.compile(optimizer=keras.optimizers.Adam(lr = lr),\n",
        "                  loss='categorical_crossentropy',\n",
        "                  metrics=['accuracy'])\n",
        "    return model"
      ],
      "execution_count": 31,
      "outputs": []
    },
    {
      "cell_type": "code",
      "metadata": {
        "id": "uqZMqwivFZr8",
        "colab": {
          "base_uri": "https://localhost:8080/"
        },
        "outputId": "c217ac62-f20d-4b29-e748-9109c35e9cda"
      },
      "source": [
        "#manualy_selected_appliances = [\"computer monitor\", \"laptop computer\", \"washer dryer\", \"microwave\",\"oven\",\"boiler\",\"toaster\",\"kettle\"]\n",
        "\n",
        "#removed oven! - data looks fishy\n",
        "manualy_selected_appliances = [\"computer monitor\", \"laptop computer\", \"television\", \"washer dryer\", \"microwave\",\"toaster\",\"boiler\",\"kettle\",\"fridge\"]\n",
        "\n",
        "#train_data = read_many_hdf5(\"washer dryer\",\"gasf\")\n",
        "\n",
        "train_data = np.empty([0,300,300,1])# -> change size to match GAF image size\n",
        "label_data = np.empty([0,1],dtype=object)# -> change size to match GAF image size\n",
        "tmp = np.empty([1,1],dtype=object)# -> change size to match GAF image size\n",
        "\n",
        "#generate labels and read data\n",
        "for appliance in manualy_selected_appliances:\n",
        "    data = np.array(read_many_hdf5(f\"{appliance}\",\"gasf\"))\n",
        "    data = data[...,np.newaxis]\n",
        "    train_data = np.append(train_data,data,axis=0)\n",
        "    labels = np.repeat(np.array([[f\"{manualy_selected_appliances.index(appliance)}\"]],dtype=object),data.shape[0],axis=0)\n",
        "    label_data = np.append(label_data,labels,axis=0)\n",
        "print(label_data.shape)\n",
        "print(train_data.shape)"
      ],
      "execution_count": 32,
      "outputs": [
        {
          "output_type": "stream",
          "name": "stdout",
          "text": [
            "(4500, 1)\n(4500, 300, 300, 1)\n"
          ]
        }
      ]
    },
    {
      "cell_type": "code",
      "metadata": {
        "id": "QWlOUYvrFZr-",
        "colab": {
          "base_uri": "https://localhost:8080/"
        },
        "outputId": "6c24533d-3225-4096-891b-99ff362d339d"
      },
      "source": [
        "num_frames = train_data.shape[0]\n",
        "shape_x = train_data.shape[1]\n",
        "shape_y = train_data.shape[2]\n",
        "channel = train_data.shape[3]\n",
        "\n",
        "num_of_classes = len(manualy_selected_appliances)\n",
        "\n",
        "y_anomF = tf.keras.utils.to_categorical(label_data, num_classes=num_of_classes) #onehot encoding\n",
        "X_resampled = train_data.reshape(train_data.shape[0],300, 300,1)\n",
        "print(X_resampled.shape)\n",
        "X_train, X_test, y_train, y_test = train_test_split(X_resampled, y_anomF, test_size=0.2, random_state=42)\n",
        "print(X_train.shape)\n",
        "print(y_train.shape)\n",
        "\n",
        "#load model, add training data, n of classes and learning rate\n",
        "#model = basic_cnn_functional(X_train, num_of_classes, lr = 0.001)\n",
        "model = transfer_learning(X_train,num_of_classes,lr = 0.001)\n",
        "\n",
        "class_weights = {0: 1.,\n",
        "                1: 1.,\n",
        "                2: 1.,\n",
        "                3: 1.,\n",
        "                4: 1.,\n",
        "                5: 1.,\n",
        "                6: 1.,\n",
        "                7: 1.,\n",
        "                8: 1.,\n",
        "                9: 1,\n",
        "                10: 1}\n",
        "\n",
        "model.fit(X_train, y_train, batch_size = 16, validation_split = 0.2, epochs = 20, verbose = 1, class_weight=class_weights)\n",
        "\n",
        "results = model.evaluate(X_test, y_test, verbose = 2)\n",
        "print('Test accuracy: ', results[1])\n",
        "Y_pred = model.predict(X_test, verbose = 2)\n",
        "y_pred = np.argmax(Y_pred, axis=1)\n",
        "Y_test = np.argmax(y_test, axis=-1)\n",
        "print(confusion_matrix(Y_test, y_pred))\n",
        "print(classification_report(Y_test, y_pred, target_names=manualy_selected_appliances))\n",
        "#precision for various datassets - to see if more data helps\n",
        "#window times for various appliances"
      ],
      "execution_count": 1,
      "outputs": [
        {
          "output_type": "error",
          "ename": "NameError",
          "evalue": "name 'train_data' is not defined",
          "traceback": [
            "\u001b[1;31m---------------------------------------------------------------------------\u001b[0m",
            "\u001b[1;31mNameError\u001b[0m                                 Traceback (most recent call last)",
            "\u001b[1;32m<ipython-input-1-61ad0f788bf1>\u001b[0m in \u001b[0;36m<module>\u001b[1;34m\u001b[0m\n\u001b[1;32m----> 1\u001b[1;33m \u001b[0mnum_frames\u001b[0m \u001b[1;33m=\u001b[0m \u001b[0mtrain_data\u001b[0m\u001b[1;33m.\u001b[0m\u001b[0mshape\u001b[0m\u001b[1;33m[\u001b[0m\u001b[1;36m0\u001b[0m\u001b[1;33m]\u001b[0m\u001b[1;33m\u001b[0m\u001b[1;33m\u001b[0m\u001b[0m\n\u001b[0m\u001b[0;32m      2\u001b[0m \u001b[0mshape_x\u001b[0m \u001b[1;33m=\u001b[0m \u001b[0mtrain_data\u001b[0m\u001b[1;33m.\u001b[0m\u001b[0mshape\u001b[0m\u001b[1;33m[\u001b[0m\u001b[1;36m1\u001b[0m\u001b[1;33m]\u001b[0m\u001b[1;33m\u001b[0m\u001b[1;33m\u001b[0m\u001b[0m\n\u001b[0;32m      3\u001b[0m \u001b[0mshape_y\u001b[0m \u001b[1;33m=\u001b[0m \u001b[0mtrain_data\u001b[0m\u001b[1;33m.\u001b[0m\u001b[0mshape\u001b[0m\u001b[1;33m[\u001b[0m\u001b[1;36m2\u001b[0m\u001b[1;33m]\u001b[0m\u001b[1;33m\u001b[0m\u001b[1;33m\u001b[0m\u001b[0m\n\u001b[0;32m      4\u001b[0m \u001b[0mchannel\u001b[0m \u001b[1;33m=\u001b[0m \u001b[0mtrain_data\u001b[0m\u001b[1;33m.\u001b[0m\u001b[0mshape\u001b[0m\u001b[1;33m[\u001b[0m\u001b[1;36m3\u001b[0m\u001b[1;33m]\u001b[0m\u001b[1;33m\u001b[0m\u001b[1;33m\u001b[0m\u001b[0m\n\u001b[0;32m      5\u001b[0m \u001b[1;33m\u001b[0m\u001b[0m\n",
            "\u001b[1;31mNameError\u001b[0m: name 'train_data' is not defined"
          ]
        }
      ]
    },
    {
      "cell_type": "code",
      "execution_count": null,
      "metadata": {},
      "outputs": [],
      "source": []
    }
  ]
}