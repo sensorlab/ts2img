{
  "nbformat": 4,
  "nbformat_minor": 0,
  "metadata": {
    "language_info": {
      "codemirror_mode": {
        "name": "ipython",
        "version": 3
      },
      "file_extension": ".py",
      "mimetype": "text/x-python",
      "name": "python",
      "nbconvert_exporter": "python",
      "pygments_lexer": "ipython3",
      "version": "3.8.3-final"
    },
    "orig_nbformat": 2,
    "kernelspec": {
      "name": "python3",
      "display_name": "python3",
      "language": ""
    },
    "colab": {
      "name": "gaf-cnn-colab.ipynb",
      "provenance": [],
      "collapsed_sections": [],
      "include_colab_link": true
    },
    "accelerator": "GPU"
  },
  "cells": [
    {
      "cell_type": "markdown",
      "metadata": {
        "id": "view-in-github",
        "colab_type": "text"
      },
      "source": [
        "<a href=\"https://colab.research.google.com/github/jenkoj/nilm-gaf/blob/main/gaf_cnn.ipynb\" target=\"_parent\"><img src=\"https://colab.research.google.com/assets/colab-badge.svg\" alt=\"Open In Colab\"/></a>"
      ]
    },
    {
      "cell_type": "code",
      "metadata": {
        "id": "YdIfOeCYFZrz"
      },
      "source": [
        "import numpy as np\n",
        "import h5py\n",
        "from sklearn.model_selection import train_test_split\n",
        "from sklearn.utils import class_weight\n",
        "from sklearn.metrics import classification_report, confusion_matrix \n",
        "\n",
        "import tensorflow as tf\n",
        "from tensorflow import keras\n",
        "from tensorflow.keras import layers, optimizers\n",
        "from tensorflow.keras.layers import Conv2D, Dense, Flatten, Activation, MaxPooling2D, Input, Conv1D, GlobalAveragePooling1D"
      ],
      "execution_count": 64,
      "outputs": []
    },
    {
      "cell_type": "code",
      "metadata": {
        "id": "3o1b96nZHJI-",
        "colab": {
          "base_uri": "https://localhost:8080/"
        },
        "outputId": "e4ce42f3-6a34-4f9a-ab93-8f10f4216a59"
      },
      "source": [
        "from google.colab import drive\n",
        "drive.mount('/content/drive')"
      ],
      "execution_count": 2,
      "outputs": [
        {
          "output_type": "stream",
          "text": [
            "Mounted at /content/drive\n"
          ],
          "name": "stdout"
        }
      ]
    },
    {
      "cell_type": "code",
      "metadata": {
        "id": "3CqC33FIHW41",
        "colab": {
          "base_uri": "https://localhost:8080/"
        },
        "outputId": "f76c8ea2-6a0e-4dcb-dbd4-b3ad825cb8a5"
      },
      "source": [
        "ls"
      ],
      "execution_count": 3,
      "outputs": [
        {
          "output_type": "stream",
          "text": [
            "\u001b[0m\u001b[01;34mdrive\u001b[0m/  \u001b[01;34msample_data\u001b[0m/\n"
          ],
          "name": "stdout"
        }
      ]
    },
    {
      "cell_type": "code",
      "metadata": {
        "id": "3rJTTA4HFZr5"
      },
      "source": [
        "#file_name = \"UKDALE_GAF_1h_6M9A\"\n",
        "#file_name =\"UKDALE_GAF_1h_18M9A1000N\"\n",
        "file_name= \"UKDALE_GAF_1h_12M10A300N\"\n",
        "path = \"/content/drive/MyDrive/Colab Notebooks/NILM/GAF_DS\"\n",
        "#file = h5py.File(\"D:/jjenko/nilm data/GAF_DS/\"f\"{file_name}\"\".hdf5\", \"w\")\n",
        "\n",
        "def read_many_hdf5(group_name,image_set_name):\n",
        "    \"\"\" \n",
        "    Reads image from HDF5.\n",
        "    \"\"\"\n",
        "    images = []\n",
        "\n",
        "    # Open the HDF5 file\n",
        "    file = h5py.File(f\"{path}\"\"/\"f\"{file_name}\"\".hdf5\", \"r+\")\n",
        "\n",
        "    images = np.array(file[f\"{group_name}\"\"/\"f\"{image_set_name}\"])\n",
        "\n",
        "    return images"
      ],
      "execution_count": 5,
      "outputs": []
    },
    {
      "cell_type": "code",
      "metadata": {
        "id": "6Cu-qElBFZr7"
      },
      "source": [
        ""
      ],
      "execution_count": null,
      "outputs": []
    },
    {
      "cell_type": "code",
      "metadata": {
        "id": "xsqw6Z6RFZr8"
      },
      "source": [
        "def basic_cnn_functional(X_train, num_classes, lr = 0.0001):\n",
        "    \n",
        "    input1 = Input(shape = X_train.shape[1: ])\n",
        "    cnn = Conv2D(filters = 32, kernel_size = (7,7), strides = (2,2), activation='relu', padding = 'same')(input1)\n",
        "    cnn1 = Conv2D(filters = 16, kernel_size =  (7,7), strides = (2,2), activation='relu', padding = 'same')(cnn)\n",
        "    cnn2 = Conv2D(filters = 16, kernel_size =  (7,7), strides = (1,1), activation='relu', padding = 'same')(cnn1)\n",
        "    cnn3 = Conv2D(filters = 8, kernel_size =  (7,7), strides = (1,1), activation='relu', padding = 'same')(cnn2)\n",
        "    cnn4 = Conv2D(filters = 4, kernel_size =  (7,7), strides = (1,1), padding = 'same')(cnn3)\n",
        "    act = Activation('relu')(cnn3)\n",
        "    maxP = MaxPooling2D(pool_size = (2,2))(act)\n",
        "\n",
        "    # prior layer should be flattend to be connected to dense layers\n",
        "    Flatt = Flatten()(maxP)\n",
        "    # dense layer with 50 neurons\n",
        "    dense = Dense(32, activation = 'relu')(Flatt)\n",
        "    # final layer with 10 neurons to classify the instances\n",
        "    output = Dense(num_classes, activation = 'softmax')(dense)\n",
        "    \n",
        "    adam = optimizers.Adam(lr = lr)#lahko SGD uporabs tud\n",
        "    model = keras.models.Model(inputs=input1, outputs=output)\n",
        "    model.compile(loss = 'categorical_crossentropy', optimizer = adam, metrics = ['accuracy'])\n",
        "\n",
        "    return model    \n"
      ],
      "execution_count": 9,
      "outputs": []
    },
    {
      "cell_type": "code",
      "metadata": {
        "id": "abf3UR7BWmw9"
      },
      "source": [
        "def transfer_learning(X_train, num_classes, lr):\n",
        "    base_model = keras.applications.ResNet50V2(\n",
        "        weights=None,#'imagenet',  # Load weights pre-trained on ImageNet.\n",
        "        input_shape=(300, 300, 1),\n",
        "        include_top=False)  # Do not include the ImageNet classifier at the top.\n",
        "\n",
        "    base_model.trainable = True\n",
        "\n",
        "    inputs = keras.Input(shape = X_train.shape[1: ])\n",
        "    # We make sure that the base_model is running in inference mode here,\n",
        "    # by passing `training=False`. This is important for fine-tuning, as you will\n",
        "    # learn in a few paragraphs.\n",
        "\n",
        "    x = base_model(inputs, training=True)\n",
        "    x = keras.layers.Flatten()(x)\n",
        "    outputs = keras.layers.Dense(num_classes, activation='softmax')(x)\n",
        "    model = keras.Model(inputs, outputs)\n",
        "\n",
        "    model.compile(optimizer=keras.optimizers.Adam(lr = lr),\n",
        "                  loss='categorical_crossentropy',\n",
        "                  metrics=['accuracy'])\n",
        "    return model"
      ],
      "execution_count": 81,
      "outputs": []
    },
    {
      "cell_type": "code",
      "metadata": {
        "id": "uqZMqwivFZr8",
        "colab": {
          "base_uri": "https://localhost:8080/"
        },
        "outputId": "c217ac62-f20d-4b29-e748-9109c35e9cda"
      },
      "source": [
        "#manualy_selected_appliances = [\"computer monitor\", \"laptop computer\", \"washer dryer\", \"microwave\",\"oven\",\"boiler\",\"toaster\",\"kettle\"]\n",
        "manualy_selected_appliances = [\"computer monitor\", \"laptop computer\", \"television\", \"washer dryer\", \"microwave\",\"oven\",\"toaster\",\"boiler\",\"kettle\",\"fridge\"]\n",
        "\n",
        "#train_data = read_many_hdf5(\"washer dryer\",\"gasf\")\n",
        "\n",
        "train_data = np.empty([0,300,300,1])# -> change size to match GAF image size\n",
        "label_data = np.empty([0,1],dtype=object)# -> change size to match GAF image size\n",
        "tmp = np.empty([1,1],dtype=object)# -> change size to match GAF image size\n",
        "\n",
        "#generate labels and read data\n",
        "for appliance in manualy_selected_appliances:\n",
        "    data = np.array(read_many_hdf5(f\"{appliance}\",\"gasf\"))\n",
        "    data = data[...,np.newaxis]\n",
        "    train_data = np.append(train_data,data,axis=0)\n",
        "    labels = np.repeat(np.array([[f\"{manualy_selected_appliances.index(appliance)}\"]],dtype=object),data.shape[0],axis=0)\n",
        "    label_data = np.append(label_data,labels,axis=0)\n",
        "print(label_data.shape)\n",
        "print(train_data.shape)"
      ],
      "execution_count": 6,
      "outputs": [
        {
          "output_type": "stream",
          "text": [
            "(3000, 1)\n",
            "(3000, 300, 300, 1)\n"
          ],
          "name": "stdout"
        }
      ]
    },
    {
      "cell_type": "code",
      "metadata": {
        "id": "QWlOUYvrFZr-",
        "colab": {
          "base_uri": "https://localhost:8080/"
        },
        "outputId": "6c24533d-3225-4096-891b-99ff362d339d"
      },
      "source": [
        "num_frames = train_data.shape[0]\n",
        "shape_x = train_data.shape[1]\n",
        "shape_y = train_data.shape[2]\n",
        "channel = train_data.shape[3]\n",
        "\n",
        "num_of_classes = len(manualy_selected_appliances)\n",
        "\n",
        "y_anomF = tf.keras.utils.to_categorical(label_data, num_classes=num_of_classes) #onehot encoding\n",
        "X_resampled = train_data.reshape(train_data.shape[0],300, 300,1)\n",
        "print(X_resampled.shape)\n",
        "X_train, X_test, y_train, y_test = train_test_split(X_resampled, y_anomF, test_size=0.2, random_state=42)\n",
        "print(X_train.shape)\n",
        "print(y_train.shape)\n",
        "\n",
        "#load model, add training data, n of classes and learning rate\n",
        "#model = basic_cnn_functional(X_train, num_of_classes, lr = 0.001)\n",
        "model = transfer_learning(X_train,num_of_classes,lr = 0.001)\n",
        "\n",
        "class_weights = {0: 1.,\n",
        "                1: 1.,\n",
        "                2: 1.,\n",
        "                3: 1.,\n",
        "                4: 1.,\n",
        "                5: 1.,\n",
        "                6: 1.,\n",
        "                7: 1.,\n",
        "                8: 1.,\n",
        "                9: 1,\n",
        "                10: 1}\n",
        "\n",
        "model.fit(X_train, y_train, batch_size = 16, validation_split = 0.2, epochs = 20, verbose = 1, class_weight=class_weights)\n",
        "\n",
        "results = model.evaluate(X_test, y_test, verbose = 2)\n",
        "print('Test accuracy: ', results[1])\n",
        "Y_pred = model.predict(X_test, verbose = 2)\n",
        "y_pred = np.argmax(Y_pred, axis=1)\n",
        "Y_test = np.argmax(y_test, axis=-1)\n",
        "print(confusion_matrix(Y_test, y_pred))\n",
        "print(classification_report(Y_test, y_pred, target_names=manualy_selected_appliances))\n",
        "#precision for various datassets - to see if more data helps\n",
        "#window times for various appliances"
      ],
      "execution_count": 83,
      "outputs": [
        {
          "output_type": "stream",
          "text": [
            "(3000, 300, 300, 1)\n",
            "(2400, 300, 300, 1)\n",
            "(2400, 10)\n",
            "Epoch 1/20\n",
            "120/120 [==============================] - 39s 288ms/step - loss: 25.9692 - accuracy: 0.1153 - val_loss: 3.8382 - val_accuracy: 0.2062\n",
            "Epoch 2/20\n",
            "120/120 [==============================] - 34s 286ms/step - loss: 2.8753 - accuracy: 0.2767 - val_loss: 2.4149 - val_accuracy: 0.2521\n",
            "Epoch 3/20\n",
            "120/120 [==============================] - 34s 284ms/step - loss: 1.9849 - accuracy: 0.3152 - val_loss: 1.7381 - val_accuracy: 0.3562\n",
            "Epoch 4/20\n",
            "120/120 [==============================] - 34s 283ms/step - loss: 1.6418 - accuracy: 0.4045 - val_loss: 1.7464 - val_accuracy: 0.3812\n",
            "Epoch 5/20\n",
            "120/120 [==============================] - 34s 285ms/step - loss: 1.5084 - accuracy: 0.4604 - val_loss: 1.5949 - val_accuracy: 0.4042\n",
            "Epoch 6/20\n",
            "120/120 [==============================] - 34s 284ms/step - loss: 1.4309 - accuracy: 0.4782 - val_loss: 1.4554 - val_accuracy: 0.4729\n",
            "Epoch 7/20\n",
            "120/120 [==============================] - 34s 284ms/step - loss: 1.2745 - accuracy: 0.5369 - val_loss: 1.4569 - val_accuracy: 0.4396\n",
            "Epoch 8/20\n",
            "120/120 [==============================] - 34s 284ms/step - loss: 1.3039 - accuracy: 0.5357 - val_loss: 1.5984 - val_accuracy: 0.4313\n",
            "Epoch 9/20\n",
            "120/120 [==============================] - 34s 284ms/step - loss: 1.2016 - accuracy: 0.5755 - val_loss: 1.5467 - val_accuracy: 0.4667\n",
            "Epoch 10/20\n",
            "120/120 [==============================] - 34s 284ms/step - loss: 1.1930 - accuracy: 0.5641 - val_loss: 1.5660 - val_accuracy: 0.5000\n",
            "Epoch 11/20\n",
            "120/120 [==============================] - 34s 284ms/step - loss: 1.2451 - accuracy: 0.5629 - val_loss: 1.5608 - val_accuracy: 0.4667\n",
            "Epoch 12/20\n",
            "120/120 [==============================] - 34s 284ms/step - loss: 1.0341 - accuracy: 0.6141 - val_loss: 1.2661 - val_accuracy: 0.5437\n",
            "Epoch 13/20\n",
            "120/120 [==============================] - 34s 284ms/step - loss: 0.9524 - accuracy: 0.6632 - val_loss: 1.4236 - val_accuracy: 0.5333\n",
            "Epoch 14/20\n",
            "120/120 [==============================] - 34s 284ms/step - loss: 0.9669 - accuracy: 0.6423 - val_loss: 1.3452 - val_accuracy: 0.5000\n",
            "Epoch 15/20\n",
            "120/120 [==============================] - 34s 284ms/step - loss: 0.8975 - accuracy: 0.6781 - val_loss: 1.2919 - val_accuracy: 0.5354\n",
            "Epoch 16/20\n",
            "120/120 [==============================] - 34s 284ms/step - loss: 0.9289 - accuracy: 0.6702 - val_loss: 1.3571 - val_accuracy: 0.5292\n",
            "Epoch 17/20\n",
            "120/120 [==============================] - 34s 284ms/step - loss: 0.8256 - accuracy: 0.7070 - val_loss: 1.3479 - val_accuracy: 0.5292\n",
            "Epoch 18/20\n",
            "120/120 [==============================] - 34s 284ms/step - loss: 0.7206 - accuracy: 0.7378 - val_loss: 1.4418 - val_accuracy: 0.4979\n",
            "Epoch 19/20\n",
            "120/120 [==============================] - 34s 284ms/step - loss: 0.7449 - accuracy: 0.7276 - val_loss: 1.3844 - val_accuracy: 0.5000\n",
            "Epoch 20/20\n",
            "120/120 [==============================] - 34s 284ms/step - loss: 0.7552 - accuracy: 0.7159 - val_loss: 1.3678 - val_accuracy: 0.5396\n",
            "19/19 - 4s - loss: 1.4873 - accuracy: 0.5017\n",
            "Test accuracy:  0.5016666650772095\n",
            "19/19 - 4s\n",
            "[[22  7  1  4  5 14  7  2  4  6]\n",
            " [ 9 38  2  4  2  1  5  4  2  2]\n",
            " [ 0  6 40  2  0  7  0  1  1  0]\n",
            " [ 1  0  0 35  2  4  6  3  5  0]\n",
            " [ 4  1  0  3 23 12  7  0  9  0]\n",
            " [ 2  0  6  4  3 33  3  1  8  3]\n",
            " [ 1  1  0  5  3  4 30  0 12  0]\n",
            " [ 4 12  4  3  0  1  0 28  0  3]\n",
            " [ 0  0  0 11 10  5 14  0 17  0]\n",
            " [ 7  6  1  1  0  2  0  4  0 35]]\n",
            "              precision    recall  f1-score   support\n",
            "\n",
            "           0       0.44      0.31      0.36        72\n",
            "           1       0.54      0.55      0.54        69\n",
            "           2       0.74      0.70      0.72        57\n",
            "           3       0.49      0.62      0.55        56\n",
            "           4       0.48      0.39      0.43        59\n",
            "           5       0.40      0.52      0.45        63\n",
            "           6       0.42      0.54      0.47        56\n",
            "           7       0.65      0.51      0.57        55\n",
            "           8       0.29      0.30      0.30        57\n",
            "           9       0.71      0.62      0.67        56\n",
            "\n",
            "    accuracy                           0.50       600\n",
            "   macro avg       0.52      0.51      0.51       600\n",
            "weighted avg       0.51      0.50      0.50       600\n",
            "\n"
          ],
          "name": "stdout"
        }
      ]
    }
  ]
}