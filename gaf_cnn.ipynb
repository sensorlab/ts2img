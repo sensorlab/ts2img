{
  "nbformat": 4,
  "nbformat_minor": 0,
  "metadata": {
    "language_info": {
      "codemirror_mode": {
        "name": "ipython",
        "version": 3
      },
      "file_extension": ".py",
      "mimetype": "text/x-python",
      "name": "python",
      "nbconvert_exporter": "python",
      "pygments_lexer": "ipython3",
      "version": "3.8.3-final"
    },
    "orig_nbformat": 2,
    "kernelspec": {
      "name": "python3",
      "display_name": "Python 3",
      "language": "python"
    },
    "colab": {
      "name": "gaf-cnn-colab.ipynb",
      "provenance": [],
      "collapsed_sections": [],
      "include_colab_link": true
    },
    "accelerator": "GPU"
  },
  "cells": [
    {
      "cell_type": "markdown",
      "metadata": {
        "id": "view-in-github",
        "colab_type": "text"
      },
      "source": [
        "<a href=\"https://colab.research.google.com/github/jenkoj/nilm-gaf/blob/main/gaf_cnn.ipynb\" target=\"_parent\"><img src=\"https://colab.research.google.com/assets/colab-badge.svg\" alt=\"Open In Colab\"/></a>"
      ]
    },
    {
      "cell_type": "code",
      "metadata": {
        "id": "YdIfOeCYFZrz"
      },
      "source": [
        "import numpy as np\n",
        "import h5py\n",
        "from sklearn.model_selection import train_test_split\n",
        "from sklearn.utils import class_weight\n",
        "from sklearn.metrics import classification_report, confusion_matrix \n",
        "\n",
        "import tensorflow as tf\n",
        "from tensorflow import keras\n",
        "from tensorflow.keras import layers, optimizers\n",
        "from tensorflow.keras.layers import Conv2D, Dense, Flatten, Activation, MaxPooling2D, Input, Conv1D, GlobalAveragePooling1D"
      ],
      "execution_count": 1,
      "outputs": []
    },
    {
      "cell_type": "code",
      "metadata": {
        "id": "3CqC33FIHW41",
        "colab": {
          "base_uri": "https://localhost:8080/"
        },
        "outputId": "cc836dd9-cac6-443a-9c04-acc625050256"
      },
      "source": [
        "ls"
      ],
      "execution_count": 2,
      "outputs": [
        {
          "output_type": "stream",
          "text": [
            "\u001b[0m\u001b[01;34msample_data\u001b[0m/\n"
          ],
          "name": "stdout"
        }
      ]
    },
    {
      "cell_type": "code",
      "metadata": {
        "id": "3rJTTA4HFZr5",
        "colab": {
          "base_uri": "https://localhost:8080/"
        },
        "outputId": "d8ba34aa-c689-46ad-d617-0ed53322f79b"
      },
      "source": [
        "#M - months A - appliances N - num of imgs \n",
        "\n",
        "#file_name =\"UKDALE_GAF_1h_18M9A1000N\"\n",
        "#file_name= \"UKDALE_GAF_1h_12M10A300N\"\n",
        "#file_name = \"UKDALE_GAF_1h_12M10A500N\"\n",
        "file_name = \"UKDALE_GAF_10m_100S0X_9A3000N\" # x is n of paralel imgs\n",
        "\n",
        "\n",
        "#check if we are in cloud or in PC\n",
        "try:\n",
        "    from google.colab import drive\n",
        "    drive.mount('/content/drive')\n",
        "\n",
        "    print(\"reading from cloud...\")\n",
        "    path = \"/content/drive/MyDrive/Colab Notebooks/NILM/GAF_DS\"\n",
        "except:\n",
        "    print(\"reading from HDD\")\n",
        "    path = \"D:/jjenko/nilm data/GAF_DS\"\n",
        "\n",
        "#check if file exists\n",
        "try:\n",
        "    file = h5py.File(f\"{path}\"\"/\"f\"{file_name}\"\".hdf5\",\"r+\")\n",
        "    print(\"file exists, reading it...\")\n",
        "except:\n",
        "    print(\"error reading the file!\")\n",
        "\n",
        "\n",
        "# function to make reading easier\n",
        "def read_many_hdf5(group_name,image_set_name):\n",
        "    \"\"\" \n",
        "    Reads image from HDF5.\n",
        "    \"\"\"\n",
        "    images = []\n",
        "\n",
        "    # Open the HDF5 file\n",
        "    file = h5py.File(f\"{path}\"\"/\"f\"{file_name}\"\".hdf5\", \"r+\")\n",
        "\n",
        "    images = np.array(file[f\"{group_name}\"\"/\"f\"{image_set_name}\"])\n",
        "\n",
        "    return images"
      ],
      "execution_count": 4,
      "outputs": [
        {
          "output_type": "stream",
          "text": [
            "Drive already mounted at /content/drive; to attempt to forcibly remount, call drive.mount(\"/content/drive\", force_remount=True).\n",
            "reading from cloud...\n",
            "file exists, reading it...\n"
          ],
          "name": "stdout"
        }
      ]
    },
    {
      "cell_type": "code",
      "metadata": {
        "id": "xsqw6Z6RFZr8"
      },
      "source": [
        "def basic_cnn_functional(X_train, num_classes, lr = 0.0001):\n",
        "    \n",
        "    input1 = Input(shape = X_train.shape[1: ])\n",
        "    cnn = Conv2D(filters = 32, kernel_size = (7,7), strides = (2,2), activation='relu', padding = 'same')(input1)\n",
        "    cnn1 = Conv2D(filters = 16, kernel_size =  (7,7), strides = (2,2), activation='relu', padding = 'same')(cnn)\n",
        "    cnn2 = Conv2D(filters = 16, kernel_size =  (7,7), strides = (1,1), activation='relu', padding = 'same')(cnn1)\n",
        "    cnn3 = Conv2D(filters = 8, kernel_size =  (7,7), strides = (1,1), activation='relu', padding = 'same')(cnn2)\n",
        "    cnn4 = Conv2D(filters = 4, kernel_size =  (7,7), strides = (1,1), padding = 'same')(cnn3)\n",
        "    act = Activation('relu')(cnn3)\n",
        "    maxP = MaxPooling2D(pool_size = (2,2))(act)\n",
        "\n",
        "    # prior layer should be flattend to be connected to dense layers\n",
        "    Flatt = Flatten()(maxP)\n",
        "    # dense layer with 50 neurons\n",
        "    dense = Dense(32, activation = 'relu')(Flatt)\n",
        "    # final layer with 10 neurons to classify the instances\n",
        "    output = Dense(num_classes, activation = 'softmax')(dense)\n",
        "    \n",
        "    adam = optimizers.Adam(lr = lr)#lahko SGD uporabs tud\n",
        "    model = keras.models.Model(inputs=input1, outputs=output)\n",
        "    model.compile(loss = 'categorical_crossentropy', optimizer = adam, metrics = ['accuracy'])\n",
        "\n",
        "    return model    \n"
      ],
      "execution_count": 5,
      "outputs": []
    },
    {
      "cell_type": "code",
      "metadata": {
        "id": "GDdERysTn_kf"
      },
      "source": [
        "file.close()"
      ],
      "execution_count": 6,
      "outputs": []
    },
    {
      "cell_type": "code",
      "metadata": {
        "id": "abf3UR7BWmw9"
      },
      "source": [
        "def transfer_learning(X_train, num_classes, lr):\n",
        "    base_model = keras.applications.ResNet50V2(\n",
        "        weights=None,#'imagenet',  # Load weights pre-trained on ImageNet.\n",
        "        input_shape=(300, 300, 1),\n",
        "        include_top=False)  # Do not include the ImageNet classifier at the top.\n",
        "\n",
        "    base_model.trainable = True\n",
        "\n",
        "    inputs = keras.Input(shape = X_train.shape[1: ])\n",
        "    # We make sure that the base_model is running in inference mode here,\n",
        "    # by passing `training=False`. This is important for fine-tuning, as you will\n",
        "    # learn in a few paragraphs.\n",
        "\n",
        "    x = base_model(inputs, training=True)\n",
        "    x = keras.layers.Flatten()(x)\n",
        "    outputs = keras.layers.Dense(num_classes, activation='softmax')(x)\n",
        "    model = keras.Model(inputs, outputs)\n",
        "\n",
        "    model.compile(optimizer=keras.optimizers.Adam(lr = lr),\n",
        "                  loss='categorical_crossentropy',\n",
        "                  metrics=['accuracy'])\n",
        "    return model"
      ],
      "execution_count": 7,
      "outputs": []
    },
    {
      "cell_type": "code",
      "metadata": {
        "id": "uqZMqwivFZr8",
        "colab": {
          "base_uri": "https://localhost:8080/"
        },
        "outputId": "05524f04-8872-45ab-d586-3652266f67ae"
      },
      "source": [
        "#manualy_selected_appliances = [\"computer monitor\", \"laptop computer\", \"washer dryer\", \"microwave\",\"oven\",\"boiler\",\"toaster\",\"kettle\"]\n",
        "\n",
        "#removed oven! - data looks fishy\n",
        "\n",
        "manualy_selected_appliances = [\"computer monitor\", \"laptop computer\", \"television\", \"washer dryer\", \"microwave\",\"boiler\",\"toaster\",\"kettle\",\"fridge\"]\n",
        "\n",
        "train_data = np.array(read_many_hdf5(\"data\",\"gasf\"))\n",
        "label_data = np.array(read_many_hdf5(\"labels\",\"gaf\"))\n",
        "\n",
        "print(label_data.shape)\n",
        "print(train_data.shape)"
      ],
      "execution_count": 8,
      "outputs": [
        {
          "output_type": "stream",
          "text": [
            "(27000,)\n",
            "(27000, 100, 100, 1)\n"
          ],
          "name": "stdout"
        }
      ]
    },
    {
      "cell_type": "code",
      "metadata": {
        "id": "QWlOUYvrFZr-",
        "colab": {
          "base_uri": "https://localhost:8080/"
        },
        "outputId": "41784015-99a3-49b6-fa26-e99f67b793aa"
      },
      "source": [
        "num_frames = train_data.shape[0]\n",
        "shape_x = train_data.shape[1]\n",
        "shape_y = train_data.shape[2]\n",
        "channel = train_data.shape[3]\n",
        "\n",
        "num_of_classes = len(manualy_selected_appliances)\n",
        "\n",
        "y_anomF = tf.keras.utils.to_categorical(label_data, num_classes=num_of_classes) #onehot encoding\n",
        "X_resampled = train_data.reshape(train_data.shape[0],100, 100,1)\n",
        "print(X_resampled.shape)\n",
        "X_train, X_test, y_train, y_test = train_test_split(X_resampled, y_anomF, test_size=0.2, random_state=42)\n",
        "print(X_train.shape)\n",
        "print(y_train.shape)\n",
        "\n",
        "#load model, add training data, n of classes and learning rate\n",
        "model = basic_cnn_functional(X_train, num_of_classes, lr = 0.001)\n",
        "#model = transfer_learning(X_train,num_of_classes,lr = 0.001)\n",
        "\n",
        "class_weights = {0: 1.,\n",
        "                1: 1.,\n",
        "                2: 1.,\n",
        "                3: 1.,\n",
        "                4: 1.,\n",
        "                5: 1.,\n",
        "                6: 1.,\n",
        "                7: 1.,\n",
        "                8: 1.,\n",
        "                9: 1,\n",
        "                10: 1}\n",
        "\n",
        "model.fit(X_train, y_train, batch_size = 16, validation_split = 0.2, epochs = 30, verbose = 1, class_weight=class_weights)\n",
        "\n",
        "results = model.evaluate(X_test, y_test, verbose = 2)\n",
        "print('Test accuracy: ', results[1])\n",
        "Y_pred = model.predict(X_test, verbose = 2)\n",
        "y_pred = np.argmax(Y_pred, axis=1)\n",
        "Y_test = np.argmax(y_test, axis=-1)\n",
        "print(confusion_matrix(Y_test, y_pred))\n",
        "print(classification_report(Y_test, y_pred, target_names=manualy_selected_appliances))\n",
        "#precision for various datassets - to see if more data helps\n",
        "#window times for various appliances"
      ],
      "execution_count": 11,
      "outputs": [
        {
          "output_type": "stream",
          "text": [
            "(27000, 100, 100, 1)\n",
            "(21600, 100, 100, 1)\n",
            "(21600, 9)\n",
            "Epoch 1/30\n",
            "1080/1080 [==============================] - 36s 5ms/step - loss: 1.8763 - accuracy: 0.2922 - val_loss: 1.4322 - val_accuracy: 0.4692\n",
            "Epoch 2/30\n",
            "1080/1080 [==============================] - 5s 5ms/step - loss: 1.3960 - accuracy: 0.4796 - val_loss: 1.3037 - val_accuracy: 0.5213\n",
            "Epoch 3/30\n",
            "1080/1080 [==============================] - 5s 5ms/step - loss: 1.2489 - accuracy: 0.5329 - val_loss: 1.2996 - val_accuracy: 0.5264\n",
            "Epoch 4/30\n",
            "1080/1080 [==============================] - 5s 5ms/step - loss: 1.2207 - accuracy: 0.5495 - val_loss: 1.2582 - val_accuracy: 0.5484\n",
            "Epoch 5/30\n",
            "1080/1080 [==============================] - 5s 5ms/step - loss: 1.1339 - accuracy: 0.5699 - val_loss: 1.2388 - val_accuracy: 0.5546\n",
            "Epoch 6/30\n",
            "1080/1080 [==============================] - 5s 5ms/step - loss: 1.0864 - accuracy: 0.5959 - val_loss: 1.1951 - val_accuracy: 0.5711\n",
            "Epoch 7/30\n",
            "1080/1080 [==============================] - 5s 5ms/step - loss: 1.0250 - accuracy: 0.6119 - val_loss: 1.1660 - val_accuracy: 0.5780\n",
            "Epoch 8/30\n",
            "1080/1080 [==============================] - 5s 5ms/step - loss: 0.9961 - accuracy: 0.6251 - val_loss: 1.2029 - val_accuracy: 0.5576\n",
            "Epoch 9/30\n",
            "1080/1080 [==============================] - 5s 5ms/step - loss: 0.9815 - accuracy: 0.6292 - val_loss: 1.2492 - val_accuracy: 0.5512\n",
            "Epoch 10/30\n",
            "1080/1080 [==============================] - 5s 5ms/step - loss: 0.9252 - accuracy: 0.6486 - val_loss: 1.2595 - val_accuracy: 0.5620\n",
            "Epoch 11/30\n",
            "1080/1080 [==============================] - 5s 5ms/step - loss: 0.8865 - accuracy: 0.6606 - val_loss: 1.2708 - val_accuracy: 0.5706\n",
            "Epoch 12/30\n",
            "1080/1080 [==============================] - 5s 5ms/step - loss: 0.8578 - accuracy: 0.6643 - val_loss: 1.2509 - val_accuracy: 0.5738\n",
            "Epoch 13/30\n",
            "1080/1080 [==============================] - 5s 5ms/step - loss: 0.8231 - accuracy: 0.6826 - val_loss: 1.3667 - val_accuracy: 0.5759\n",
            "Epoch 14/30\n",
            "1080/1080 [==============================] - 5s 5ms/step - loss: 0.8639 - accuracy: 0.6746 - val_loss: 1.3381 - val_accuracy: 0.5625\n",
            "Epoch 15/30\n",
            "1080/1080 [==============================] - 5s 5ms/step - loss: 0.7995 - accuracy: 0.6941 - val_loss: 1.3649 - val_accuracy: 0.5715\n",
            "Epoch 16/30\n",
            "1080/1080 [==============================] - 5s 5ms/step - loss: 0.7789 - accuracy: 0.6983 - val_loss: 1.4226 - val_accuracy: 0.5576\n",
            "Epoch 17/30\n",
            "1080/1080 [==============================] - 5s 5ms/step - loss: 0.7582 - accuracy: 0.7059 - val_loss: 1.4579 - val_accuracy: 0.5576\n",
            "Epoch 18/30\n",
            "1080/1080 [==============================] - 5s 5ms/step - loss: 0.7351 - accuracy: 0.7149 - val_loss: 1.5167 - val_accuracy: 0.5435\n",
            "Epoch 19/30\n",
            "1080/1080 [==============================] - 5s 5ms/step - loss: 0.7208 - accuracy: 0.7262 - val_loss: 1.6024 - val_accuracy: 0.5539\n",
            "Epoch 20/30\n",
            "1080/1080 [==============================] - 5s 5ms/step - loss: 0.7135 - accuracy: 0.7224 - val_loss: 1.5837 - val_accuracy: 0.5597\n",
            "Epoch 21/30\n",
            "1080/1080 [==============================] - 5s 5ms/step - loss: 0.6701 - accuracy: 0.7393 - val_loss: 1.6147 - val_accuracy: 0.5549\n",
            "Epoch 22/30\n",
            "1080/1080 [==============================] - 5s 5ms/step - loss: 0.6801 - accuracy: 0.7318 - val_loss: 1.7794 - val_accuracy: 0.5493\n",
            "Epoch 23/30\n",
            "1080/1080 [==============================] - 5s 5ms/step - loss: 0.6648 - accuracy: 0.7382 - val_loss: 1.6103 - val_accuracy: 0.5465\n",
            "Epoch 24/30\n",
            "1080/1080 [==============================] - 5s 5ms/step - loss: 0.6586 - accuracy: 0.7461 - val_loss: 1.8162 - val_accuracy: 0.5447\n",
            "Epoch 25/30\n",
            "1080/1080 [==============================] - 5s 5ms/step - loss: 0.6596 - accuracy: 0.7448 - val_loss: 1.8069 - val_accuracy: 0.5569\n",
            "Epoch 26/30\n",
            "1080/1080 [==============================] - 5s 5ms/step - loss: 0.6531 - accuracy: 0.7460 - val_loss: 1.9159 - val_accuracy: 0.5484\n",
            "Epoch 27/30\n",
            "1080/1080 [==============================] - 5s 5ms/step - loss: 0.6639 - accuracy: 0.7402 - val_loss: 1.9855 - val_accuracy: 0.5560\n",
            "Epoch 28/30\n",
            "1080/1080 [==============================] - 5s 5ms/step - loss: 0.6243 - accuracy: 0.7566 - val_loss: 1.9357 - val_accuracy: 0.5428\n",
            "Epoch 29/30\n",
            "1080/1080 [==============================] - 5s 5ms/step - loss: 0.6371 - accuracy: 0.7495 - val_loss: 1.9442 - val_accuracy: 0.5544\n",
            "Epoch 30/30\n",
            "1080/1080 [==============================] - 5s 5ms/step - loss: 0.6205 - accuracy: 0.7551 - val_loss: 1.9696 - val_accuracy: 0.5414\n",
            "169/169 - 1s - loss: 1.9801 - accuracy: 0.5406\n",
            "Test accuracy:  0.5405555367469788\n",
            "169/169 - 0s\n",
            "[[248 147  30   6  23  48  19  12  62]\n",
            " [ 97 350  47  24  14  33   6   6  29]\n",
            " [ 29  33 373   3  53  42  15  16  38]\n",
            " [ 19  70  19 412  31   9  13  15  11]\n",
            " [  6   5  19   2 393   7  69 104  12]\n",
            " [ 47  54  79  14  14 344  15   2  25]\n",
            " [ 13   2  12   3 164   4 240 122  27]\n",
            " [  3   0  11   1 250   4  88 229   8]\n",
            " [ 86  40  40  12  25  14  30  29 330]]\n",
            "                  precision    recall  f1-score   support\n",
            "\n",
            "computer monitor       0.45      0.42      0.43       595\n",
            " laptop computer       0.50      0.58      0.54       606\n",
            "      television       0.59      0.62      0.61       602\n",
            "    washer dryer       0.86      0.69      0.77       599\n",
            "       microwave       0.41      0.64      0.50       617\n",
            "          boiler       0.68      0.58      0.63       594\n",
            "         toaster       0.48      0.41      0.44       587\n",
            "          kettle       0.43      0.39      0.41       594\n",
            "          fridge       0.61      0.54      0.57       606\n",
            "\n",
            "        accuracy                           0.54      5400\n",
            "       macro avg       0.56      0.54      0.54      5400\n",
            "    weighted avg       0.56      0.54      0.54      5400\n",
            "\n"
          ],
          "name": "stdout"
        }
      ]
    }
  ]
}