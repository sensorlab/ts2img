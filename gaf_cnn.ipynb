{
  "nbformat": 4,
  "nbformat_minor": 0,
  "metadata": {
    "language_info": {
      "codemirror_mode": {
        "name": "ipython",
        "version": 3
      },
      "file_extension": ".py",
      "mimetype": "text/x-python",
      "name": "python",
      "nbconvert_exporter": "python",
      "pygments_lexer": "ipython3",
      "version": "3.8.3-final"
    },
    "orig_nbformat": 2,
    "kernelspec": {
      "name": "python3",
      "display_name": "Python 3",
      "language": "python"
    },
    "colab": {
      "name": "gaf-cnn-colab.ipynb",
      "provenance": [],
      "collapsed_sections": [],
      "include_colab_link": true
    },
    "accelerator": "GPU"
  },
  "cells": [
    {
      "cell_type": "markdown",
      "metadata": {
        "id": "view-in-github",
        "colab_type": "text"
      },
      "source": [
        "<a href=\"https://colab.research.google.com/github/jenkoj/nilm-gaf/blob/main/gaf_cnn.ipynb\" target=\"_parent\"><img src=\"https://colab.research.google.com/assets/colab-badge.svg\" alt=\"Open In Colab\"/></a>"
      ]
    },
    {
      "cell_type": "code",
      "metadata": {
        "id": "YdIfOeCYFZrz"
      },
      "source": [
        "import numpy as np\n",
        "import h5py\n",
        "from sklearn.model_selection import train_test_split\n",
        "from sklearn.utils import class_weight\n",
        "from sklearn.metrics import classification_report, confusion_matrix \n",
        "\n",
        "import tensorflow as tf\n",
        "from tensorflow import keras\n",
        "from tensorflow.keras import layers, optimizers\n",
        "from tensorflow.keras.layers import Conv2D, Dense, Flatten, Activation, MaxPooling2D, Input, Conv1D, GlobalAveragePooling1D"
      ],
      "execution_count": 11,
      "outputs": []
    },
    {
      "cell_type": "code",
      "metadata": {
        "id": "3CqC33FIHW41",
        "colab": {
          "base_uri": "https://localhost:8080/"
        },
        "outputId": "940462ba-76d8-4764-bb7d-6466db889438"
      },
      "source": [
        "ls"
      ],
      "execution_count": 12,
      "outputs": [
        {
          "output_type": "stream",
          "text": [
            "\u001b[0m\u001b[01;34mdrive\u001b[0m/  \u001b[01;34msample_data\u001b[0m/\n"
          ],
          "name": "stdout"
        }
      ]
    },
    {
      "cell_type": "code",
      "metadata": {
        "id": "3rJTTA4HFZr5",
        "outputId": "80cfde85-7443-4291-c4de-e6a9d8779568",
        "colab": {
          "base_uri": "https://localhost:8080/"
        }
      },
      "source": [
        "#M - months A - appliances N - num of imgs \n",
        "\n",
        "#file_name =\"UKDALE_GAF_1h_18M9A1000N\"\n",
        "#file_name= \"UKDALE_GAF_1h_12M10A300N\"\n",
        "#file_name = \"UKDALE_GAF_1h_12M10A500N\"\n",
        "file_name = \"UKDALE_GAF_1h_300S0X_9A1000N\" # x is n of paralel imgs\n",
        "\n",
        "\n",
        "#check if we are in cloud or in PC\n",
        "try:\n",
        "    from google.colab import drive\n",
        "    drive.mount('/content/drive')\n",
        "\n",
        "    print(\"reading from cloud...\")\n",
        "    path = \"/content/drive/MyDrive/Colab Notebooks/NILM/GAF_DS\"\n",
        "except:\n",
        "    print(\"reading from HDD\")\n",
        "    path = \"D:/jjenko/nilm data/GAF_DS\"\n",
        "\n",
        "#check if file exists\n",
        "try:\n",
        "    file = h5py.File(f\"{path}\"\"/\"f\"{file_name}\"\".hdf5\",\"r+\")\n",
        "    print(\"file exists, reading it...\")\n",
        "except:\n",
        "    print(\"error reading the file!\")\n",
        "\n",
        "\n",
        "# function to make reading easier\n",
        "def read_many_hdf5(group_name,image_set_name):\n",
        "    \"\"\" \n",
        "    Reads image from HDF5.\n",
        "    \"\"\"\n",
        "    images = []\n",
        "\n",
        "    # Open the HDF5 file\n",
        "    file = h5py.File(f\"{path}\"\"/\"f\"{file_name}\"\".hdf5\", \"r+\")\n",
        "\n",
        "    images = np.array(file[f\"{group_name}\"\"/\"f\"{image_set_name}\"])\n",
        "\n",
        "    return images"
      ],
      "execution_count": 20,
      "outputs": [
        {
          "output_type": "stream",
          "text": [
            "Drive already mounted at /content/drive; to attempt to forcibly remount, call drive.mount(\"/content/drive\", force_remount=True).\n",
            "reading from cloud...\n",
            "file exists, reading it...\n"
          ],
          "name": "stdout"
        }
      ]
    },
    {
      "cell_type": "code",
      "metadata": {
        "id": "xsqw6Z6RFZr8"
      },
      "source": [
        "def basic_cnn_functional(X_train, num_classes, lr = 0.0001):\n",
        "    \n",
        "    input1 = Input(shape = X_train.shape[1: ])\n",
        "    cnn = Conv2D(filters = 32, kernel_size = (7,7), strides = (2,2), activation='relu', padding = 'same')(input1)\n",
        "    cnn1 = Conv2D(filters = 16, kernel_size =  (7,7), strides = (2,2), activation='relu', padding = 'same')(cnn)\n",
        "    cnn2 = Conv2D(filters = 16, kernel_size =  (7,7), strides = (1,1), activation='relu', padding = 'same')(cnn1)\n",
        "    cnn3 = Conv2D(filters = 8, kernel_size =  (7,7), strides = (1,1), activation='relu', padding = 'same')(cnn2)\n",
        "    cnn4 = Conv2D(filters = 4, kernel_size =  (7,7), strides = (1,1), padding = 'same')(cnn3)\n",
        "    act = Activation('relu')(cnn3)\n",
        "    maxP = MaxPooling2D(pool_size = (2,2))(act)\n",
        "\n",
        "    # prior layer should be flattend to be connected to dense layers\n",
        "    Flatt = Flatten()(maxP)\n",
        "    # dense layer with 50 neurons\n",
        "    dense = Dense(32, activation = 'relu')(Flatt)\n",
        "    # final layer with 10 neurons to classify the instances\n",
        "    output = Dense(num_classes, activation = 'softmax')(dense)\n",
        "    \n",
        "    adam = optimizers.Adam(lr = lr)#lahko SGD uporabs tud\n",
        "    model = keras.models.Model(inputs=input1, outputs=output)\n",
        "    model.compile(loss = 'categorical_crossentropy', optimizer = adam, metrics = ['accuracy'])\n",
        "\n",
        "    return model    \n"
      ],
      "execution_count": 14,
      "outputs": []
    },
    {
      "cell_type": "code",
      "metadata": {
        "id": "GDdERysTn_kf"
      },
      "source": [
        "file.close()"
      ],
      "execution_count": 15,
      "outputs": []
    },
    {
      "cell_type": "code",
      "metadata": {
        "id": "abf3UR7BWmw9"
      },
      "source": [
        "def transfer_learning(X_train, num_classes, lr):\n",
        "    base_model = keras.applications.ResNet50V2(\n",
        "        weights=None,#'imagenet',  # Load weights pre-trained on ImageNet.\n",
        "        input_shape=(300, 300, 1),\n",
        "        include_top=False)  # Do not include the ImageNet classifier at the top.\n",
        "\n",
        "    base_model.trainable = True\n",
        "\n",
        "    inputs = keras.Input(shape = X_train.shape[1: ])\n",
        "    # We make sure that the base_model is running in inference mode here,\n",
        "    # by passing `training=False`. This is important for fine-tuning, as you will\n",
        "    # learn in a few paragraphs.\n",
        "\n",
        "    x = base_model(inputs, training=True)\n",
        "    x = keras.layers.Flatten()(x)\n",
        "    outputs = keras.layers.Dense(num_classes, activation='softmax')(x)\n",
        "    model = keras.Model(inputs, outputs)\n",
        "\n",
        "    model.compile(optimizer=keras.optimizers.Adam(lr = lr),\n",
        "                  loss='categorical_crossentropy',\n",
        "                  metrics=['accuracy'])\n",
        "    return model"
      ],
      "execution_count": 16,
      "outputs": []
    },
    {
      "cell_type": "code",
      "metadata": {
        "id": "uqZMqwivFZr8",
        "colab": {
          "base_uri": "https://localhost:8080/"
        },
        "outputId": "08f66bb9-2954-48a4-9951-2d548f575966"
      },
      "source": [
        "#manualy_selected_appliances = [\"computer monitor\", \"laptop computer\", \"washer dryer\", \"microwave\",\"oven\",\"boiler\",\"toaster\",\"kettle\"]\n",
        "\n",
        "#removed oven! - data looks fishy\n",
        "\n",
        "manualy_selected_appliances = [\"computer monitor\", \"laptop computer\", \"television\", \"washer dryer\", \"microwave\",\"boiler\",\"toaster\",\"kettle\",\"fridge\"]\n",
        "\n",
        "train_data = np.array(read_many_hdf5(\"data\",\"gasf\"))\n",
        "label_data = np.array(read_many_hdf5(\"labels\",\"gaf\"))\n",
        "\n",
        "print(label_data.shape)\n",
        "print(train_data.shape)"
      ],
      "execution_count": 22,
      "outputs": [
        {
          "output_type": "stream",
          "text": [
            "(9000,)\n",
            "(9000, 300, 300, 1)\n"
          ],
          "name": "stdout"
        }
      ]
    },
    {
      "cell_type": "code",
      "metadata": {
        "id": "QWlOUYvrFZr-",
        "colab": {
          "base_uri": "https://localhost:8080/"
        },
        "outputId": "44518638-852e-4d4d-c5f7-b2e58819e842"
      },
      "source": [
        "num_frames = train_data.shape[0]\n",
        "shape_x = train_data.shape[1]\n",
        "shape_y = train_data.shape[2]\n",
        "channel = train_data.shape[3]\n",
        "\n",
        "num_of_classes = len(manualy_selected_appliances)\n",
        "\n",
        "y_anomF = tf.keras.utils.to_categorical(label_data, num_classes=num_of_classes) #onehot encoding\n",
        "X_resampled = train_data.reshape(train_data.shape[0],300, 300,1)\n",
        "print(X_resampled.shape)\n",
        "X_train, X_test, y_train, y_test = train_test_split(X_resampled, y_anomF, test_size=0.2, random_state=42)\n",
        "print(X_train.shape)\n",
        "print(y_train.shape)\n",
        "\n",
        "#load model, add training data, n of classes and learning rate\n",
        "#model = basic_cnn_functional(X_train, num_of_classes, lr = 0.001)\n",
        "model = transfer_learning(X_train,num_of_classes,lr = 0.001)\n",
        "\n",
        "class_weights = {0: 1.,\n",
        "                1: 1.,\n",
        "                2: 1.,\n",
        "                3: 1.,\n",
        "                4: 1.,\n",
        "                5: 1.,\n",
        "                6: 1.,\n",
        "                7: 1.,\n",
        "                8: 1.,\n",
        "                9: 1,\n",
        "                10: 1}\n",
        "\n",
        "model.fit(X_train, y_train, batch_size = 16, validation_split = 0.2, epochs = 40, verbose = 1, class_weight=class_weights)\n",
        "\n",
        "results = model.evaluate(X_test, y_test, verbose = 2)\n",
        "print('Test accuracy: ', results[1])\n",
        "Y_pred = model.predict(X_test, verbose = 2)\n",
        "y_pred = np.argmax(Y_pred, axis=1)\n",
        "Y_test = np.argmax(y_test, axis=-1)\n",
        "print(confusion_matrix(Y_test, y_pred))\n",
        "print(classification_report(Y_test, y_pred, target_names=manualy_selected_appliances))\n",
        "#precision for various datassets - to see if more data helps\n",
        "#window times for various appliances"
      ],
      "execution_count": 23,
      "outputs": [
        {
          "output_type": "stream",
          "text": [
            "(9000, 300, 300, 1)\n",
            "(7200, 300, 300, 1)\n",
            "(7200, 9)\n",
            "Epoch 1/40\n",
            "360/360 [==============================] - 262s 615ms/step - loss: 11.5942 - accuracy: 0.2315 - val_loss: 1.8341 - val_accuracy: 0.4167\n",
            "Epoch 2/40\n",
            "360/360 [==============================] - 220s 611ms/step - loss: 1.6483 - accuracy: 0.4525 - val_loss: 1.3166 - val_accuracy: 0.5076\n",
            "Epoch 3/40\n",
            "360/360 [==============================] - 220s 611ms/step - loss: 1.3325 - accuracy: 0.5083 - val_loss: 1.1689 - val_accuracy: 0.5514\n",
            "Epoch 4/40\n",
            "360/360 [==============================] - 220s 611ms/step - loss: 1.1191 - accuracy: 0.5744 - val_loss: 1.1376 - val_accuracy: 0.5903\n",
            "Epoch 5/40\n",
            "360/360 [==============================] - 220s 611ms/step - loss: 1.6473 - accuracy: 0.4387 - val_loss: 1.1500 - val_accuracy: 0.5868\n",
            "Epoch 6/40\n",
            "360/360 [==============================] - 220s 612ms/step - loss: 1.0667 - accuracy: 0.6072 - val_loss: 1.0676 - val_accuracy: 0.6014\n",
            "Epoch 7/40\n",
            "360/360 [==============================] - 222s 616ms/step - loss: 0.9769 - accuracy: 0.6314 - val_loss: 1.0108 - val_accuracy: 0.6465\n",
            "Epoch 8/40\n",
            "360/360 [==============================] - 222s 616ms/step - loss: 1.0356 - accuracy: 0.6137 - val_loss: 1.1532 - val_accuracy: 0.5653\n",
            "Epoch 9/40\n",
            "360/360 [==============================] - 221s 615ms/step - loss: 1.0503 - accuracy: 0.6080 - val_loss: 1.0114 - val_accuracy: 0.6187\n",
            "Epoch 10/40\n",
            "360/360 [==============================] - 221s 615ms/step - loss: 0.9364 - accuracy: 0.6477 - val_loss: 0.9945 - val_accuracy: 0.6285\n",
            "Epoch 11/40\n",
            "360/360 [==============================] - 221s 615ms/step - loss: 0.9053 - accuracy: 0.6559 - val_loss: 0.9437 - val_accuracy: 0.6451\n",
            "Epoch 12/40\n",
            "360/360 [==============================] - 221s 615ms/step - loss: 0.8061 - accuracy: 0.6793 - val_loss: 0.9034 - val_accuracy: 0.6472\n",
            "Epoch 13/40\n",
            "360/360 [==============================] - 222s 616ms/step - loss: 0.7807 - accuracy: 0.7014 - val_loss: 0.9481 - val_accuracy: 0.6424\n",
            "Epoch 14/40\n",
            "360/360 [==============================] - 221s 615ms/step - loss: 0.7319 - accuracy: 0.7118 - val_loss: 0.9177 - val_accuracy: 0.6500\n",
            "Epoch 15/40\n",
            "360/360 [==============================] - 221s 615ms/step - loss: 0.7042 - accuracy: 0.7260 - val_loss: 1.1485 - val_accuracy: 0.5639\n",
            "Epoch 16/40\n",
            "360/360 [==============================] - 221s 615ms/step - loss: 0.9118 - accuracy: 0.6480 - val_loss: 0.9143 - val_accuracy: 0.6674\n",
            "Epoch 17/40\n",
            "360/360 [==============================] - 221s 615ms/step - loss: 0.6950 - accuracy: 0.7230 - val_loss: 1.0467 - val_accuracy: 0.6257\n",
            "Epoch 18/40\n",
            "360/360 [==============================] - 221s 615ms/step - loss: 0.6455 - accuracy: 0.7475 - val_loss: 0.9293 - val_accuracy: 0.6674\n",
            "Epoch 19/40\n",
            "360/360 [==============================] - 222s 616ms/step - loss: 0.6386 - accuracy: 0.7576 - val_loss: 0.9236 - val_accuracy: 0.6771\n",
            "Epoch 20/40\n",
            "360/360 [==============================] - 222s 616ms/step - loss: 0.6185 - accuracy: 0.7569 - val_loss: 0.9505 - val_accuracy: 0.6687\n",
            "Epoch 21/40\n",
            "360/360 [==============================] - 221s 615ms/step - loss: 0.5847 - accuracy: 0.7652 - val_loss: 0.9948 - val_accuracy: 0.6472\n",
            "Epoch 22/40\n",
            "360/360 [==============================] - 221s 614ms/step - loss: 0.6309 - accuracy: 0.7543 - val_loss: 0.9739 - val_accuracy: 0.6431\n",
            "Epoch 23/40\n",
            "360/360 [==============================] - 221s 615ms/step - loss: 0.6268 - accuracy: 0.7488 - val_loss: 0.9308 - val_accuracy: 0.6549\n",
            "Epoch 24/40\n",
            "360/360 [==============================] - 221s 615ms/step - loss: 0.5644 - accuracy: 0.7809 - val_loss: 0.9932 - val_accuracy: 0.6465\n",
            "Epoch 25/40\n",
            "360/360 [==============================] - 221s 614ms/step - loss: 0.5344 - accuracy: 0.7848 - val_loss: 1.0843 - val_accuracy: 0.6417\n",
            "Epoch 26/40\n",
            "360/360 [==============================] - 221s 614ms/step - loss: 0.5209 - accuracy: 0.7880 - val_loss: 1.0847 - val_accuracy: 0.6569\n",
            "Epoch 27/40\n",
            "360/360 [==============================] - 221s 615ms/step - loss: 0.5189 - accuracy: 0.7898 - val_loss: 0.9950 - val_accuracy: 0.6625\n",
            "Epoch 28/40\n",
            "360/360 [==============================] - 221s 614ms/step - loss: 0.4685 - accuracy: 0.8144 - val_loss: 1.0352 - val_accuracy: 0.6604\n",
            "Epoch 29/40\n",
            "360/360 [==============================] - 221s 615ms/step - loss: 0.4821 - accuracy: 0.8060 - val_loss: 1.0526 - val_accuracy: 0.6597\n",
            "Epoch 30/40\n",
            "360/360 [==============================] - 221s 614ms/step - loss: 0.4468 - accuracy: 0.8222 - val_loss: 0.9938 - val_accuracy: 0.6736\n",
            "Epoch 31/40\n",
            "360/360 [==============================] - 221s 614ms/step - loss: 0.4320 - accuracy: 0.8278 - val_loss: 1.0163 - val_accuracy: 0.6618\n",
            "Epoch 32/40\n",
            "360/360 [==============================] - 221s 615ms/step - loss: 0.4343 - accuracy: 0.8270 - val_loss: 1.2004 - val_accuracy: 0.6625\n",
            "Epoch 33/40\n",
            "360/360 [==============================] - 221s 615ms/step - loss: 0.4424 - accuracy: 0.8263 - val_loss: 1.0276 - val_accuracy: 0.6611\n",
            "Epoch 34/40\n",
            "360/360 [==============================] - 221s 615ms/step - loss: 0.4175 - accuracy: 0.8442 - val_loss: 1.0480 - val_accuracy: 0.6569\n",
            "Epoch 35/40\n",
            "360/360 [==============================] - 221s 615ms/step - loss: 0.3876 - accuracy: 0.8423 - val_loss: 1.0669 - val_accuracy: 0.6528\n",
            "Epoch 36/40\n",
            "360/360 [==============================] - 221s 615ms/step - loss: 0.4071 - accuracy: 0.8335 - val_loss: 1.1630 - val_accuracy: 0.6521\n",
            "Epoch 37/40\n",
            "360/360 [==============================] - 221s 615ms/step - loss: 0.3822 - accuracy: 0.8443 - val_loss: 1.1636 - val_accuracy: 0.6576\n",
            "Epoch 38/40\n",
            "360/360 [==============================] - 221s 615ms/step - loss: 0.3913 - accuracy: 0.8473 - val_loss: 1.2730 - val_accuracy: 0.6562\n",
            "Epoch 39/40\n",
            "360/360 [==============================] - 221s 614ms/step - loss: 0.3658 - accuracy: 0.8575 - val_loss: 1.2821 - val_accuracy: 0.6458\n",
            "Epoch 40/40\n",
            "360/360 [==============================] - 221s 614ms/step - loss: 0.3260 - accuracy: 0.8669 - val_loss: 1.2148 - val_accuracy: 0.6403\n",
            "57/57 - 25s - loss: 1.1328 - accuracy: 0.6506\n",
            "Test accuracy:  0.6505555510520935\n",
            "57/57 - 21s\n",
            "[[108  15  17   6   7   5  10   9  18]\n",
            " [ 56  94  22  10   3  17   4   4   1]\n",
            " [  9   4 159   2   0   4   0   0   1]\n",
            " [  1   0   0 157  18   1  10   4   0]\n",
            " [  4   2   2   4 117   3  24  47   0]\n",
            " [  4   9  20   4   2 167   1   0   0]\n",
            " [  0   4   2   6  30   0 134  33   0]\n",
            " [  0   1   1   6  74   0  45  77   0]\n",
            " [ 25   6   2   5   1   4   0   0 158]]\n",
            "                  precision    recall  f1-score   support\n",
            "\n",
            "computer monitor       0.52      0.55      0.54       195\n",
            " laptop computer       0.70      0.45      0.54       211\n",
            "      television       0.71      0.89      0.79       179\n",
            "    washer dryer       0.79      0.82      0.80       191\n",
            "       microwave       0.46      0.58      0.51       203\n",
            "          boiler       0.83      0.81      0.82       207\n",
            "         toaster       0.59      0.64      0.61       209\n",
            "          kettle       0.44      0.38      0.41       204\n",
            "          fridge       0.89      0.79      0.83       201\n",
            "\n",
            "        accuracy                           0.65      1800\n",
            "       macro avg       0.66      0.66      0.65      1800\n",
            "    weighted avg       0.66      0.65      0.65      1800\n",
            "\n"
          ],
          "name": "stdout"
        }
      ]
    }
  ]
}