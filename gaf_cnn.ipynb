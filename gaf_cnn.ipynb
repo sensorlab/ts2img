{
  "nbformat": 4,
  "nbformat_minor": 0,
  "metadata": {
    "language_info": {
      "codemirror_mode": {
        "name": "ipython",
        "version": 3
      },
      "file_extension": ".py",
      "mimetype": "text/x-python",
      "name": "python",
      "nbconvert_exporter": "python",
      "pygments_lexer": "ipython3",
      "version": "3.8.3-final"
    },
    "orig_nbformat": 2,
    "kernelspec": {
      "name": "python3",
      "display_name": "Python 3",
      "language": "python"
    },
    "colab": {
      "name": "gaf-cnn-colab.ipynb",
      "provenance": [],
      "collapsed_sections": [],
      "include_colab_link": true
    },
    "accelerator": "GPU"
  },
  "cells": [
    {
      "cell_type": "markdown",
      "metadata": {
        "id": "view-in-github",
        "colab_type": "text"
      },
      "source": [
        "<a href=\"https://colab.research.google.com/github/jenkoj/nilm-gaf/blob/main/gaf_cnn.ipynb\" target=\"_parent\"><img src=\"https://colab.research.google.com/assets/colab-badge.svg\" alt=\"Open In Colab\"/></a>"
      ]
    },
    {
      "cell_type": "code",
      "metadata": {
        "id": "YdIfOeCYFZrz"
      },
      "source": [
        "import numpy as np\n",
        "import h5py\n",
        "from sklearn.model_selection import train_test_split, KFold,StratifiedKFold\n",
        "\n",
        "\n",
        "from sklearn.utils import class_weight\n",
        "from sklearn.metrics import classification_report, confusion_matrix \n",
        "\n",
        "import seaborn as sns\n",
        "import matplotlib.pyplot as plt\n",
        "import pandas as pd\n",
        "\n",
        "import tensorflow as tf\n",
        "from tensorflow import keras\n",
        "from tensorflow.keras import layers, optimizers\n",
        "from tensorflow.keras.layers import Conv2D, Dense, Flatten, Activation, MaxPooling2D, Input, Conv1D, GlobalAveragePooling1D\n"
      ],
      "execution_count": 4,
      "outputs": []
    },
    {
      "cell_type": "code",
      "metadata": {
        "id": "3CqC33FIHW41",
        "colab": {
          "base_uri": "https://localhost:8080/"
        },
        "outputId": "7c2f441d-6ece-4cec-f20a-065e1fab1444"
      },
      "source": [
        "ls"
      ],
      "execution_count": null,
      "outputs": [
        {
          "output_type": "stream",
          "text": [
            "\u001b[0m\u001b[01;34msample_data\u001b[0m/\n"
          ],
          "name": "stdout"
        }
      ]
    },
    {
      "cell_type": "code",
      "metadata": {
        "id": "3rJTTA4HFZr5",
        "colab": {
          "base_uri": "https://localhost:8080/"
        },
        "outputId": "b8e43165-86d0-48fc-9f96-1ba0e09a5962"
      },
      "source": [
        "#M - months A - appliances N - num of imgs \n",
        "\n",
        "#file_name =\"UKDALE_GAF_1h_18M9A1000N\"\n",
        "#file_name= \"UKDALE_GAF_1h_12M10A300N\"\n",
        "#file_name = \"UKDALE_GAF_1h_12M10A500N\"\n",
        "file_name = \"UK-DALE_GADF_60m_300S0X_9A5000N_NmB\" # x is n of paralel imgs\n",
        "\n",
        "#check if we are in cloud or in PC\n",
        "try:\n",
        "    from google.colab import drive\n",
        "    drive.mount('/content/drive')\n",
        "\n",
        "    print(\"reading from cloud...\")\n",
        "    path = \"/content/drive/MyDrive/Colab Notebooks/NILM/GAF_DS/\"\n",
        "except:\n",
        "    print(\"reading from HDD\")\n",
        "    path = \"D:/jjenko/nilm data/GAF_DS\"\n",
        "\n",
        "#check if file exists\n",
        "try:\n",
        "    file = h5py.File(f\"{path}\"\"/\"f\"{file_name}\"\".hdf5\",\"r+\")\n",
        "    print(\"file exists, reading it...\")\n",
        "except:\n",
        "    print(\"error reading the file!\")\n",
        "\n",
        "\n",
        "# function to make reading easier\n",
        "def read_many_hdf5(group_name,image_set_name):\n",
        "    \"\"\" \n",
        "    Reads image from HDF5.\n",
        "    \"\"\"\n",
        "    images = []\n",
        "\n",
        "    # Open the HDF5 file\n",
        "    file = h5py.File(f\"{path}\"\"/\"f\"{file_name}\"\".hdf5\", \"r+\")\n",
        "\n",
        "    images = np.array(file[f\"{group_name}\"\"/\"f\"{image_set_name}\"])\n",
        "\n",
        "    return images"
      ],
      "execution_count": 7,
      "outputs": [
        {
          "output_type": "stream",
          "text": [
            "Drive already mounted at /content/drive; to attempt to forcibly remount, call drive.mount(\"/content/drive\", force_remount=True).\n",
            "reading from cloud...\n",
            "file exists, reading it...\n"
          ],
          "name": "stdout"
        }
      ]
    },
    {
      "cell_type": "code",
      "metadata": {
        "id": "xsqw6Z6RFZr8"
      },
      "source": [
        "def basic_cnn_functional(X_train, num_classes, lr):\n",
        "    \n",
        "    input1 = Input(shape = X_train.shape[1: ])\n",
        "    cnn = Conv2D(filters = 32, kernel_size = (7,7), strides = (2,2), activation='relu', padding = 'same')(input1)\n",
        "    cnn1 = Conv2D(filters = 16, kernel_size =  (7,7), strides = (2,2), activation='relu', padding = 'same')(cnn)\n",
        "    cnn2 = Conv2D(filters = 16, kernel_size =  (7,7), strides = (1,1), activation='relu', padding = 'same')(cnn1)\n",
        "    cnn3 = Conv2D(filters = 8, kernel_size =  (7,7), strides = (1,1), activation='relu', padding = 'same')(cnn2)\n",
        "    cnn4 = Conv2D(filters = 4, kernel_size =  (7,7), strides = (1,1), padding = 'same')(cnn3)\n",
        "    act = Activation('relu')(cnn3)\n",
        "    maxP = MaxPooling2D(pool_size = (2,2))(act)\n",
        "\n",
        "    # prior layer should be flattend to be connected to dense layers\n",
        "    Flatt = Flatten()(maxP)\n",
        "    # dense layer with 50 neurons\n",
        "    dense = Dense(32, activation = 'relu')(Flatt)\n",
        "    # final layer with 10 neurons to classify the instances\n",
        "    output = Dense(num_classes, activation = 'softmax')(dense)\n",
        "    \n",
        "    adam = optimizers.Adam(lr = lr)#lahko SGD uporabs tud\n",
        "    model = keras.models.Model(inputs=input1, outputs=output)\n",
        "    model.compile(loss = 'categorical_crossentropy', optimizer = adam, metrics = ['accuracy'])\n",
        "\n",
        "    return model    \n"
      ],
      "execution_count": 8,
      "outputs": []
    },
    {
      "cell_type": "code",
      "metadata": {
        "id": "xpglgNqbffo7"
      },
      "source": [
        "file.close()"
      ],
      "execution_count": null,
      "outputs": []
    },
    {
      "cell_type": "code",
      "metadata": {
        "id": "abf3UR7BWmw9"
      },
      "source": [
        "def transfer_learning(X_train, num_classes, lr):\n",
        "    base_model = keras.applications.ResNet50V2(\n",
        "        weights=None,#'imagenet',  # Load weights pre-trained on ImageNet.\n",
        "        input_shape=(300, 300, 1),\n",
        "        include_top=False)  # Do not include the ImageNet classifier at the top.\n",
        "\n",
        "    base_model.trainable = True\n",
        "\n",
        "    inputs = keras.Input(shape = X_train.shape[1: ])\n",
        "    # We make sure that the base_model is running in inference mode here,\n",
        "    # by passing `training=False`. This is important for fine-tuning, as you will\n",
        "    # learn in a few paragraphs.\n",
        "\n",
        "    x = base_model(inputs, training=True)\n",
        "    x = keras.layers.Flatten()(x)\n",
        "    outputs = keras.layers.Dense(num_classes, activation='softmax')(x)\n",
        "    model = keras.Model(inputs, outputs)\n",
        "\n",
        "    model.compile(optimizer=keras.optimizers.Adam(lr = lr),\n",
        "                  loss='categorical_crossentropy',\n",
        "                  metrics=['accuracy'])\n",
        "    return model"
      ],
      "execution_count": null,
      "outputs": []
    },
    {
      "cell_type": "code",
      "metadata": {
        "id": "gf9_6aaeGWeO"
      },
      "source": [
        "manualy_selected_appliances = [\"computer monitor\", \"laptop computer\", \"television\", \"washer dryer\", \"microwave\",\"boiler\",\"toaster\",\"kettle\",\"fridge\"]\n"
      ],
      "execution_count": null,
      "outputs": []
    },
    {
      "cell_type": "code",
      "metadata": {
        "id": "uqZMqwivFZr8",
        "colab": {
          "base_uri": "https://localhost:8080/",
          "height": 616
        },
        "outputId": "9d2a724d-0358-4cfe-f11f-2e65a6697615"
      },
      "source": [
        "#manualy_selected_appliances = [\"computer monitor\", \"laptop computer\", \"washer dryer\", \"microwave\",\"oven\",\"boiler\",\"toaster\",\"kettle\"]\n",
        "#manualy_selected_appliances = [\"computer monitor\", \"laptop computer\", \"television\", \"washer dryer\", \"microwave\",\"boiler\",\"toaster\",\"kettle\",\"fridge\"]\n",
        "\n",
        "enc_appliances = np.array(file[\"classes/appliances\"])\n",
        "manualy_selected_appliances  = [n.decode(\"utf-8\") for n in enc_appliances]\n",
        "print(len(manualy_selected_appliances))\n",
        "print(manualy_selected_appliances)\n",
        "#anualy_selected_appliances = [\"computer monitor\", \"laptop computer\", \"television\", \"washer dryer\", \"microwave\",\"oven\",\"boiler\",\"toaster\",\"kettle\",\"fridge\"]\n",
        "\n",
        "train_data = np.array(read_many_hdf5(\"data\",\"gasf\"))\n",
        "label_data = np.array(read_many_hdf5(\"labels\",\"gaf\"))\n",
        "\n",
        "print(label_data.shape)\n",
        "print(train_data.shape)"
      ],
      "execution_count": null,
      "outputs": [
        {
          "output_type": "stream",
          "text": [
            "9\n",
            "['computer monitor', 'laptop computer', 'television', 'washer dryer', 'microwave', 'boiler', 'toaster', 'kettle', 'fridge']\n"
          ],
          "name": "stdout"
        },
        {
          "output_type": "error",
          "ename": "KeyError",
          "evalue": "ignored",
          "traceback": [
            "\u001b[0;31m---------------------------------------------------------------------------\u001b[0m",
            "\u001b[0;31mKeyError\u001b[0m                                  Traceback (most recent call last)",
            "\u001b[0;32m<ipython-input-5-7aa42d69ef94>\u001b[0m in \u001b[0;36m<module>\u001b[0;34m()\u001b[0m\n\u001b[1;32m      8\u001b[0m \u001b[0;31m#anualy_selected_appliances = [\"computer monitor\", \"laptop computer\", \"television\", \"washer dryer\", \"microwave\",\"oven\",\"boiler\",\"toaster\",\"kettle\",\"fridge\"]\u001b[0m\u001b[0;34m\u001b[0m\u001b[0;34m\u001b[0m\u001b[0;34m\u001b[0m\u001b[0m\n\u001b[1;32m      9\u001b[0m \u001b[0;34m\u001b[0m\u001b[0m\n\u001b[0;32m---> 10\u001b[0;31m \u001b[0mtrain_data\u001b[0m \u001b[0;34m=\u001b[0m \u001b[0mnp\u001b[0m\u001b[0;34m.\u001b[0m\u001b[0marray\u001b[0m\u001b[0;34m(\u001b[0m\u001b[0mread_many_hdf5\u001b[0m\u001b[0;34m(\u001b[0m\u001b[0;34m\"data\"\u001b[0m\u001b[0;34m,\u001b[0m\u001b[0;34m\"gasf\"\u001b[0m\u001b[0;34m)\u001b[0m\u001b[0;34m)\u001b[0m\u001b[0;34m\u001b[0m\u001b[0;34m\u001b[0m\u001b[0m\n\u001b[0m\u001b[1;32m     11\u001b[0m \u001b[0mlabel_data\u001b[0m \u001b[0;34m=\u001b[0m \u001b[0mnp\u001b[0m\u001b[0;34m.\u001b[0m\u001b[0marray\u001b[0m\u001b[0;34m(\u001b[0m\u001b[0mread_many_hdf5\u001b[0m\u001b[0;34m(\u001b[0m\u001b[0;34m\"labels\"\u001b[0m\u001b[0;34m,\u001b[0m\u001b[0;34m\"gaf\"\u001b[0m\u001b[0;34m)\u001b[0m\u001b[0;34m)\u001b[0m\u001b[0;34m\u001b[0m\u001b[0;34m\u001b[0m\u001b[0m\n\u001b[1;32m     12\u001b[0m \u001b[0;34m\u001b[0m\u001b[0m\n",
            "\u001b[0;32m<ipython-input-2-fe5de45dfe11>\u001b[0m in \u001b[0;36mread_many_hdf5\u001b[0;34m(group_name, image_set_name)\u001b[0m\n\u001b[1;32m     36\u001b[0m     \u001b[0mfile\u001b[0m \u001b[0;34m=\u001b[0m \u001b[0mh5py\u001b[0m\u001b[0;34m.\u001b[0m\u001b[0mFile\u001b[0m\u001b[0;34m(\u001b[0m\u001b[0;34mf\"{path}\"\u001b[0m\u001b[0;34m\"/\"\u001b[0m\u001b[0;34mf\"{file_name}\"\u001b[0m\u001b[0;34m\".hdf5\"\u001b[0m\u001b[0;34m,\u001b[0m \u001b[0;34m\"r+\"\u001b[0m\u001b[0;34m)\u001b[0m\u001b[0;34m\u001b[0m\u001b[0;34m\u001b[0m\u001b[0m\n\u001b[1;32m     37\u001b[0m \u001b[0;34m\u001b[0m\u001b[0m\n\u001b[0;32m---> 38\u001b[0;31m     \u001b[0mimages\u001b[0m \u001b[0;34m=\u001b[0m \u001b[0mnp\u001b[0m\u001b[0;34m.\u001b[0m\u001b[0marray\u001b[0m\u001b[0;34m(\u001b[0m\u001b[0mfile\u001b[0m\u001b[0;34m[\u001b[0m\u001b[0;34mf\"{group_name}\"\u001b[0m\u001b[0;34m\"/\"\u001b[0m\u001b[0;34mf\"{image_set_name}\"\u001b[0m\u001b[0;34m]\u001b[0m\u001b[0;34m)\u001b[0m\u001b[0;34m\u001b[0m\u001b[0;34m\u001b[0m\u001b[0m\n\u001b[0m\u001b[1;32m     39\u001b[0m \u001b[0;34m\u001b[0m\u001b[0m\n\u001b[1;32m     40\u001b[0m     \u001b[0;32mreturn\u001b[0m \u001b[0mimages\u001b[0m\u001b[0;34m\u001b[0m\u001b[0;34m\u001b[0m\u001b[0m\n",
            "\u001b[0;32mh5py/_objects.pyx\u001b[0m in \u001b[0;36mh5py._objects.with_phil.wrapper\u001b[0;34m()\u001b[0m\n",
            "\u001b[0;32mh5py/_objects.pyx\u001b[0m in \u001b[0;36mh5py._objects.with_phil.wrapper\u001b[0;34m()\u001b[0m\n",
            "\u001b[0;32m/usr/local/lib/python3.7/dist-packages/h5py/_hl/group.py\u001b[0m in \u001b[0;36m__getitem__\u001b[0;34m(self, name)\u001b[0m\n\u001b[1;32m    262\u001b[0m                 \u001b[0;32mraise\u001b[0m \u001b[0mValueError\u001b[0m\u001b[0;34m(\u001b[0m\u001b[0;34m\"Invalid HDF5 object reference\"\u001b[0m\u001b[0;34m)\u001b[0m\u001b[0;34m\u001b[0m\u001b[0;34m\u001b[0m\u001b[0m\n\u001b[1;32m    263\u001b[0m         \u001b[0;32melse\u001b[0m\u001b[0;34m:\u001b[0m\u001b[0;34m\u001b[0m\u001b[0;34m\u001b[0m\u001b[0m\n\u001b[0;32m--> 264\u001b[0;31m             \u001b[0moid\u001b[0m \u001b[0;34m=\u001b[0m \u001b[0mh5o\u001b[0m\u001b[0;34m.\u001b[0m\u001b[0mopen\u001b[0m\u001b[0;34m(\u001b[0m\u001b[0mself\u001b[0m\u001b[0;34m.\u001b[0m\u001b[0mid\u001b[0m\u001b[0;34m,\u001b[0m \u001b[0mself\u001b[0m\u001b[0;34m.\u001b[0m\u001b[0m_e\u001b[0m\u001b[0;34m(\u001b[0m\u001b[0mname\u001b[0m\u001b[0;34m)\u001b[0m\u001b[0;34m,\u001b[0m \u001b[0mlapl\u001b[0m\u001b[0;34m=\u001b[0m\u001b[0mself\u001b[0m\u001b[0;34m.\u001b[0m\u001b[0m_lapl\u001b[0m\u001b[0;34m)\u001b[0m\u001b[0;34m\u001b[0m\u001b[0;34m\u001b[0m\u001b[0m\n\u001b[0m\u001b[1;32m    265\u001b[0m \u001b[0;34m\u001b[0m\u001b[0m\n\u001b[1;32m    266\u001b[0m         \u001b[0motype\u001b[0m \u001b[0;34m=\u001b[0m \u001b[0mh5i\u001b[0m\u001b[0;34m.\u001b[0m\u001b[0mget_type\u001b[0m\u001b[0;34m(\u001b[0m\u001b[0moid\u001b[0m\u001b[0;34m)\u001b[0m\u001b[0;34m\u001b[0m\u001b[0;34m\u001b[0m\u001b[0m\n",
            "\u001b[0;32mh5py/_objects.pyx\u001b[0m in \u001b[0;36mh5py._objects.with_phil.wrapper\u001b[0;34m()\u001b[0m\n",
            "\u001b[0;32mh5py/_objects.pyx\u001b[0m in \u001b[0;36mh5py._objects.with_phil.wrapper\u001b[0;34m()\u001b[0m\n",
            "\u001b[0;32mh5py/h5o.pyx\u001b[0m in \u001b[0;36mh5py.h5o.open\u001b[0;34m()\u001b[0m\n",
            "\u001b[0;31mKeyError\u001b[0m: 'Unable to open object (component not found)'"
          ]
        }
      ]
    },
    {
      "cell_type": "code",
      "metadata": {
        "id": "NQ8y4vWS9xjH",
        "colab": {
          "base_uri": "https://localhost:8080/"
        },
        "outputId": "321e9a51-50ca-4ffc-bdd3-5c2093fb81d4"
      },
      "source": [
        "train_data = read_many_hdf5(\"washer dryer\",\"gasf\")\n",
        "train_data = np.empty([0,300,300,1])# -> change size to match GAF image size\n",
        "label_data = np.empty([0,1],dtype=object)# -> change size to match GAF image size\n",
        "tmp = np.empty([1,1],dtype=object)# -> change size to match GAF image size\n",
        "\n",
        "#generate labels and read data\n",
        "for appliance in manualy_selected_appliances:\n",
        "  data = np.array(read_many_hdf5(f\"{appliance}\",\"gasf\"))\n",
        "  data = data[...,np.newaxis]\n",
        "  train_data = np.append(train_data,data,axis=0)\n",
        "  labels = np.repeat(np.array([[f\"{manualy_selected_appliances.index(appliance)}\"]],dtype=object),data.shape[0],axis=0)\n",
        "  label_data = np.append(label_data,labels,axis=0)\n",
        "\n",
        "print(label_data.shape)\n",
        "print(train_data.shape)"
      ],
      "execution_count": null,
      "outputs": [
        {
          "output_type": "stream",
          "text": [
            "(2700, 1)\n",
            "(2700, 300, 300, 1)\n"
          ],
          "name": "stdout"
        }
      ]
    },
    {
      "cell_type": "code",
      "metadata": {
        "id": "RzIRiY48W-XC",
        "colab": {
          "base_uri": "https://localhost:8080/"
        },
        "outputId": "5da23483-ff5e-40b3-fba4-816312934f60"
      },
      "source": [
        "num_frames = train_data.shape[0]\n",
        "shape_x = train_data.shape[1]\n",
        "shape_y = train_data.shape[2]\n",
        "channel = train_data.shape[3]\n",
        "\n",
        "acc_per_fold = []\n",
        "loss_per_fold = []\n",
        "\n",
        "num_of_classes = len(manualy_selected_appliances)\n",
        "\n",
        "\n",
        "y_anomF = tf.keras.utils.to_categorical(label_data, num_classes=num_of_classes) #onehot encoding\n",
        "X_resampled = train_data.reshape(train_data.shape[0],300, 300,1)\n",
        "print(X_resampled.shape)\n",
        "X_train, X_test, y_train, y_test = train_test_split(X_resampled, y_anomF, test_size=0.2, random_state=42)\n",
        "\n",
        "print(X_train.shape)\n",
        "print(X_test.shape)\n",
        "print(y_train.shape)\n",
        "\n",
        "\n",
        "class_weights = {0: 1.,\n",
        "                1: 1.,\n",
        "                2: 1.,\n",
        "                3: 1.,\n",
        "                4: 1.,\n",
        "                5: 1.,\n",
        "                6: 1.,\n",
        "                7: 1.,\n",
        "                8: 1.,\n",
        "                9: 1,\n",
        "                10: 1}\n",
        "\n",
        "\n",
        "skf = StratifiedKFold(n_splits=5)\n",
        "skf.get_n_splits(X_resampled)\n",
        "\n",
        "for train_index, test_index in skf.split(X_resampled, y_anomF.argmax(1)):\n",
        "  print(\"TRAIN:\", train_index, \"TEST:\", test_index[0])\n",
        "  X_train, X_test = X_resampled[train_index], X_resampled[test_index]\n",
        "  y_train, y_test = y_anomF[train_index], y_anomF[test_index]\n",
        "\n",
        "  print(\"xtrain, \",X_train.shape)\n",
        "  print(\"xtest, \",X_test.shape)\n",
        "  print(\"ytrain\",y_train.shape)\n",
        "  \n",
        "  model = None # Clearing the NN.\n",
        "  #model = basic_cnn_functional(X_train, num_of_classes, lr = 0.001)\n",
        "  model = transfer_learning(X_train,num_of_classes,lr = 0.001)\n",
        "\n",
        "  model.fit(X_train, y_train, batch_size = 16, epochs = 25, verbose = 1, class_weight=class_weights)\n",
        "  results = model.evaluate(X_test, y_test, verbose = 2)\n",
        "\n",
        "  acc_per_fold.append(round(results[1] * 100,2))\n",
        "  loss_per_fold.append(round(results[0],2))\n",
        "  \n",
        "  print('Test accuracy: ',acc_per_fold[-1])\n",
        "  print('Test loss: ',loss_per_fold[-1])"
      ],
      "execution_count": null,
      "outputs": [
        {
          "output_type": "stream",
          "text": [
            "(2700, 300, 300, 1)\n",
            "(2160, 300, 300, 1)\n",
            "(540, 300, 300, 1)\n",
            "(2160, 9)\n",
            "TRAIN: [  60   61   62 ... 2697 2698 2699] TEST: 0\n",
            "xtrain,  (2160, 300, 300, 1)\n",
            "xtest,  (540, 300, 300, 1)\n",
            "ytrain (2160, 9)\n",
            "Epoch 1/25\n",
            "135/135 [==============================] - 91s 603ms/step - loss: 21.7417 - accuracy: 0.1493\n",
            "Epoch 2/25\n",
            "135/135 [==============================] - 81s 603ms/step - loss: 2.8205 - accuracy: 0.2980\n",
            "Epoch 3/25\n",
            "135/135 [==============================] - 81s 602ms/step - loss: 1.7535 - accuracy: 0.3763\n",
            "Epoch 4/25\n",
            "135/135 [==============================] - 81s 603ms/step - loss: 1.5658 - accuracy: 0.4340\n",
            "Epoch 5/25\n",
            "135/135 [==============================] - 81s 602ms/step - loss: 1.4609 - accuracy: 0.4880\n",
            "Epoch 6/25\n",
            "135/135 [==============================] - 81s 602ms/step - loss: 1.2850 - accuracy: 0.5197\n",
            "Epoch 7/25\n",
            "135/135 [==============================] - 81s 602ms/step - loss: 1.1901 - accuracy: 0.5532\n",
            "Epoch 8/25\n",
            "135/135 [==============================] - 81s 603ms/step - loss: 1.1108 - accuracy: 0.6038\n",
            "Epoch 9/25\n",
            "135/135 [==============================] - 81s 602ms/step - loss: 1.0534 - accuracy: 0.5970\n",
            "Epoch 10/25\n",
            "135/135 [==============================] - 81s 602ms/step - loss: 1.0173 - accuracy: 0.6025\n",
            "Epoch 11/25\n",
            "135/135 [==============================] - 81s 603ms/step - loss: 0.9433 - accuracy: 0.6383\n",
            "Epoch 12/25\n",
            "135/135 [==============================] - 81s 602ms/step - loss: 0.8977 - accuracy: 0.6550\n",
            "Epoch 13/25\n",
            "135/135 [==============================] - 81s 602ms/step - loss: 0.8939 - accuracy: 0.6764\n",
            "Epoch 14/25\n",
            "135/135 [==============================] - 81s 603ms/step - loss: 0.8023 - accuracy: 0.6910\n",
            "Epoch 15/25\n",
            "135/135 [==============================] - 81s 603ms/step - loss: 0.8339 - accuracy: 0.6824\n",
            "Epoch 16/25\n",
            "135/135 [==============================] - 81s 603ms/step - loss: 0.9239 - accuracy: 0.6534\n",
            "Epoch 17/25\n",
            "135/135 [==============================] - 81s 603ms/step - loss: 0.8729 - accuracy: 0.6695\n",
            "Epoch 18/25\n",
            "135/135 [==============================] - 81s 602ms/step - loss: 0.7648 - accuracy: 0.7110\n",
            "Epoch 19/25\n",
            "135/135 [==============================] - 81s 603ms/step - loss: 0.7398 - accuracy: 0.7312\n",
            "Epoch 20/25\n",
            "135/135 [==============================] - 81s 603ms/step - loss: 0.7054 - accuracy: 0.7348\n",
            "Epoch 21/25\n",
            "135/135 [==============================] - 81s 603ms/step - loss: 0.7259 - accuracy: 0.7168\n",
            "Epoch 22/25\n",
            "135/135 [==============================] - 81s 602ms/step - loss: 0.6997 - accuracy: 0.7375\n",
            "Epoch 23/25\n",
            "135/135 [==============================] - 81s 602ms/step - loss: 0.7232 - accuracy: 0.7336\n",
            "Epoch 24/25\n",
            "135/135 [==============================] - 81s 603ms/step - loss: 0.8256 - accuracy: 0.6987\n",
            "Epoch 25/25\n",
            "135/135 [==============================] - 81s 603ms/step - loss: 0.9677 - accuracy: 0.6544\n",
            "17/17 - 13s - loss: 1.9778 - accuracy: 0.4093\n",
            "Test accuracy:  40.93\n",
            "Test loss:  1.98\n",
            "TRAIN: [   0    1    2 ... 2697 2698 2699] TEST: 60\n",
            "xtrain,  (2160, 300, 300, 1)\n",
            "xtest,  (540, 300, 300, 1)\n",
            "ytrain (2160, 9)\n",
            "Epoch 1/25\n",
            "135/135 [==============================] - 88s 603ms/step - loss: 23.0213 - accuracy: 0.1628\n",
            "Epoch 2/25\n",
            "135/135 [==============================] - 81s 603ms/step - loss: 2.9289 - accuracy: 0.2766\n",
            "Epoch 3/25\n",
            "135/135 [==============================] - 81s 603ms/step - loss: 1.8762 - accuracy: 0.3504\n",
            "Epoch 4/25\n",
            "135/135 [==============================] - 81s 602ms/step - loss: 1.5684 - accuracy: 0.4138\n",
            "Epoch 5/25\n",
            "135/135 [==============================] - 81s 602ms/step - loss: 1.4915 - accuracy: 0.4705\n",
            "Epoch 6/25\n",
            "135/135 [==============================] - 81s 603ms/step - loss: 1.3914 - accuracy: 0.4893\n",
            "Epoch 7/25\n",
            "135/135 [==============================] - 81s 603ms/step - loss: 1.2727 - accuracy: 0.5240\n",
            "Epoch 8/25\n",
            "135/135 [==============================] - 81s 602ms/step - loss: 1.3120 - accuracy: 0.5109\n",
            "Epoch 9/25\n",
            "135/135 [==============================] - 81s 602ms/step - loss: 1.1778 - accuracy: 0.5633\n",
            "Epoch 10/25\n",
            "135/135 [==============================] - 81s 603ms/step - loss: 1.1177 - accuracy: 0.5754\n",
            "Epoch 11/25\n",
            "135/135 [==============================] - 81s 602ms/step - loss: 1.0214 - accuracy: 0.6030\n",
            "Epoch 12/25\n",
            "135/135 [==============================] - 81s 602ms/step - loss: 1.0066 - accuracy: 0.6183\n",
            "Epoch 13/25\n",
            "135/135 [==============================] - 81s 603ms/step - loss: 0.9899 - accuracy: 0.6207\n",
            "Epoch 14/25\n",
            "135/135 [==============================] - 81s 603ms/step - loss: 0.9007 - accuracy: 0.6546\n",
            "Epoch 15/25\n",
            "135/135 [==============================] - 81s 602ms/step - loss: 0.8849 - accuracy: 0.6701\n",
            "Epoch 16/25\n",
            "135/135 [==============================] - 81s 603ms/step - loss: 1.0454 - accuracy: 0.6147\n",
            "Epoch 17/25\n",
            "135/135 [==============================] - 81s 603ms/step - loss: 0.9305 - accuracy: 0.6533\n",
            "Epoch 18/25\n",
            "135/135 [==============================] - 81s 602ms/step - loss: 0.8212 - accuracy: 0.6657\n",
            "Epoch 19/25\n",
            "135/135 [==============================] - 81s 602ms/step - loss: 0.8041 - accuracy: 0.6813\n",
            "Epoch 20/25\n",
            "135/135 [==============================] - 81s 603ms/step - loss: 0.7522 - accuracy: 0.7100\n",
            "Epoch 21/25\n",
            "135/135 [==============================] - 81s 603ms/step - loss: 0.7688 - accuracy: 0.7177\n",
            "Epoch 22/25\n",
            "135/135 [==============================] - 81s 602ms/step - loss: 0.6570 - accuracy: 0.7466\n",
            "Epoch 23/25\n",
            "135/135 [==============================] - 81s 602ms/step - loss: 0.6728 - accuracy: 0.7434\n",
            "Epoch 24/25\n",
            "135/135 [==============================] - 81s 603ms/step - loss: 0.6829 - accuracy: 0.7535\n",
            "Epoch 25/25\n",
            "135/135 [==============================] - 81s 602ms/step - loss: 0.5969 - accuracy: 0.7756\n",
            "17/17 - 8s - loss: 1.9331 - accuracy: 0.4019\n",
            "Test accuracy:  40.19\n",
            "Test loss:  1.93\n",
            "TRAIN: [   0    1    2 ... 2697 2698 2699] TEST: 120\n",
            "xtrain,  (2160, 300, 300, 1)\n",
            "xtest,  (540, 300, 300, 1)\n",
            "ytrain (2160, 9)\n",
            "Epoch 1/25\n",
            "135/135 [==============================] - 88s 602ms/step - loss: 25.6613 - accuracy: 0.1743\n",
            "Epoch 2/25\n",
            "135/135 [==============================] - 81s 603ms/step - loss: 3.9709 - accuracy: 0.2736\n",
            "Epoch 3/25\n",
            "135/135 [==============================] - 81s 602ms/step - loss: 1.9548 - accuracy: 0.3330\n",
            "Epoch 4/25\n",
            "135/135 [==============================] - 81s 603ms/step - loss: 1.5178 - accuracy: 0.4298\n",
            "Epoch 5/25\n",
            " 84/135 [=================>............] - ETA: 30s - loss: 1.2677 - accuracy: 0.5330"
          ],
          "name": "stdout"
        }
      ]
    },
    {
      "cell_type": "code",
      "metadata": {
        "id": "1dPe3sChEh2m",
        "colab": {
          "base_uri": "https://localhost:8080/"
        },
        "outputId": "f7e3e5f9-0387-40e4-c424-b4641ceed950"
      },
      "source": [
        "print(acc_per_fold)\n",
        "print(loss_per_fold)\n",
        "#RESULTS !\n",
        "#gadf 5 folds 25 epochs\n",
        "#[56.3, 53.52, 53.33, 57.41, 56.85]\n",
        "#[2.52, 3.58, 2.74, 3.3, 3.45]\n",
        "#gasf 5 folds 25 epocks\n",
        "#[50.74, 46.3, 42.22, 42.78, 45.74]\n",
        "#[3.14, 3.36, 4.38, 2.82, 3.01]"
      ],
      "execution_count": null,
      "outputs": [
        {
          "output_type": "stream",
          "text": [
            "[50.74, 46.3, 42.22, 42.78, 45.74]\n",
            "[3.14, 3.36, 4.38, 2.82, 3.01]\n"
          ],
          "name": "stdout"
        }
      ]
    },
    {
      "cell_type": "code",
      "metadata": {
        "id": "QWlOUYvrFZr-",
        "colab": {
          "base_uri": "https://localhost:8080/"
        },
        "outputId": "fe1552b4-79fc-43dd-d1bc-b9e0627727be"
      },
      "source": [
        "num_frames = train_data.shape[0]\n",
        "shape_x = train_data.shape[1]\n",
        "shape_y = train_data.shape[2]\n",
        "channel = train_data.shape[3]\n",
        "\n",
        "num_of_classes = len(manualy_selected_appliances)\n",
        "\n",
        "\n",
        "y_anomF = tf.keras.utils.to_categorical(label_data, num_classes=num_of_classes) #onehot encoding\n",
        "X_resampled = train_data.reshape(train_data.shape[0],300, 300,1)\n",
        "print(X_resampled.shape)\n",
        "X_train, X_test, y_train, y_test = train_test_split(X_resampled, y_anomF, test_size=0.2, random_state=42)\n",
        "print(X_train.shape)\n",
        "print(y_train.shape)\n",
        "\n",
        "\n",
        "\n",
        "class_weights = {0: 1.,\n",
        "                1: 1.,\n",
        "                2: 1.,\n",
        "                3: 1.,\n",
        "                4: 1.,\n",
        "                5: 1.,\n",
        "                6: 1.,\n",
        "                7: 1.,\n",
        "                8: 1.,\n",
        "                9: 1,\n",
        "                10: 1}\n",
        "\n",
        "#load model, add training data, n of classes and learning rate\n",
        "model = basic_cnn_functional(X_train, num_of_classes, lr = 0.001)\n",
        "#model = transfer_learning(X_train,num_of_classes,lr = 0.001)\n",
        "\n",
        "model.fit(X_train, y_train, batch_size = 16, validation_split = 0.2, epochs = 20, verbose = 1, class_weight=class_weights)\n",
        "\n",
        "results = model.evaluate(X_test, y_test, verbose = 2)\n",
        "print('Test accuracy: ', results[1])\n",
        "Y_pred = model.predict(X_test, verbose = 2)\n",
        "y_pred = np.argmax(Y_pred, axis=1)\n",
        "Y_test = np.argmax(y_test, axis=-1)\n",
        "cf_matrix = confusion_matrix(Y_test, y_pred, )\n",
        "print(cf_matrix)\n",
        "print(classification_report(Y_test, y_pred, target_names=manualy_selected_appliances))\n",
        "#precision for various datassets - to see if more data helps\n",
        "#window times for various appliances"
      ],
      "execution_count": null,
      "outputs": [
        {
          "output_type": "stream",
          "text": [
            "(2700, 300, 300, 1)\n",
            "(2160, 300, 300, 1)\n",
            "(2160, 9)\n",
            "Epoch 1/20\n",
            "108/108 [==============================] - 45s 73ms/step - loss: 2.0851 - accuracy: 0.1664 - val_loss: 1.5399 - val_accuracy: 0.3981\n",
            "Epoch 2/20\n",
            "108/108 [==============================] - 7s 68ms/step - loss: 1.4816 - accuracy: 0.4186 - val_loss: 1.4091 - val_accuracy: 0.4514\n",
            "Epoch 3/20\n",
            "108/108 [==============================] - 7s 68ms/step - loss: 1.3129 - accuracy: 0.4638 - val_loss: 1.3013 - val_accuracy: 0.4861\n",
            "Epoch 4/20\n",
            "108/108 [==============================] - 7s 68ms/step - loss: 1.2439 - accuracy: 0.4999 - val_loss: 1.4948 - val_accuracy: 0.4352\n",
            "Epoch 5/20\n",
            "108/108 [==============================] - 7s 69ms/step - loss: 1.1266 - accuracy: 0.5635 - val_loss: 1.3481 - val_accuracy: 0.5000\n",
            "Epoch 6/20\n",
            "108/108 [==============================] - 7s 68ms/step - loss: 0.9835 - accuracy: 0.6080 - val_loss: 1.4418 - val_accuracy: 0.5093\n",
            "Epoch 7/20\n",
            "108/108 [==============================] - 7s 68ms/step - loss: 0.8682 - accuracy: 0.6566 - val_loss: 1.5385 - val_accuracy: 0.5602\n",
            "Epoch 8/20\n",
            "108/108 [==============================] - 7s 68ms/step - loss: 0.7979 - accuracy: 0.6726 - val_loss: 1.6448 - val_accuracy: 0.5301\n",
            "Epoch 9/20\n",
            "108/108 [==============================] - 7s 69ms/step - loss: 0.7459 - accuracy: 0.6882 - val_loss: 1.8971 - val_accuracy: 0.4954\n",
            "Epoch 10/20\n",
            "108/108 [==============================] - 7s 69ms/step - loss: 0.7976 - accuracy: 0.6865 - val_loss: 1.7624 - val_accuracy: 0.5069\n",
            "Epoch 11/20\n",
            "108/108 [==============================] - 7s 68ms/step - loss: 0.6734 - accuracy: 0.7519 - val_loss: 1.7443 - val_accuracy: 0.5394\n",
            "Epoch 12/20\n",
            "108/108 [==============================] - 7s 69ms/step - loss: 0.5635 - accuracy: 0.7586 - val_loss: 1.9243 - val_accuracy: 0.5440\n",
            "Epoch 13/20\n",
            "108/108 [==============================] - 7s 68ms/step - loss: 0.5509 - accuracy: 0.7701 - val_loss: 2.1338 - val_accuracy: 0.4977\n",
            "Epoch 14/20\n",
            "108/108 [==============================] - 7s 68ms/step - loss: 0.5734 - accuracy: 0.7709 - val_loss: 2.5031 - val_accuracy: 0.5185\n",
            "Epoch 15/20\n",
            "108/108 [==============================] - 7s 69ms/step - loss: 0.5216 - accuracy: 0.7918 - val_loss: 2.4277 - val_accuracy: 0.5046\n",
            "Epoch 16/20\n",
            "108/108 [==============================] - 7s 68ms/step - loss: 0.5178 - accuracy: 0.7771 - val_loss: 2.5101 - val_accuracy: 0.5255\n",
            "Epoch 17/20\n",
            "108/108 [==============================] - 7s 69ms/step - loss: 0.4691 - accuracy: 0.8070 - val_loss: 2.5645 - val_accuracy: 0.5301\n",
            "Epoch 18/20\n",
            "108/108 [==============================] - 7s 69ms/step - loss: 0.5287 - accuracy: 0.7887 - val_loss: 2.7214 - val_accuracy: 0.5509\n",
            "Epoch 19/20\n",
            "108/108 [==============================] - 7s 69ms/step - loss: 0.5498 - accuracy: 0.7638 - val_loss: 3.0250 - val_accuracy: 0.5185\n",
            "Epoch 20/20\n",
            "108/108 [==============================] - 7s 68ms/step - loss: 0.6264 - accuracy: 0.7629 - val_loss: 2.1744 - val_accuracy: 0.5347\n",
            "17/17 - 2s - loss: 2.5219 - accuracy: 0.5093\n",
            "Test accuracy:  0.5092592835426331\n",
            "17/17 - 1s\n",
            "[[22  8  3  3 15  3  0  0  8]\n",
            " [ 4 25  1  7 11 16  1  0  1]\n",
            " [ 3  0 42  1  3 13  0  0  0]\n",
            " [ 2  0  0 34 18  6  0  0  0]\n",
            " [ 3  0  1  0 45  1  3  2  0]\n",
            " [ 8 11  3  3  2 19  0  0  2]\n",
            " [ 3  1  0  4 19  0 28  9  1]\n",
            " [ 2  0  0  0 30  0  6 18  0]\n",
            " [14  2  0  2  0  2  3  1 42]]\n",
            "                  precision    recall  f1-score   support\n",
            "\n",
            "computer monitor       0.36      0.35      0.36        62\n",
            " laptop computer       0.53      0.38      0.44        66\n",
            "      television       0.84      0.68      0.75        62\n",
            "    washer dryer       0.63      0.57      0.60        60\n",
            "       microwave       0.31      0.82      0.45        55\n",
            "          boiler       0.32      0.40      0.35        48\n",
            "         toaster       0.68      0.43      0.53        65\n",
            "          kettle       0.60      0.32      0.42        56\n",
            "          fridge       0.78      0.64      0.70        66\n",
            "\n",
            "        accuracy                           0.51       540\n",
            "       macro avg       0.56      0.51      0.51       540\n",
            "    weighted avg       0.57      0.51      0.52       540\n",
            "\n"
          ],
          "name": "stdout"
        }
      ]
    },
    {
      "cell_type": "code",
      "metadata": {
        "id": "MZYBEO0hl23n"
      },
      "source": [
        ""
      ],
      "execution_count": null,
      "outputs": []
    },
    {
      "cell_type": "code",
      "metadata": {
        "id": "4RmBWbDQhdIw",
        "colab": {
          "base_uri": "https://localhost:8080/",
          "height": 514
        },
        "outputId": "8e5d52d8-afe0-4cf7-b399-b6f9e1da90e5"
      },
      "source": [
        "Y_pred = model.predict(X_test, verbose = 2)\n",
        "y_pred = np.argmax(Y_pred, axis=1)\n",
        "Y_test = np.argmax(y_test, axis=-1)\n",
        "cm = confusion_matrix(Y_test, y_pred)\n",
        "\n",
        "cmn = cm.astype('float') / cm.sum(axis=1)[:, np.newaxis]\n",
        "\n",
        "fig, ax = plt.subplots(figsize=(8,8))         # Sample figsize in inches\n",
        "sns.heatmap(cmn, fmt=\".2%\", annot=True, cmap='Blues')\n",
        "plt.ylabel('Dejanske')\n",
        "plt.xlabel('Napovedane')\n",
        "plt.show(block=False)"
      ],
      "execution_count": null,
      "outputs": [
        {
          "output_type": "stream",
          "text": [
            "29/29 - 1s\n"
          ],
          "name": "stdout"
        },
        {
          "output_type": "display_data",
          "data": {
            "image/png": "[encoded data removed]",
            "text/plain": [
              "<Figure size 576x576 with 2 Axes>"
            ]
          },
          "metadata": {
            "tags": [],
            "needs_background": "light"
          }
        }
      ]
    },
    {
      "cell_type": "code",
      "metadata": {
        "id": "_28NXIZxgh5O",
        "colab": {
          "base_uri": "https://localhost:8080/",
          "height": 500
        },
        "outputId": "f05273e8-7216-4d47-e4f8-0016a635f9c2"
      },
      "source": [
        "labels_krneki = np.arange(9)\n",
        "\n",
        "clf_report = classification_report(Y_test,\n",
        "                                   y_pred,\n",
        "                                   labels=labels_krneki,\n",
        "                                   target_names=manualy_selected_appliances,\n",
        "                                   output_dict=True)\n",
        "fig, ax = plt.subplots(figsize=(8,8))         # Sample figsize in inches\n",
        "sns.heatmap(pd.DataFrame(clf_report).iloc[:-1, :].T, annot=True,cmap=\"Blues\")\n",
        "\n"
      ],
      "execution_count": null,
      "outputs": [
        {
          "output_type": "execute_result",
          "data": {
            "text/plain": [
              "<matplotlib.axes._subplots.AxesSubplot at 0x7f9f200afcd0>"
            ]
          },
          "metadata": {
            "tags": []
          },
          "execution_count": 10
        },
        {
          "output_type": "display_data",
          "data": {
            "image/png": "[encoded data removed]",
            "text/plain": [
              "<Figure size 576x576 with 2 Axes>"
            ]
          },
          "metadata": {
            "tags": [],
            "needs_background": "light"
          }
        }
      ]
    },
    {
      "cell_type": "code",
      "metadata": {
        "id": "M5ELmR2okUh_"
      },
      "source": [
        "f"
      ],
      "execution_count": null,
      "outputs": []
    }
  ]
}