{
 "cells": [
  {
   "cell_type": "code",
   "execution_count": 27,
   "metadata": {},
   "outputs": [
    {
     "data": {
      "text/plain": [
       "<Figure size 720x2160 with 0 Axes>"
      ]
     },
     "metadata": {},
     "output_type": "display_data"
    }
   ],
   "source": [
    "from nilmtk import DataSet\n",
    "from matplotlib import rcParams\n",
    "import matplotlib.pyplot as plt\n",
    "import pandas as pd\n",
    "import numpy as np\n",
    "import h5py\n",
    "import datetime\n",
    "import warnings\n",
    "import matplotlib.pyplot as plt\n",
    "from pyts.image import GramianAngularField\n",
    "from pyts.image import RecurrencePlot\n",
    "\n",
    "import itertools as it\n",
    "\n",
    "\n",
    "from utils import print_parameters, print_log\n",
    "from utils import create_file, create_hdf5_group, store_single_hdf5, store_many_hdf5, read_many_hdf5\n",
    "from utils import get_appliances, get_good_sections, get_clean_data, trasfrom_ts, append_images\n",
    "\n",
    "plt.style.use('ggplot')\n",
    "rcParams['figure.figsize'] = (12, 10)\n",
    "plt.figure(figsize=(10,30))\n",
    "\n",
    "dataset_name = \"iawe\"\n",
    "dataset = DataSet('datasets/'+dataset_name+'.h5')"
   ]
  },
  {
   "cell_type": "markdown",
   "metadata": {},
   "source": [
    "# TIMESERIES TO IMAGE \n"
   ]
  },
  {
   "cell_type": "code",
   "execution_count": 150,
   "metadata": {},
   "outputs": [
    {
     "name": "stdout",
     "output_type": "stream",
     "text": [
      "television 10\n",
      "2013-06-12 11:59:49+05:30    75.967003\n",
      "2013-06-12 11:59:50+05:30    75.813004\n",
      "2013-06-12 11:59:51+05:30    76.282997\n",
      "2013-06-12 11:59:52+05:30    76.078003\n",
      "2013-06-12 11:59:53+05:30    75.801003\n",
      "                               ...    \n",
      "2013-06-12 12:06:26+05:30    74.528999\n",
      "2013-06-12 12:06:27+05:30    74.568001\n",
      "2013-06-12 12:06:28+05:30    74.521004\n",
      "2013-06-12 12:06:29+05:30    74.559998\n",
      "2013-06-12 12:06:30+05:30    74.757004\n",
      "Name: active, Length: 400, dtype: float32\n"
     ]
    }
   ],
   "source": [
    "# for meter in dataset.buildings[1].elec.submeters().meters:\n",
    "meter = dataset.buildings[1].elec.submeters().meters[7]\n",
    "print(meter.appliances[0].metadata.get(\"type\"),meter.on_power_threshold())\n",
    "df = next(meter.load(physical_quantity='power'))\n",
    "#df = df.fillna(0)\n",
    "#df = df.resample(\"6s\").bfill(limit=1)\n",
    "#df = df.resample(\"6s\").bfill()\n",
    "\n",
    "rule = '6s'\n",
    "f = df.index.floor(rule)\n",
    "df = df.groupby(f).bfill(limit=1)\n",
    "\n",
    "\n",
    "timestamps = df.index.view(np.int64)//10**9\n",
    "\n",
    "# break\n",
    "#for index, row in itertools.islice(df.iterrows(), 5):\n",
    "\n",
    "print(df.power.active[200:600])\n",
    "\n"
   ]
  },
  {
   "cell_type": "code",
   "execution_count": 373,
   "metadata": {},
   "outputs": [
    {
     "name": "stdout",
     "output_type": "stream",
     "text": [
      "unknown 10\n",
      "(7, 130) (7, 130)\n",
      "array empty!\n",
      "(7, 130)\n"
     ]
    }
   ],
   "source": [
    "def mount_data(meter):\n",
    "    #read power data and write it to timeseries \n",
    "\n",
    "    df = next(meter.load(physical_quantity='power'))\n",
    "\n",
    "    #resample and leave out zeros \n",
    "    #f = df.index.floor(\"6s\")\n",
    "    #df = df.groupby(f).mean()\n",
    "\n",
    "    df = df.resample('6s').fillna(\"backfill\",limit=1)\n",
    "\n",
    "    #df = df.resample(\"6s\").bfill(limit=1)\n",
    "\n",
    "    tstamps = df.index.view(np.int64)//10**9\n",
    "\n",
    "    try:\n",
    "        ts = df.power.active.values.transpose()\n",
    "    except:\n",
    "        print(\"no active power!\")\n",
    "        print_log(\"no active power!\")\n",
    "        \n",
    "        try:\n",
    "            print(\"using apparent power!\")\n",
    "            print_log(\"using apparent power!\")\n",
    "        \n",
    "            ts = df.fillna(0).power.apparent.values.transpose()\n",
    "        \n",
    "        except:\n",
    "            print(\"no apparent power!\")\n",
    "            print_log(\"no apparent power!\")\n",
    "            \n",
    "            raise ValueError\n",
    "    \n",
    "    return ts, tstamps\n",
    "\n",
    "    \n",
    "def clean_data(t_series,t_stamp):\n",
    "    t_series_out = np.zeros([0,t_series.shape[1]])\n",
    "    t_stamp_out = np.zeros([0,t_stamp.shape[1]])\n",
    "\n",
    "\n",
    "    for t,pwr in zip(t_stamp,t_series):\n",
    "        diff = np.diff(t)\n",
    "\n",
    "        for i,di in enumerate(diff):\n",
    "            if di < 60*5:\n",
    "                \n",
    "                diff[i] = 6\n",
    "               \n",
    "\n",
    "        # append if high entropy\n",
    "        if (np.all(diff == diff[0]) and np.any( pwr > 10 )):\n",
    "            \n",
    "                pwr = pwr[np.newaxis,...]\n",
    "                t_series_out = np.append(t_series_out, pwr, axis=0)\n",
    "\n",
    "                t = t[np.newaxis,...]\n",
    "                t_stamp_out = np.append(t_stamp_out, t, axis=0)\n",
    "         \n",
    "    return t_series_out, t_stamp_out\n",
    "\n",
    "\n",
    "def moving_window(x, length, step=1):\n",
    "    streams = it.tee(x, length)\n",
    "    return zip(*[it.islice(stream, i, None, step*length) for stream, i in zip(streams, it.count(step=step))])\n",
    "     \n",
    "def remove_empty(tslices,tstamps):\n",
    "\n",
    "    return zip(*[(pd.Series(ts).fillna(0).tolist(),tsp) for ts,tsp in zip(tslices,tstamps) if (np.count_nonzero(~np.isnan(ts))/np.count_nonzero(ts)) > 0.85 ])\n",
    "\n",
    "\n",
    "#try to use pandas array \n",
    "\n",
    "# def fill_nans(tslices):\n",
    "\n",
    "#     return [(ts) for slice in tslices for sample in slice if sample ]\n",
    "\n",
    "# # dataset.set_window()\n",
    "\n",
    "# # count =[0,0,0,0,0,0]\n",
    "# differ = []\n",
    "# for meter in  \n",
    "meter = dataset.buildings[1].elec.submeters().meters[6]\n",
    "print(meter.appliances[0].metadata.get(\"type\"),meter.on_power_threshold())\n",
    "\n",
    "ts,tstamps = mount_data(meter)\n",
    "\n",
    "tstamps = np.asarray(list(moving_window(tstamps, 130)))\n",
    "ts = np.asarray(list(moving_window(ts, 130)))\n",
    "\n",
    "#count =[0,0,0,0,0,0]\n",
    "ts,tstamps = clean_data(ts,tstamps)\n",
    "print(ts.shape,tstamps.shape)\n",
    "\n",
    "try:\n",
    "    ts,tstamps = remove_empty(ts,tstamps)\n",
    "except:\n",
    "    print(\"array empty!\")\n",
    "\n",
    "ts= np.asarray(list(ts))\n",
    "tstamps = np.asarray(list(tstamps))\n",
    "\n",
    "print(ts.shape)\n",
    "\n",
    "# print(\"percent high d\",100*count[2]/count[1])\n",
    "\n",
    "# print(\"percent lost due to jump \",100*count[4]/count[0])\n",
    "# print(\"percent lost due to enropy \",100*count[3]/count[0])"
   ]
  },
  {
   "cell_type": "code",
   "execution_count": 367,
   "metadata": {},
   "outputs": [
    {
     "data": {
      "text/plain": [
       "[(1, 2)]"
      ]
     },
     "execution_count": 367,
     "metadata": {},
     "output_type": "execute_result"
    }
   ],
   "source": [
    "list(zip(*[[1],[2,3,4]]))"
   ]
  },
  {
   "cell_type": "code",
   "execution_count": 352,
   "metadata": {},
   "outputs": [
    {
     "name": "stdout",
     "output_type": "stream",
     "text": [
      "ok\n"
     ]
    }
   ],
   "source": [
    "if list([1]):\n",
    "    print(\"ok\")"
   ]
  },
  {
   "cell_type": "code",
   "execution_count": 80,
   "metadata": {},
   "outputs": [
    {
     "name": "stdout",
     "output_type": "stream",
     "text": [
      "television\n"
     ]
    },
    {
     "data": {
      "image/png": "[encoded data removed]",
      "text/plain": [
       "<Figure size 864x720 with 1 Axes>"
      ]
     },
     "metadata": {},
     "output_type": "display_data"
    }
   ],
   "source": [
    " #df = df.power.active #for iawe\n",
    "dataset.set_window\n",
    "meter = dataset.buildings[1].elec.submeters().meters[7]\n",
    "print(meter.appliances[0].metadata.get(\"type\"))\n",
    "ts,tstamps = mount_data(meter)\n",
    "\n",
    "#     print(meter.appliances[0].metadata.get(\"type\"),meter.on\n",
    "fig, ax = plt.subplots()\n",
    "#df.power.active\n",
    "ax.plot(ts[200:600])\n",
    "\n",
    "ax.set(xlabel='time (min)', ylabel='P', title='P')\n",
    "ax.grid()"
   ]
  },
  {
   "cell_type": "code",
   "execution_count": 26,
   "metadata": {},
   "outputs": [
    {
     "data": {
      "text/plain": [
       "array([74.642, 74.667, 73.451, 77.045, 77.439, 55.865, 78.734, 78.761,\n",
       "       74.219, 77.552, 77.39 , 77.012, 77.121, 76.951, 76.809, 76.862,\n",
       "       76.584, 76.471, 76.556, 76.518, 76.286, 76.285, 76.508, 76.318,\n",
       "       76.004, 76.03 , 76.045, 76.159, 75.865, 75.888, 75.961, 75.766,\n",
       "       75.89 , 75.805, 71.394, 75.862, 75.849, 75.447, 73.113, 75.877,\n",
       "       75.845, 75.882, 75.661, 75.627, 75.642, 75.767, 75.551, 75.725,\n",
       "       75.713, 75.789, 75.566, 75.49 , 75.841, 75.498, 75.507, 75.47 ,\n",
       "       75.503, 75.177, 75.494, 75.36 , 75.468, 75.186, 75.313, 75.237,\n",
       "       75.286, 75.373, 75.351, 75.3  , 75.385, 74.98 , 75.18 , 75.055,\n",
       "       75.263, 75.303, 75.28 , 75.047, 75.073, 74.957, 74.909, 75.093,\n",
       "       75.084, 75.276, 75.356, 75.026, 74.845, 74.957, 74.864, 75.013,\n",
       "       74.929, 74.939, 74.81 , 74.898, 74.919, 74.852, 74.865, 74.585,\n",
       "       74.904, 74.882, 74.871, 74.875, 74.817, 74.757, 74.942, 74.711,\n",
       "       74.807, 74.869, 74.835, 74.688, 74.682, 74.824, 74.79 , 74.617,\n",
       "       74.871, 74.455, 74.4  , 74.576, 74.444, 74.21 , 74.52 , 74.356,\n",
       "       74.423, 74.362, 74.602, 74.566, 74.425, 74.556, 74.327, 74.553,\n",
       "       74.458, 74.638, 74.708, 74.576, 74.523, 74.473, 74.536, 74.444,\n",
       "       74.374, 74.482, 74.599, 74.215, 74.135, 74.4  , 74.295, 74.352,\n",
       "       74.434, 74.392, 74.301, 74.261, 74.34 , 74.313, 74.541, 74.504,\n",
       "       74.323, 74.405, 74.247, 74.186, 74.34 , 74.25 , 74.135,  0.   ,\n",
       "        0.   ,  0.   ,  0.   ,  0.   ,  0.   ,  0.   ,  0.   ,  0.   ,\n",
       "        0.   ,  0.   ,  0.   ,  0.   ,  0.   ,  0.   ,  0.   ,  0.   ,\n",
       "        0.   ,  0.   ,  0.   ,  0.   ,  0.   ,  0.   ,  0.   ,  0.   ,\n",
       "        0.   ,  0.   ,  0.   ,  0.   ,  0.   ,  0.   ,  0.   ,  0.   ,\n",
       "        0.   ,  0.   ,  0.   ,  0.   ,  0.   ,  0.   ,  0.   ,  0.   ,\n",
       "        0.   ,  0.   ,  0.   ,  0.   ,  0.   ,  0.   ,  0.   ,  0.   ,\n",
       "        0.   ,  0.   ,  0.   ,  0.   ,  0.   ,  0.   ,  0.   ,  0.   ,\n",
       "        0.   ,  0.   ,  0.   ,  0.   ,  0.   ,  0.   ,  0.   ,  0.   ,\n",
       "        0.   ,  0.   ,  0.   ,  0.   ,  0.   ,  0.   ,  0.   ,  0.   ,\n",
       "        0.   ,  0.   ,  0.   ,  0.   ,  0.   ,  0.   ,  0.   ,  0.   ,\n",
       "        0.   ,  0.   ,  0.   ,  0.   ,  0.   ,  0.   ,  0.   ,  0.   ,\n",
       "        0.   ,  0.   ,  0.   ,  0.   ,  0.   ,  0.   ,  0.   ,  0.   ,\n",
       "        0.   ,  0.   ,  0.   ,  0.   ,  0.   ,  0.   ,  0.   ,  0.   ,\n",
       "        0.   ,  0.   ,  0.   ,  0.   ,  0.   ,  0.   ,  0.   ,  0.   ,\n",
       "        0.   ,  0.   ,  0.   ,  0.   ,  0.   ,  0.   ,  0.   ,  0.   ,\n",
       "        0.   ,  0.   ,  0.   ,  0.   ,  0.   ,  0.   ,  0.   ,  0.   ,\n",
       "        0.   ,  0.   ,  0.   ,  0.   ,  0.   ,  0.   ,  0.   ,  0.   ,\n",
       "        0.   ,  0.   ,  0.   ,  0.   ,  0.   ,  0.   ,  0.   ,  0.   ,\n",
       "        0.   ,  0.   ,  0.   ,  0.   ,  0.   ,  0.   ,  0.   ,  0.   ,\n",
       "        0.   ,  0.   ,  0.   ,  0.   ,  0.   ,  0.   ,  0.   ,  0.   ,\n",
       "        0.   ,  0.   ,  0.   ,  0.   ,  0.   ,  0.   ,  0.   ,  0.   ,\n",
       "        0.   ,  0.   ,  0.   ,  0.   ,  0.   ,  0.   ,  0.   ,  0.   ,\n",
       "        0.   ,  0.   ,  0.   ,  0.   ,  0.   ,  0.   ,  0.   ,  0.   ,\n",
       "        0.   ,  0.   ,  0.   ,  0.   ,  0.   ,  0.   ,  0.   ,  0.   ,\n",
       "        0.   ,  0.   ,  0.   ,  0.   ,  0.   ,  0.   ,  0.   ,  0.   ,\n",
       "        0.   ,  0.   ,  0.   ,  0.   , 74.194, 74.135, 73.755, 77.008,\n",
       "       76.995, 77.772, 77.649, 77.405, 77.506, 77.056, 76.885, 76.81 ,\n",
       "       76.621, 76.37 , 76.625, 76.447, 76.162, 76.149, 75.885, 76.186,\n",
       "       75.909, 75.93 , 75.728, 75.986, 75.581, 75.869, 75.809, 75.483,\n",
       "       75.921, 75.416, 75.692, 75.329, 75.363, 75.632, 75.433, 75.614,\n",
       "       75.292, 75.256, 75.688, 75.429, 75.493, 75.252, 75.525, 75.349,\n",
       "       75.287, 75.111, 75.254, 75.144, 75.207, 75.211, 75.002, 75.065,\n",
       "       75.199, 75.711, 75.673, 75.021, 74.989, 75.44 , 75.158, 74.839,\n",
       "       74.91 , 75.079, 74.96 , 74.993, 75.071, 74.802, 75.169, 74.946,\n",
       "       74.829, 74.855, 74.595, 74.795, 74.935, 74.867, 74.803, 74.827,\n",
       "       75.003, 75.03 , 75.019, 74.851, 74.874, 74.965, 74.966, 74.815,\n",
       "       74.942, 74.761, 74.71 , 74.566, 74.51 , 74.527, 74.847, 74.607,\n",
       "       74.921, 74.49 , 74.214, 75.01 , 74.616, 74.889, 74.71 , 74.379,\n",
       "       74.567, 74.474, 74.52 , 74.287, 74.405, 74.328, 74.359, 74.253,\n",
       "       74.461, 74.252, 74.565, 74.39 , 74.335, 74.538, 74.305, 74.435,\n",
       "       74.263, 74.632, 74.655, 74.423, 74.617, 74.536, 74.588, 74.197,\n",
       "       74.528, 74.453, 74.403, 74.386, 74.181, 74.364, 74.232, 74.579,\n",
       "       74.319, 74.55 , 74.335, 74.166], dtype=float32)"
      ]
     },
     "execution_count": 26,
     "metadata": {},
     "output_type": "execute_result"
    }
   ],
   "source": [
    "ts[0:500]"
   ]
  },
  {
   "cell_type": "code",
   "execution_count": 65,
   "metadata": {},
   "outputs": [],
   "source": [
    "c, b = np.unique(a,return_counts=True)"
   ]
  },
  {
   "cell_type": "code",
   "execution_count": 66,
   "metadata": {},
   "outputs": [
    {
     "data": {
      "text/plain": [
       "array([ 60,  66,  72,  78,  84,  90,  96, 102, 108, 114, 120, 126, 132,\n",
       "       138, 144])"
      ]
     },
     "execution_count": 66,
     "metadata": {},
     "output_type": "execute_result"
    }
   ],
   "source": [
    "c[:15]"
   ]
  },
  {
   "cell_type": "code",
   "execution_count": 67,
   "metadata": {},
   "outputs": [
    {
     "data": {
      "text/plain": [
       "array([39, 31, 32, 22, 33, 21, 19, 15, 15, 11,  8, 12, 11,  9,  9,  8,  7,\n",
       "        3,  8, 11, 12, 22, 42, 33, 18, 11, 23,  9,  5, 11,  4,  5,  2,  1,\n",
       "        6,  6,  1,  3,  2,  2,  3,  6,  1,  5,  2,  5,  2,  5,  1,  2,  2,\n",
       "        1,  1,  2,  1,  2,  2,  3,  1,  2,  1,  1,  2,  2,  2,  1,  1,  1,\n",
       "        1,  1,  1,  1,  2,  4,  2,  1,  1,  2,  2,  2,  1,  1,  1,  2,  2,\n",
       "        1,  1,  1,  1,  1,  1,  2,  1,  1,  3,  1,  3,  2,  1,  2,  1,  1,\n",
       "        2,  3,  2,  1,  1,  2,  1,  2,  2,  2,  4,  2,  1,  1,  2,  1,  1,\n",
       "        1,  1,  4,  1,  3,  1,  1,  1,  1,  1,  2,  4,  1,  1,  1,  1,  1,\n",
       "        3,  2,  2,  1,  3,  1,  2,  1,  2,  1,  2,  1,  1,  1,  1,  1,  1,\n",
       "        1,  4,  1,  1,  1,  1,  2,  1,  2,  1,  1,  1,  1,  1,  1,  1,  1,\n",
       "        1,  1,  1,  1,  1,  1,  1,  1,  2,  1,  1,  2,  2,  1,  2,  1,  1,\n",
       "        1,  2,  1,  1,  1,  1,  1,  1,  1,  1,  1,  2,  1,  1,  1,  1,  1,\n",
       "        1,  1,  1,  1,  1,  2,  1,  1,  1,  2,  2,  1,  1,  1,  1,  1,  1,\n",
       "        1,  3,  1,  1,  1,  1,  1,  1,  1,  1,  1,  2,  2,  1,  1,  1,  1,\n",
       "        1,  1,  1,  1,  1,  1,  1,  1,  1,  1,  1,  2,  1,  2,  1,  1,  1,\n",
       "        1,  1,  2,  1,  1,  1,  1,  1,  1,  1,  1,  1,  1,  1,  2,  1,  1,\n",
       "        1,  1,  1,  1,  1,  1,  2,  1,  1,  2,  1,  1,  1,  1,  1,  1,  1,\n",
       "        1,  1,  1,  1,  1,  2,  1,  2,  1,  1,  1,  1,  1,  1,  1,  1,  1,\n",
       "        2,  1,  1,  1,  1,  1,  2,  1,  1,  1,  1,  1,  2,  1,  1,  1,  1,\n",
       "        1,  2,  1,  2,  1,  1,  1,  1,  1,  1,  1,  1,  1,  1,  1,  1,  2,\n",
       "        1,  1,  1,  1,  1,  1,  1,  1,  1,  1,  1,  1,  1,  1,  1,  1,  1,\n",
       "        1,  1,  1,  1,  3,  1,  1,  1,  1,  1,  1,  1,  1,  1,  1,  1,  1,\n",
       "        1,  1,  1,  1,  1,  1,  1,  1,  2,  1,  1,  1,  1,  1,  1,  1,  1,\n",
       "        1,  1,  1,  1,  1,  1,  2,  1,  1,  1,  1,  1,  1,  1,  1,  1,  1,\n",
       "        1,  1,  1,  1,  1,  1,  1,  1,  1,  1,  1,  1,  1,  1,  1,  1,  1,\n",
       "        1,  1,  1,  1,  1,  1,  1,  1,  1,  1,  1,  1,  1,  1,  1,  1,  1,\n",
       "        1,  1,  1,  1,  1,  1,  1,  1,  1,  1,  1,  1,  1,  1,  1,  1,  1,\n",
       "        1,  1,  1,  1,  2,  1,  1,  1,  1,  1,  1,  1,  1,  1,  1,  1,  1,\n",
       "        1,  1,  1,  1,  1,  1,  1,  1,  1,  1,  1,  1,  1,  1,  1,  1,  2,\n",
       "        1,  1,  1,  1,  1,  1,  1,  1,  1,  1,  1,  1,  1,  1,  1,  1,  1,\n",
       "        1,  1,  1,  1,  1,  1,  1,  1,  1,  1,  1,  1,  1,  1,  1,  1,  1,\n",
       "        1,  1,  1,  1,  1,  1,  1,  1,  1,  1,  1,  1,  1,  1,  1,  1,  1,\n",
       "        1,  1,  1,  1,  1,  1,  1,  1,  1,  1,  1,  1,  1,  1,  1,  1,  1,\n",
       "        1,  1,  1,  1,  1,  1,  1,  1,  1,  1,  1,  1,  1,  1,  1,  1,  1,\n",
       "        1,  1,  1,  1,  1,  1,  1,  1,  1,  1,  1,  1,  1,  1,  1,  1,  1,\n",
       "        1,  1,  1,  1,  1,  1,  1,  1,  1,  1,  1,  1,  1,  1,  1,  1,  1,\n",
       "        1,  1,  1,  1,  1,  1,  1,  1,  1,  1,  1,  1,  1,  1,  1,  1,  1,\n",
       "        1,  1,  1,  1,  1,  1,  1,  1,  1,  1,  1,  1,  1,  1,  1,  1,  1,\n",
       "        1,  1,  1,  1,  1,  1,  1,  1,  1,  1,  1,  1,  1,  1,  1,  1,  1,\n",
       "        2,  1,  1,  1,  1,  1,  1,  1,  1,  1,  1,  1,  1,  1,  1,  1,  1,\n",
       "        1,  1,  1,  1,  1,  1,  1,  1,  1,  1,  1,  1,  1,  1,  1,  1,  1,\n",
       "        1,  1,  1,  1,  1,  1,  1,  1,  1,  1,  1,  1,  1,  1,  1,  1,  1,\n",
       "        1,  1,  1,  1,  1,  1,  1,  1,  1,  1])"
      ]
     },
     "execution_count": 67,
     "metadata": {},
     "output_type": "execute_result"
    }
   ],
   "source": [
    "b"
   ]
  },
  {
   "cell_type": "code",
   "execution_count": 69,
   "metadata": {},
   "outputs": [
    {
     "data": {
      "text/plain": [
       "<BarContainer object of 20 artists>"
      ]
     },
     "execution_count": 69,
     "metadata": {},
     "output_type": "execute_result"
    },
    {
     "data": {
      "image/png": "[encoded data removed]",
      "text/plain": [
       "<Figure size 432x288 with 1 Axes>"
      ]
     },
     "metadata": {
      "needs_background": "light"
     },
     "output_type": "display_data"
    }
   ],
   "source": [
    "plt.bar(c[0:20],height=b[:20])"
   ]
  },
  {
   "cell_type": "code",
   "execution_count": 49,
   "metadata": {},
   "outputs": [
    {
     "data": {
      "text/plain": [
       "<matplotlib.collections.PathCollection at 0x7fd00f509cf8>"
      ]
     },
     "execution_count": 49,
     "metadata": {},
     "output_type": "execute_result"
    },
    {
     "data": {
      "image/png": "[encoded data removed]",
      "text/plain": [
       "<Figure size 432x288 with 1 Axes>"
      ]
     },
     "metadata": {
      "needs_background": "light"
     },
     "output_type": "display_data"
    }
   ],
   "source": [
    "import matplotlib.pyplot as plt\n",
    "import numpy as np\n",
    "%matplotlib inline\n",
    "\n",
    "\n",
    "#plt.hist(np.array(differ), density=False, bins=5)  # density=False would make counts\n",
    "dd"
   ]
  },
  {
   "cell_type": "code",
   "execution_count": 374,
   "metadata": {
    "tags": []
   },
   "outputs": [
    {
     "name": "stdout",
     "output_type": "stream",
     "text": [
      "file exists!\n",
      "\n",
      "\n",
      " Starting fridge (1/9):\n",
      "  data procesed:  99.98 %   finished:  77.2 % |   building  1  |   removed img!  27.8 % |   building  1  |  42.58 %   finished:  32.6 % |   building  1  |  data procesed:  45.27 %   finished:  34.8 % |   building  1  |  data procesed:  51.2 %   finished:  39.3 % |   building  1  | \n",
      "storing... samples to store: 772\n",
      "finshed. stored to iawe_GASF_13m_100S5X_9A1000N_AB_BRIG/iawe/fridge/1/img\n",
      "finished building N 1\n",
      "\n",
      "number of images (per appliance) stacked: 772\n",
      "finished fridge\n",
      "\n",
      "\n",
      "\n",
      "\n",
      " Starting computer (2/9):\n",
      "  data procesed:  99.97 %   finished:  40.0 % |   building  1  | 77.15 %   finished:  32.2 % |   building  1  |   removed img!\n",
      "storing... samples to store: 401\n",
      "finshed. stored to iawe_GASF_13m_100S5X_9A1000N_AB_BRIG/iawe/computer/1/img\n",
      "finished building N 1\n",
      "\n",
      "number of images (per appliance) stacked: 401\n",
      "finished computer\n",
      "\n",
      "\n",
      "\n",
      "\n",
      " Starting wet appliance (3/9):\n",
      "  data procesed:  99.57 %   finished:  0.1 % |   building  1  |   removed img!\n",
      "storing... samples to store: 1\n",
      "finshed. stored to iawe_GASF_13m_100S5X_9A1000N_AB_BRIG/iawe/wet appliance/1/img\n",
      "finished building N 1\n",
      "\n",
      "number of images (per appliance) stacked: 1\n",
      "finished wet appliance\n",
      "\n",
      "\n",
      "\n",
      "\n",
      " Starting motor (4/9):\n",
      "  data procesed:  99.07 %   finished:  0.2 % |   building  1  |   removed img!\n",
      "storing... samples to store: 2\n",
      "finshed. stored to iawe_GASF_13m_100S5X_9A1000N_AB_BRIG/iawe/motor/1/img\n",
      "finished building N 1\n",
      "\n",
      "number of images (per appliance) stacked: 2\n",
      "finished motor\n",
      "\n",
      "\n",
      "\n",
      "\n",
      " Starting washing machine (5/9):\n",
      "  data procesed:  85.71 %   finished:  0.0 % |   building  1  | empty for building 1 appliance washing machine\n",
      "finished building N 1\n",
      "\n",
      "number of images (per appliance) stacked: 0\n",
      "finished washing machine\n",
      "\n",
      "\n",
      "\n",
      "\n",
      " Starting air conditioner (6/9):\n",
      "  data procesed:  99.83 %   finished:  12.8 % |   building  1  |   removed img!\n",
      "storing... samples to store: 128\n",
      "finshed. stored to iawe_GASF_13m_100S5X_9A1000N_AB_BRIG/iawe/air conditioner/1/img\n",
      "finished building N 1\n",
      "\n",
      "number of images (per appliance) stacked: 128\n",
      "finished air conditioner\n",
      "\n",
      "\n",
      "\n",
      "\n",
      " Starting unknown (7/9):\n",
      "error while removing, array is probably empty!\n",
      "empty for building 1 appliance unknown\n",
      "finished building N 1\n",
      "\n",
      "number of images (per appliance) stacked: 0\n",
      "finished unknown\n",
      "\n",
      "\n",
      "\n",
      "\n",
      " Starting clothes iron (8/9):\n",
      "  data procesed:  0.0 %   finished:  0.0 % |   building  1  | empty for building 1 appliance clothes iron\n",
      "finished building N 1\n",
      "\n",
      "number of images (per appliance) stacked: 0\n",
      "finished clothes iron\n",
      "\n",
      "\n",
      "\n",
      "\n",
      " Starting television (9/9):\n",
      "  data procesed:  99.72 %   finished:  2.1 % |   building  1  |   removed img!:  89.78 %   finished:  1.9 % |   building  1  |  data procesed:  97.51 %   finished:  2.1 % |   building  1  | \n",
      "storing... samples to store: 21\n",
      "finshed. stored to iawe_GASF_13m_100S5X_9A1000N_AB_BRIG/iawe/television/1/img\n",
      "finished building N 1\n",
      "\n",
      "number of images (per appliance) stacked: 21\n",
      "finished television\n",
      "\n",
      "\n",
      "num of images stored:  1325\n",
      "appliances stored:  {'fridge', 'computer', 'wet appliance', 'motor', 'air conditioner', 'television'}\n"
     ]
    }
   ],
   "source": [
    "# reset window size to full size\n",
    "# \n",
    "dataset.set_window()\n",
    "\n",
    "#--PARAMTERS--#   \n",
    "#-step\n",
    "par = {}\n",
    "par[\"step_in_mins\"]= 13 \n",
    "#-image\n",
    "par[\"max_images\"] = 1000 #max number of images per appliance per buidling \n",
    "par[\"img_size\"] = 100 # means img_size x img_size (igored when using RECC)\n",
    "par[\"frames\"] = 5 #change to 0 for images or set more for video  \n",
    "par[\"allowed_delta_between_images\"] = 6*2*100 #allowed missing seconds between images in video (6 seconds is mimimum)\n",
    "\n",
    "#-samples\n",
    "par[\"sample_period\"] = 6 # can be obtained from dataset.metadata[\"sample_period\"] but it is inconsistent\n",
    "par[\"percentage_of_missing_data_allowed\"] = 0.95 # is necessary since sampling rate is inconsistent or samples are missing \n",
    "\n",
    "#-brightness\n",
    "par[\"add_brightness\"] = True\n",
    "\n",
    "#-timeseries\n",
    "par[\"ts_save\"] = False # save soruce time-series \n",
    "\n",
    "#-trans type\n",
    "par[\"trs_type\"] = \"GAF\" #GAF or RECU - Gramian Angural Field or Recurrance plot\n",
    "\n",
    "#-if trans type GAF \n",
    "par[\"trs_type_gaf\"] = \"GASF\" # GASF or GADF\n",
    "\n",
    "#-buildings\n",
    "par[\"multiple_buildings\"] = True # multiple buildings \n",
    "par[\"selected_building\"] = 1 # is used in case parameter multiple buidlings is False\n",
    "\n",
    "#-appliances\n",
    "par[\"manauly_select_appliances\"] = False\n",
    "\n",
    "\n",
    "par[\"di\"] = 0\n",
    "par[\"i\"] = 0\n",
    " #-------------------------------------------------------------------------------------------------------------------------------\n",
    "\n",
    "\n",
    "def param_setup(dataset,par):\n",
    "\n",
    "    #get params from metadata \n",
    "    par[\"dataset_name\"] = dataset.metadata[\"name\"].lower()\n",
    "    par[\"n_buildings\"] = len(dataset.buildings)\n",
    "\n",
    "    #calculate\n",
    "    par[\"ts_size\"] = round(par[\"step_in_mins\"]*60/par[\"sample_period\"]) # calculate estimate size of ts\n",
    "\n",
    "    #fix parms \n",
    "    #RECU already includes brightness \n",
    "    if par[\"trs_type\"] == \"RECU\": par[\"add_brightness\"] = False\n",
    "\n",
    "    if par[\"multiple_buildings\"]: par[\"selected_building\"] = \"A\"\n",
    "        \n",
    "    #handle edge case for RECU\n",
    "    par[\"org_img_size\"] = par[\"img_size\"]\n",
    "\n",
    "    if par[\"trs_type\"] == \"RECU\": par[\"img_size\"] = par[\"ts_size\"] \n",
    "    \n",
    "    \n",
    "\n",
    "param_setup(dataset,par)\n",
    "\n",
    "get_appliances(dataset,par)\n",
    "\n",
    "print_parameters(par)\n",
    "\n",
    "file_name = create_file(par)\n",
    "\n",
    "# define global metrics\n",
    "healthy_appliances = set()\n",
    "all_images_stacked = 0\n",
    "images_stacked = 0\n",
    "\n",
    "\n",
    "# collect at least N images of \"max_dataset_size\" for each applaiance for every building. #TODO \n",
    "for appliance in par[\"appliances\"]:\n",
    "    print_log(par,\"\\n\")\n",
    "    print_log(par,\" Starting \" f\"{appliance} (\"+str(par[\"appliances\"].index(appliance)+1)+\"/\"+str(len(par[\"appliances\"]))+\"):\")\n",
    "    print(\"\\n\")\n",
    "    print(\" Starting \" f\"{appliance} (\"+str(par[\"appliances\"].index(appliance)+1)+\"/\"+str(len(par[\"appliances\"]))+\"):\")\n",
    "    \n",
    "    #define / reset metric\n",
    "    images_stacked = 0\n",
    "    \n",
    "    #loop through all buildings \n",
    "    for building in dataset.buildings:\n",
    "        \n",
    "        if par[\"frames\"] == 0:\n",
    "            #define array that will store one image\n",
    "            img_stack = np.zeros([0, par[\"img_size\"], par[\"img_size\"]])\n",
    "            ts_stack= np.zeros([0, par[\"ts_size\"]])\n",
    "            \n",
    "            #define tmp array to temporary image / frame \n",
    "            img_stack_tmp = 0\n",
    "            ts_stack_tmp = 0\n",
    "\n",
    "        else:\n",
    "            #define tmp array to temporary image / frame \n",
    "            img_stack_tmp = np.zeros([0, par[\"img_size\"], par[\"img_size\"]])\n",
    "            ts_stack_tmp = np.zeros([0, par[\"ts_size\"]])\n",
    "            \n",
    "            #define main array to store video\n",
    "            img_stack = np.zeros([0, par[\"frames\"], par[\"img_size\"], par[\"img_size\"]])\n",
    "            ts_stack = np.zeros([0, par[\"frames\"], par[\"ts_size\"]])\n",
    "    \n",
    "\n",
    "        # case if using only selected building\n",
    "        if par[\"multiple_buildings\"] == False:\n",
    "                if int(building)  != par[\"selected_building\"]:\n",
    "                    print(\"skipping building \"f\"{building}\"\" due to parameter muliple_buildings \")\n",
    "                    continue\n",
    "        \n",
    "        #filter out appliances with appliance\n",
    "        for meter in dataset.buildings[building].elec.submeters().meters:  \n",
    "            \n",
    "            # get name and instance of an appliance from metadata\n",
    "            label = meter.appliances[0].metadata.get(\"type\")\n",
    "            \n",
    "            #continue only for applaiance from first loop\n",
    "            if label != appliance : continue \n",
    "           \n",
    "            data,tstamps = mount_data(meter) \n",
    "\n",
    "            tstamps_sliced = np.asarray(list(moving_window(tstamps, par[\"ts_size\"])))\n",
    "            data_sliced = np.asarray(list(moving_window(data, par[\"ts_size\"])))\n",
    "\n",
    "            \n",
    "            data_sliced, tstamps_sliced = clean_data(data_sliced, tstamps_sliced)\n",
    "\n",
    "            try:\n",
    "                data_sliced, tstamps_sliced = remove_empty(data_sliced, tstamps_sliced)\n",
    "            except:\n",
    "                print(\"error while removing, array is probably empty!\")\n",
    "                continue\n",
    "        \n",
    "            data_sliced= np.asarray(list(data_sliced))\n",
    "            tstamps_sliced = np.asarray(list(tstamps_sliced))\n",
    "            #if no data \n",
    "            if data_sliced.shape[0] == 0: continue\n",
    "        \n",
    "            last_time = 0\n",
    "            \n",
    "            for i,[data,tstamps] in enumerate(zip(data_sliced,tstamps_sliced)):\n",
    "                #trasform clean ts\n",
    "                print(\"\\r\",\n",
    "                        \" data procesed: \", round(100*i/(data_sliced.shape[0]),2), \"% \",\n",
    "                        \" finished: \", round(100*((img_stack.shape[0])/par[\"max_images\"]),2), \"% | \",\n",
    "                        \" building \", building, \" | \",\n",
    "                        end=\"\")\n",
    "\n",
    "                #check if dataset size is larger than specified then set break flag to break out of two loops\n",
    "                if img_stack.shape[0] >= (par[\"max_images\"]):\n",
    "                    print(\"max size of \"f\"{par['max_images']}\"\" reached, skipping!\")   \n",
    "                    print_log(par,\"max size of \"f\"{par['max_images']}\"\" reached, skipping! dataset size: \", img_stack.shape[0])\n",
    "                    break\n",
    "\n",
    "                try:\n",
    "                    #return empty if no data \n",
    "                    img,ts_pad = trasfrom_ts(data,par)\n",
    "                    \n",
    "                except:\n",
    "                    print(\"error while transforming\")\n",
    "                    continue\n",
    "\n",
    "                \n",
    "                time = tstamps[0]\n",
    "                \n",
    "                #append trasformed ts\n",
    "                img_stack, img_stack_tmp, ts_stack, ts_stack_tmp = append_images(\n",
    "                                                                                img,\n",
    "                                                                                img_stack,\n",
    "                                                                                img_stack_tmp,\n",
    "                                                                                ts_pad,\n",
    "                                                                                ts_stack,\n",
    "                                                                                ts_stack_tmp,\n",
    "                                                                                time,\n",
    "                                                                                last_time,\n",
    "                                                                                par\n",
    "                                                                                )\n",
    "                \n",
    "                last_time = tstamps[-1]\n",
    "               \n",
    "        #save images to hdf5\n",
    "        group_path = f\"{par['dataset_name']}\"\"/\"f\"{appliance}\"\"/\"f\"{building}\"\"\"\n",
    "        \n",
    "        if img_stack.shape[0] > 0:\n",
    "\n",
    "            store_many_hdf5(file_name,img_stack[...,np.newaxis], group_path, \"img\", force_del=\"yes\")\n",
    "            \n",
    "            images_stacked += img_stack.shape[0]\n",
    "            all_images_stacked += img_stack.shape[0]\n",
    "            healthy_appliances.add(appliance)\n",
    "            \n",
    "            #save source time series \n",
    "            if par[\"ts_save\"]:\n",
    "                store_many_hdf5(file_name,ts_stack,group_path, \"ts\", force_del=\"yes\")\n",
    "\n",
    "        else:\n",
    "            print(\"empty for building\", building,\"appliance\", appliance)\n",
    "  \n",
    "        print(\"finished building N\", building)\n",
    "        print_log(par,\"finished building N\", building)\n",
    "\n",
    "    print_log(par,\"\")\n",
    "    print_log(par,\"number of images (per appliance) stacked: \"f\"{images_stacked}\")\n",
    "    print(\"\")\n",
    "    print(\"number of images (per appliance) stacked: \"f\"{images_stacked}\")\n",
    "\n",
    "    print_log(par,\"finished \"f\"{appliance}\")\n",
    "    print(\"finished \"f\"{appliance}\")\n",
    "    \n",
    "    print(\"\\n\")\n",
    "    print_log(par,\"\\n\")\n",
    "\n",
    "\n",
    "print_log(par,\"num of images stored: \", all_images_stacked)\n",
    "print(\"num of images stored: \", all_images_stacked)\n",
    "print_log(par,\"appliances stored: \", healthy_appliances)\n",
    "print(\"appliances stored: \", healthy_appliances)"
   ]
  },
  {
   "cell_type": "markdown",
   "metadata": {},
   "source": [
    "# DEBUG AREA"
   ]
  },
  {
   "cell_type": "code",
   "execution_count": 4,
   "metadata": {},
   "outputs": [],
   "source": [
    "def append_images(img,img_stack, img_stack_tmp, ts_pad, ts_stack, ts_stack_tmp, interval, last_interval, par):\n",
    "    \"\"\"\n",
    "    Appends images and ts \n",
    "\n",
    "    :param img: timeseries images numpy array\n",
    "    :param img_stack: stack of past images numpy array\n",
    "    :param img_stack_tmp: stack of temp images for n_dim images numpy array\n",
    "\n",
    "    :param ts_pad: padded timeseries numpy array\n",
    "    :param ts_stack: stack of past timeseries numpy array\n",
    "    :param ts_stack_tmp: stack of temp images for n_dim images numpy array\n",
    "\n",
    "    :param interval: current intreval int\n",
    "    :param last_interval: for tracking diff between images int\n",
    "    :param par: dictionary of user defined parameters \n",
    "\n",
    "    :return: None\n",
    "    \"\"\"\n",
    "    \n",
    "    #part where we save converted images\n",
    "    if len(img_stack.shape) == 4:\n",
    "        #append as multi dimensonal images \n",
    "\n",
    "        if img_stack_tmp.shape[0] < par[\"frames\"]:\n",
    "            #images in multi dim array must be in strict series order\n",
    "\n",
    "            #check if first image\n",
    "            if img_stack_tmp.shape[0] != 0:\n",
    "                delta_interval = interval - last_interval \n",
    "\n",
    "            else:\n",
    "                delta_interval = 0\n",
    "            \n",
    "            #check if delta_interval smaller than wanted\n",
    "            if delta_interval <= par[\"allowed_delta_between_images\"]: \n",
    "                #append, images are strictly in series\n",
    "                img_stack_tmp = np.append(img_stack_tmp, img, axis=0)\n",
    "                ts_stack_tmp = np.append(ts_stack_tmp, ts_pad, axis=0)\n",
    "\n",
    "            else:\n",
    "                #reset stack to 0\n",
    "                ts_stack_tmp = np.zeros([0, par[\"ts_size\"]])\n",
    "                img_stack_tmp = np.zeros([0, par[\"img_size\"], par[\"img_size\"]])\n",
    "\n",
    "        else:\n",
    "            #full   \n",
    "            img_stack_tmp = img_stack_tmp[np.newaxis, ...] #add new axis for compatability\n",
    "            img_stack = np.append(img_stack, img_stack_tmp, axis=0)\n",
    "            \n",
    "            ts_stack_tmp = ts_stack_tmp[np.newaxis, ...] #add new axis for compatability\n",
    "            ts_stack = np.append(ts_stack, ts_stack_tmp, axis=0)\n",
    "\n",
    "            #reset stack to 0\n",
    "            ts_stack_tmp = np.zeros([0, par[\"ts_size\"]])\n",
    "            img_stack_tmp = np.zeros([0, par[\"img_size\"], par[\"img_size\"]])\n",
    "\n",
    "    else:\n",
    "        #append as ordinary images\n",
    "        img_stack = np.append(img_stack, img, axis=0)\n",
    "        ts_stack = np.append(ts_stack, ts_pad, axis=0)\n",
    "\n",
    "    return img_stack, img_stack_tmp, ts_stack, ts_stack_tmp"
   ]
  },
  {
   "cell_type": "code",
   "execution_count": 20,
   "metadata": {},
   "outputs": [
    {
     "ename": "SyntaxError",
     "evalue": "invalid syntax (<ipython-input-20-72e43758b484>, line 1)",
     "output_type": "error",
     "traceback": [
      "\u001b[0;36m  File \u001b[0;32m\"<ipython-input-20-72e43758b484>\"\u001b[0;36m, line \u001b[0;32m1\u001b[0m\n\u001b[0;31m    def check_if_images_in_series()\u001b[0m\n\u001b[0m                                   ^\u001b[0m\n\u001b[0;31mSyntaxError\u001b[0m\u001b[0;31m:\u001b[0m invalid syntax\n"
     ]
    }
   ],
   "source": [
    "def check_if_images_in_series():"
   ]
  },
  {
   "cell_type": "code",
   "execution_count": 198,
   "metadata": {},
   "outputs": [
    {
     "name": "stdout",
     "output_type": "stream",
     "text": [
      "1 3\n",
      "2 4\n",
      "3 5\n"
     ]
    }
   ],
   "source": [
    "a = [1,2,3]\n",
    "b = [3,4,5]\n",
    "\n",
    "for i,[c,d] in enumerate(zip(a,b)):\n",
    "    print(c,d)"
   ]
  },
  {
   "cell_type": "code",
   "execution_count": null,
   "metadata": {},
   "outputs": [],
   "source": [
    "## nofdatest to number of samples\n",
    "#3 if stavek start end \n",
    "# komentiraj arbitrarne odločitve \n",
    "# assert poglej!!\n",
    "#  cooment                   #check if dataset size is larger than specified"
   ]
  },
  {
   "cell_type": "code",
   "execution_count": 5,
   "metadata": {},
   "outputs": [
    {
     "data": {
      "text/plain": [
       "{'meter_devices': {'current_cost': {'max_sample_period': 300,\n",
       "   'measurements': [{'type': 'active',\n",
       "     'upper_limit': 5000,\n",
       "     'lower_limit': 0,\n",
       "     'physical_quantity': 'power'}],\n",
       "   'description': None,\n",
       "   'sample_period': 6},\n",
       "  'EM6400': {'max_sample_period': 300,\n",
       "   'description': 'Multifunction meter for feeders',\n",
       "   'manufacturer_url': 'http://www.schneider-electric.com/',\n",
       "   'model': 'EM6400',\n",
       "   'measurements': [{'type': 'active',\n",
       "     'upper_limit': 10000,\n",
       "     'lower_limit': 0,\n",
       "     'physical_quantity': 'power'},\n",
       "    {'type': 'apparent',\n",
       "     'upper_limit': 10000,\n",
       "     'lower_limit': 0,\n",
       "     'physical_quantity': 'power'},\n",
       "    {'type': 'reactive',\n",
       "     'upper_limit': 10000,\n",
       "     'lower_limit': 0,\n",
       "     'physical_quantity': 'power'},\n",
       "    {'type': 'apparent',\n",
       "     'upper_limit': 70,\n",
       "     'lower_limit': 0,\n",
       "     'physical_quantity': 'frequency'},\n",
       "    {'type': 'apparent',\n",
       "     'upper_limit': 270,\n",
       "     'lower_limit': 0,\n",
       "     'physical_quantity': 'voltage'},\n",
       "    {'type': None,\n",
       "     'upper_limit': 1,\n",
       "     'lower_limit': 0,\n",
       "     'physical_quantity': 'power factor'},\n",
       "    {'type': None,\n",
       "     'upper_limit': 100,\n",
       "     'lower_limit': 0,\n",
       "     'physical_quantity': 'current'}],\n",
       "   'manufacturer': 'Schneider Electric',\n",
       "   'sample_period': 1},\n",
       "  'jplug': {'max_sample_period': 300,\n",
       "   'wireless': True,\n",
       "   'measurements': [{'type': 'active',\n",
       "     'upper_limit': 10000,\n",
       "     'lower_limit': 0,\n",
       "     'physical_quantity': 'power'},\n",
       "    {'type': 'apparent',\n",
       "     'upper_limit': 10000,\n",
       "     'lower_limit': 0,\n",
       "     'physical_quantity': 'power'},\n",
       "    {'type': 'reactive',\n",
       "     'upper_limit': 10000,\n",
       "     'lower_limit': 0,\n",
       "     'physical_quantity': 'power'},\n",
       "    {'type': None,\n",
       "     'upper_limit': 70,\n",
       "     'lower_limit': 0,\n",
       "     'physical_quantity': 'frequency'},\n",
       "    {'type': None,\n",
       "     'upper_limit': 270,\n",
       "     'lower_limit': 0,\n",
       "     'physical_quantity': 'voltage'},\n",
       "    {'type': None,\n",
       "     'upper_limit': 100,\n",
       "     'lower_limit': 0,\n",
       "     'physical_quantity': 'current'},\n",
       "    {'type': None,\n",
       "     'upper_limit': 1,\n",
       "     'lower_limit': 0,\n",
       "     'physical_quantity': 'power factor'}],\n",
       "   'description': None,\n",
       "   'sample_period': 1}},\n",
       " 'creators': ['Batra, Nipun',\n",
       "  'Gulati, Manoj',\n",
       "  'Singh, Amarjeet',\n",
       "  'Srivastava, Mani'],\n",
       " 'name': 'iAWE',\n",
       " 'description': '73 days of ambient, water and electricity data for a home in Delhi',\n",
       " 'number_of_buildings': 1,\n",
       " 'related_documents': ['http://iawe.github.io',\n",
       "  \"Nipun Batra and Manoj Gulati and Amarjeet Singh and Mani Srivastava It's Different: Insights into home energy consumption in India. In proceedings of the 5th ACM Workshop On Embedded Systems  For Energy-Efficient Buildings (Buildsys 2013) http://nipunbatra.github.io/downloads/files/buildsys_2013.pdf\\n\"],\n",
       " 'long_name': 'Indian dataset for ambient, water and electricity sensing',\n",
       " 'contact': 'nipunb@iiitd.ac.in',\n",
       " 'geo_location': {'latitude': 28.64,\n",
       "  'country': 'IN',\n",
       "  'longitude': 77.11,\n",
       "  'locality': 'Delhi'},\n",
       " 'publication_date': 2013,\n",
       " 'timezone': 'Asia/Kolkata',\n",
       " 'subject': 'First dataset from a developing country',\n",
       " 'institution': 'Indraprastha Institute of Information Technology Delhi (IIITD)',\n",
       " 'schema': 'https://github.com/nilmtk/nilm_metadata/tree/v0.2'}"
      ]
     },
     "execution_count": 5,
     "metadata": {},
     "output_type": "execute_result"
    }
   ],
   "source": [
    "dataset.metadata"
   ]
  },
  {
   "cell_type": "code",
   "execution_count": 16,
   "metadata": {},
   "outputs": [
    {
     "ename": "NameError",
     "evalue": "name 'org_img_size' is not defined",
     "output_type": "error",
     "traceback": [
      "\u001b[1;31m---------------------------------------------------------------------------\u001b[0m",
      "\u001b[1;31mNameError\u001b[0m                                 Traceback (most recent call last)",
      "\u001b[1;32m<ipython-input-16-649abe74543b>\u001b[0m in \u001b[0;36m<module>\u001b[1;34m\u001b[0m\n\u001b[1;32m----> 1\u001b[1;33m \u001b[0mprint\u001b[0m\u001b[1;33m(\u001b[0m\u001b[0morg_img_size\u001b[0m\u001b[1;33m)\u001b[0m\u001b[1;33m\u001b[0m\u001b[1;33m\u001b[0m\u001b[0m\n\u001b[0m",
      "\u001b[1;31mNameError\u001b[0m: name 'org_img_size' is not defined"
     ]
    }
   ],
   "source": [
    "print(org_img_size)"
   ]
  },
  {
   "cell_type": "code",
   "execution_count": 13,
   "metadata": {},
   "outputs": [
    {
     "name": "stdout",
     "output_type": "stream",
     "text": [
      "REPORT FOR:  ['fridge', 'television', 'clothes iron', 'washing machine', 'computer', 'air conditioner']\n",
      "data lost due not being able to read the data\n",
      "all 13128\n",
      "reading failed 0\n",
      "read 13128\n",
      "---------\n",
      "data lost due to missing data\n",
      "all 13128\n",
      "empty 1275 avg data % 9.71\n",
      "half full 113 avg data % 0.86\n",
      "full 11740 % 89.43\n",
      "---------\n",
      "data lost because it has low entropy or is lower than 10W\n",
      "all entrop 11740  % of input 89.43\n",
      "high entrop 9788 % 83.37\n",
      "low entrop 1952 % 16.63\n",
      "---------\n",
      "datalost when stacking\n",
      "all delta 8298  % of input 63.21\n",
      "good delta 7946 % 95.76\n",
      "not good delta 352 % 4.24\n",
      "---------\n",
      "\n",
      "alll images used 7450  stacked 1490\n",
      "output % 56.74893357708714\n"
     ]
    }
   ],
   "source": [
    "#counters represent data as it goes through generator\n",
    "print(\"REPORT FOR: \",appliances)\n",
    "all0 = counter_data + counter_nodata\n",
    "print(\"data lost due not being able to read the data\")\n",
    "print(\"all\",all0)\n",
    "print(\"reading failed\",counter_nodata)\n",
    "print(\"read\",counter_data)\n",
    "\n",
    "print(\"---------\")\n",
    "all1 = counter_empty + counter_halfull + counter_full\n",
    "print(\"data lost due to missing data\")\n",
    "print(\"all\",all1)\n",
    "print(\"empty\",counter_empty, \"avg data %\",round(100*(counter_empty/all1),2))\n",
    "print(\"half full\",counter_halfull, \"avg data %\",round(100*(counter_halfull/all1),2) )\n",
    "print(\"full\",counter_full,\"%\",round(100*(counter_full/all1),2))\n",
    "\n",
    "print(\"---------\")\n",
    "all3 = counter_entropy+counter_noentropy\n",
    "print(\"data lost because it has low entropy or is lower than 10W\")\n",
    "print(\"all entrop\",all3,\" % of input\",round(100*all3/all1,2))\n",
    "print(\"high entrop\",counter_entropy,\"%\",round(100*(counter_entropy/all3),2))\n",
    "print(\"low entrop\",counter_noentropy,\"%\",round(100*(counter_noentropy/all3),2))\n",
    "\n",
    "print(\"---------\")\n",
    "all2 = counter_deltatohigh + counter_gooddelta\n",
    "print(\"datalost when stacking\")\n",
    "print(\"all delta\",all2,\" % of input\",round(100*all2/all1,2))\n",
    "print(\"good delta\",counter_gooddelta,\"%\",round(100*(counter_gooddelta/all2),2))\n",
    "print(\"not good delta\",counter_deltatohigh,\"%\",round(100*(counter_deltatohigh/all2),2))\n",
    "print(\"---------\")\n",
    "print(\"\")\n",
    "print(\"alll images used\",5*all_images_stacked,\" stacked\",all_images_stacked)\n",
    "print(\"output %\",5*100*all_images_stacked/all1)"
   ]
  },
  {
   "cell_type": "code",
   "execution_count": null,
   "metadata": {},
   "outputs": [],
   "source": [
    "#(debug)graph first portion of the seleted range\n",
    "# n = 18\n",
    "# ukdale.set_window(start=date_range[n],end=date_range[n+1])\n",
    "# elec = ukdale.buildings[1].elec\n",
    "# fridge = elec['fridge']\n",
    "# fridge.available_columns()\n",
    "# df = next(fridge.load(physical_quantity='power'))\n",
    "# print(len(df))\n",
    "# fig, ax = plt.subplots()\n",
    "# ax.plot(df)\n",
    "# ax.set(xlabel='time (min)', ylabel='P', title='P')\n",
    "# ax.grid()"
   ]
  },
  {
   "cell_type": "code",
   "execution_count": 20,
   "metadata": {},
   "outputs": [
    {
     "data": {
      "text/plain": [
       "array([0., 0., 0., 0., 0., 0., 0., 0., 0., 0., 0., 0., 0., 0., 0., 0., 0.,\n",
       "       0., 0., 0., 0., 0., 0., 0., 0., 0., 0., 0., 0., 0., 0., 0., 0., 0.,\n",
       "       0., 0., 0., 0., 0., 0., 0., 0., 0., 0., 0., 0., 0., 0., 0., 0., 0.,\n",
       "       0., 0., 0., 0., 0., 0., 0., 0., 0., 0., 0., 0., 0., 0., 0., 0., 0.,\n",
       "       0., 0., 0., 0., 0., 0., 0., 0., 0., 0., 0., 0., 0., 0., 0., 0., 0.,\n",
       "       0., 0., 0., 0., 0., 0., 0., 0., 0., 0., 0., 0., 0., 0., 0., 0., 0.,\n",
       "       0., 0., 0., 0., 0., 0., 0., 0., 0.], dtype=float32)"
      ]
     },
     "execution_count": 20,
     "metadata": {},
     "output_type": "execute_result"
    }
   ],
   "source": [
    "ts"
   ]
  },
  {
   "cell_type": "code",
   "execution_count": 22,
   "metadata": {},
   "outputs": [
    {
     "name": "stdout",
     "output_type": "stream",
     "text": [
      "HTPC 1\n"
     ]
    },
    {
     "data": {
      "image/png": "[encoded data removed]",
      "text/plain": [
       "<Figure size 864x720 with 1 Axes>"
      ]
     },
     "metadata": {},
     "output_type": "display_data"
    }
   ],
   "source": [
    "meter = dataset.buildings[1].elec.submeters().meters[7]\n",
    "dataset.set_window()\n",
    "df = next(meter.load(physical_quantity='power'))\n",
    "\n",
    "appliance_metadata = meter.appliances[0].metadata\n",
    "label = appliance_metadata.get(\"type\")\n",
    "instance = appliance_metadata.get(\"instance\")\n",
    "print(label,instance)\n",
    "\n",
    "#df = df.power.active #for iawe\n",
    "fig, ax = plt.subplots()\n",
    "ax.plot(df.fillna(0))\n",
    " \n",
    "ax.set(xlabel='time (min)', ylabel='P', title='P')\n",
    "ax.grid()\n",
    "\n",
    "elec = dataset.buildings[2].elec#df.power.active[1900:1950]"
   ]
  },
  {
   "cell_type": "code",
   "execution_count": 23,
   "metadata": {},
   "outputs": [],
   "source": [
    "ts = df.fillna(0).power.active.values.transpose()"
   ]
  },
  {
   "cell_type": "code",
   "execution_count": 25,
   "metadata": {},
   "outputs": [
    {
     "data": {
      "text/plain": [
       "19543268"
      ]
     },
     "execution_count": 25,
     "metadata": {},
     "output_type": "execute_result"
    }
   ],
   "source": [
    "len(ts)"
   ]
  },
  {
   "cell_type": "code",
   "execution_count": 26,
   "metadata": {},
   "outputs": [
    {
     "name": "stdout",
     "output_type": "stream",
     "text": [
      "5876\n",
      "19543268\n",
      "% 0.030066619359669016\n"
     ]
    }
   ],
   "source": [
    "more = ts[ts > 100]\n",
    "print(len(more))\n",
    "print(len(ts))\n",
    "print(\"%\",100*len(more)/len(ts))"
   ]
  },
  {
   "cell_type": "code",
   "execution_count": 182,
   "metadata": {},
   "outputs": [],
   "source": [
    "dataset.set_window()\n",
    "#fridge\n",
    "meter = dataset.buildings[2].elec.submeters().meters[1]\n",
    "df = next(meter.load(physical_quantity='power'))"
   ]
  },
  {
   "cell_type": "code",
   "execution_count": 8,
   "metadata": {},
   "outputs": [
    {
     "name": "stdout",
     "output_type": "stream",
     "text": [
      "------ 1\n",
      "boiler 1 1\n",
      "solar thermal pumping station 1 2\n",
      "laptop computer 1 3\n",
      "washer dryer 1 4\n",
      "dish washer 1 5\n",
      "television 1 6\n",
      "light 1 7\n",
      "HTPC 1 8\n",
      "kettle 1 9\n",
      "toaster 1 10\n",
      "fridge freezer 1 11\n",
      "microwave 1 12\n",
      "computer monitor 1 13\n",
      "audio system 1 14\n",
      "breadmaker 1 15\n",
      "audio amplifier 1 16\n",
      "broadband router 1 17\n",
      "light 3 18\n",
      "soldering iron 1 19\n",
      "ethernet switch 1 20\n",
      "vacuum cleaner 1 21\n",
      "light 4 22\n",
      "light 5 23\n",
      "light 16 24\n",
      "light 6 25\n",
      "tablet computer charger 1 26\n",
      "active subwoofer 1 27\n",
      "light 7 28\n",
      "radio 1 29\n",
      "light 8 30\n",
      "wireless phone charger 1 31\n",
      "light 9 32\n",
      "mobile phone charger 1 33\n",
      "light 10 34\n",
      "coffee maker 1 35\n",
      "radio 2 36\n",
      "mobile phone charger 2 37\n",
      "hair dryer 1 38\n",
      "hair straighteners 1 39\n",
      "clothes iron 1 40\n",
      "oven 1 41\n",
      "computer 1 42\n",
      "light 11 43\n",
      "light 12 44\n",
      "baby monitor 1 45\n",
      "charger 1 46\n",
      "light 13 47\n",
      "light 14 48\n",
      "light 15 49\n",
      "desktop computer 1 50\n",
      "fan 1 51\n",
      "printer 1 52\n",
      "------ 2\n",
      "laptop computer 1 1\n",
      "computer monitor 1 2\n",
      "active speaker 1 3\n",
      "computer 1 4\n",
      "broadband router 1 5\n",
      "external hard disk 1 6\n",
      "kettle 1 7\n",
      "rice cooker 1 8\n",
      "running machine 1 9\n",
      "laptop computer 2 10\n",
      "washing machine 1 11\n",
      "dish washer 1 12\n",
      "fridge 1 13\n",
      "microwave 1 14\n",
      "toaster 1 15\n",
      "games console 1 16\n",
      "modem 1 17\n",
      "cooker 1 18\n",
      "------ 3\n",
      "kettle 1 1\n",
      "electric space heater 1 2\n",
      "laptop computer 1 3\n",
      "projector 1 4\n",
      "------ 4\n",
      "television 1 1\n",
      "kettle 1 2\n",
      "boiler 1 3\n",
      "freezer 1 4\n",
      "washing machine 1 5\n",
      "------ 5\n",
      "active speaker 1 1\n",
      "desktop computer 1 2\n",
      "hair dryer 1 3\n",
      "television 1 4\n",
      "computer monitor 1 5\n",
      "running machine 1 6\n",
      "network attached storage 1 7\n",
      "server computer 1 8\n",
      "computer monitor 2 9\n",
      "games console 1 10\n",
      "clothes iron 1 11\n",
      "coffee maker 1 12\n",
      "desktop computer 2 13\n",
      "toaster 1 14\n",
      "audio amplifier 1 15\n",
      "set top box 1 16\n",
      "kettle 1 17\n",
      "fridge freezer 1 18\n",
      "electric oven 1 19\n",
      "electric stove 1 20\n",
      "dish washer 1 21\n",
      "microwave 1 22\n",
      "washer dryer 1 23\n",
      "vacuum cleaner 1 24\n"
     ]
    }
   ],
   "source": [
    "for building in dataset.buildings:\n",
    "#building = \n",
    "        print(\"------\",building)\n",
    "        count = 0\n",
    "        for meter in dataset.buildings[building].elec.submeters().meters:\n",
    "                count += 1\n",
    "                # get name and instance of an appliance from metadata\n",
    "                appliance_metadata = meter.appliances[0].metadata\n",
    "                label = appliance_metadata.get(\"type\")\n",
    "                instance = appliance_metadata.get(\"instance\")\n",
    "                print(label,instance,count)\n",
    "                "
   ]
  },
  {
   "cell_type": "code",
   "execution_count": 11,
   "metadata": {},
   "outputs": [
    {
     "name": "stdout",
     "output_type": "stream",
     "text": [
      "HTPC 1\n"
     ]
    }
   ],
   "source": [
    "#for n in range(len(dataset.buildings[building].elec.submeters().meters)):\n",
    "\n",
    "meter = dataset.buildings[1].elec.submeters().meters[7]\n",
    "    \n",
    "# get name and instance of an appliance from metadata\n",
    "appliance_metadata = meter.appliances[0].metadata\n",
    "label = appliance_metadata.get(\"type\")\n",
    "instance = appliance_metadata.get(\"instance\")\n",
    "print(label,instance)"
   ]
  }
 ],
 "metadata": {
  "kernelspec": {
   "display_name": "Python 3",
   "language": "python",
   "name": "python3"
  },
  "language_info": {
   "codemirror_mode": {
    "name": "ipython",
    "version": 3
   },
   "file_extension": ".py",
   "mimetype": "text/x-python",
   "name": "python",
   "nbconvert_exporter": "python",
   "pygments_lexer": "ipython3",
   "version": "3.6.11"
  },
  "orig_nbformat": 2
 },
 "nbformat": 4,
 "nbformat_minor": 2
}
