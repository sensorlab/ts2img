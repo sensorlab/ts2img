{
 "cells": [
  {
   "cell_type": "code",
   "execution_count": 141,
   "metadata": {},
   "outputs": [
    {
     "data": {
      "text/plain": [
       "<Figure size 720x2160 with 0 Axes>"
      ]
     },
     "execution_count": 141,
     "metadata": {},
     "output_type": "execute_result"
    },
    {
     "data": {
      "text/plain": [
       "<Figure size 720x2160 with 0 Axes>"
      ]
     },
     "metadata": {},
     "output_type": "display_data"
    }
   ],
   "source": [
    "import h5py\n",
    "import numpy as np\n",
    "\n",
    "import random\n",
    "from matplotlib import rcParams\n",
    "import matplotlib.pyplot as plt\n",
    "import pandas as pd\n",
    "import numpy as np\n",
    "from random import randint\n",
    "\n",
    "plt.style.use('ggplot')\n",
    "rcParams['figure.figsize'] = (12, 10)\n",
    "plt.figure(figsize=(10,30))"
   ]
  },
  {
   "cell_type": "code",
   "execution_count": null,
   "metadata": {},
   "outputs": [],
   "source": [
    "file.close()"
   ]
  },
  {
   "cell_type": "code",
   "execution_count": 265,
   "metadata": {},
   "outputs": [],
   "source": [
    "#if file does not exist create new one (M-n of months A-n of appliances)\n",
    "file_name = \"ukdale_H_test_GASF_13m_100S10X_Y-TS_1A10N_AB_N-O_Y-S\"\n",
    "path = \"D:/jjenko/nilm data/GAF_DS/\"\n",
    "file = h5py.File(f\"{path}\"\"/\"f\"{file_name}\"\".hdf5\", \"r+\")\n"
   ]
  },
  {
   "cell_type": "code",
   "execution_count": 266,
   "metadata": {},
   "outputs": [
    {
     "name": "stdout",
     "output_type": "stream",
     "text": [
      "ukdale microwave 1\n",
      "ukdale microwave 2\n",
      "ukdale microwave 5\n"
     ]
    }
   ],
   "source": [
    "for dataset in file.keys():\n",
    "    if dataset == \"ukdale\":\n",
    "        for appliance in file[f'{dataset}'].keys():\n",
    "            for building in file[f'{dataset}'\"/\"f'{appliance}'].keys():\n",
    "                train_data = file[dataset+\"/\"+appliance+\"/\"+building+\"/gaf\"]\n",
    "                source_data = file[dataset+\"/\"+appliance+\"/\"+building+\"/ts\"]\n",
    "                print(dataset,appliance,building)\n",
    "            "
   ]
  },
  {
   "cell_type": "code",
   "execution_count": 192,
   "metadata": {},
   "outputs": [
    {
     "data": {
      "text/plain": [
       "0.0"
      ]
     },
     "execution_count": 192,
     "metadata": {},
     "output_type": "execute_result"
    }
   ],
   "source": [
    "source_data[1,3,...,0]"
   ]
  },
  {
   "cell_type": "code",
   "execution_count": 279,
   "metadata": {},
   "outputs": [
    {
     "data": {
      "text/plain": [
       "[<matplotlib.lines.Line2D at 0xe741f0a0>]"
      ]
     },
     "execution_count": 279,
     "metadata": {},
     "output_type": "execute_result"
    },
    {
     "data": {
      "image/png": "[encoded data removed]",
      "text/plain": [
       "<Figure size 864x720 with 1 Axes>"
      ]
     },
     "metadata": {},
     "output_type": "display_data"
    },
    {
     "data": {
      "image/png": "[encoded data removed]",
      "text/plain": [
       "<Figure size 864x720 with 1 Axes>"
      ]
     },
     "metadata": {},
     "output_type": "display_data"
    }
   ],
   "source": [
    "someN = 4\n",
    "someM = 3\n",
    "fig, ax = plt.subplots()\n",
    "ax.imshow(train_data[someN,someM,...,0], cmap='rainbow')\n",
    "fig, ax = plt.subplots()\n",
    "\n",
    "ax.plot(source_data[someN][someM])\n",
    "\n"
   ]
  },
  {
   "cell_type": "code",
   "execution_count": null,
   "metadata": {},
   "outputs": [],
   "source": [
    "#reading h5 file example [OLD]\n",
    "file_name = \"ECO_GASF_13m_100S10X_3A150N_N-B4_N-O_Y-S\"\n",
    "dataset= \"redd\"\n",
    "path = \"D:/jjenko/nilm data/GAF_DS/\"\n",
    "#read the file\n",
    "file = h5py.File(f\"{path}\"\"/\"f\"{file_name}\"\".hdf5\", \"r+\")\n",
    "#fetch array of appliances\n",
    "enc_appliances = np.array(file[\"classes/appliances\"])\n",
    "manualy_selected_appliances  = [n.decode(\"utf-8\") for n in enc_appliances]\n",
    "\n",
    "print(manualy_selected_appliances)\n",
    "\n",
    "weights = np.array(file[\"classes/weights\"])\n",
    "\n",
    "train_data = np.array(file[\"data/gasf\"])\n",
    "label_data = np.array(file[\"labels/gaf\"])\n",
    "label_data_buildings = np.array(file[\"labels/building\"])\n",
    "print(\"labels unique\", np.unique(label_data))\n",
    "print(\"labels\",label_data.shape)\n",
    "print(\"building labels\",label_data.shape)\n",
    "print(\"train data shape:\",train_data.shape)\n",
    "file.close()"
   ]
  },
  {
   "cell_type": "code",
   "execution_count": null,
   "metadata": {},
   "outputs": [],
   "source": [
    "#save figures (old)\n",
    "labels = np.unique(label_data)\n",
    "for label in labels :\n",
    "    indexes_of_label = np.where(label_data == label)\n",
    "    for i in range(10):\n",
    "        # Show retrieved image\n",
    "        fig, ax = plt.subplots()\n",
    "        #for multudim\n",
    "        #ax.imshow(train_data[random.choice(indexes_of_label[0]),randint(0,),...,0], cmap='rainbow',origin='lower')\n",
    "        #for 1D\n",
    "        ax.imshow(train_data[random.choice(indexes_of_label[0]),...,0], cmap='rainbow',origin='lower')\n",
    "        appl = manualy_selected_appliances[np.where(labels==label)[0][0]]\n",
    "        fig.savefig(\"D:/jjenko/nilm data/GAF_DS/imgs/\"f\"{dataset}\"\"/\"f\"{i}\"\"_\"f\"{appl}\"\".png\")\n",
    "        plt.close()\n"
   ]
  }
 ],
 "metadata": {
  "kernelspec": {
   "display_name": "Python 3",
   "language": "python",
   "name": "python3"
  },
  "orig_nbformat": 2
 },
 "nbformat": 4,
 "nbformat_minor": 2
}
